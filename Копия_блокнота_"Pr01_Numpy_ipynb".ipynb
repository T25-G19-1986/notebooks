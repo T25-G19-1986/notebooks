{
  "nbformat": 4,
  "nbformat_minor": 0,
  "metadata": {
    "colab": {
      "name": "Копия блокнота \"Pr01_Numpy.ipynb\"",
      "provenance": [],
      "collapsed_sections": [],
      "toc_visible": true
    },
    "kernelspec": {
      "display_name": "Python 3",
      "name": "python3"
    }
  },
  "cells": [
    {
      "cell_type": "markdown",
      "metadata": {
        "id": "-JUOp2KEdHTn"
      },
      "source": [
        "# Numpy\n"
      ]
    },
    {
      "cell_type": "markdown",
      "metadata": {
        "id": "oTtiG3HMz-Rt"
      },
      "source": [
        "Numpy - это библиотека для математических вычислений. Написана на языке С, поэтому считается наиболее предпочтительным вариантом при работе с многомерными массивами из-за производительности.\n",
        "\n",
        "[Официальный сайт](https://numpy.org/doc/stable/) последней версии.\n",
        "\n",
        "Начало работы с `numpy` заключается в подключении модуля. При этом в практике применения есть уже общепринятое сокращение для него под названием `np`:"
      ]
    },
    {
      "cell_type": "code",
      "metadata": {
        "id": "2HARN7afZ1Fk"
      },
      "source": [
        "import numpy as np"
      ],
      "execution_count": null,
      "outputs": []
    },
    {
      "cell_type": "markdown",
      "metadata": {
        "id": "81-wHdEbg-qI"
      },
      "source": [
        "> Если вы ранее работали с MATLAB, обратите внимание, как некоторые подходы и функции схожи."
      ]
    },
    {
      "cell_type": "markdown",
      "metadata": {
        "id": "woHgRbgPZ99s"
      },
      "source": [
        "# Создание массивов"
      ]
    },
    {
      "cell_type": "markdown",
      "metadata": {
        "id": "DVVfQ6DwaBUH"
      },
      "source": [
        "Для того, чтобы начать работать с `numpy`, мы должны научиться создавать объекты `ndarray`, которые по сути являются N-мерными массивами."
      ]
    },
    {
      "cell_type": "code",
      "metadata": {
        "id": "kQqPek1xZ2y7"
      },
      "source": [
        "# Самый просто способ создать массив numpy - взять уже существующий list и передать в функцию np.array()\n",
        "arr_1d = np.array([1, 2, 3])"
      ],
      "execution_count": null,
      "outputs": []
    },
    {
      "cell_type": "code",
      "metadata": {
        "colab": {
          "base_uri": "https://localhost:8080/",
          "height": 127
        },
        "id": "7thycVOKbCJ7",
        "outputId": "2b775e77-01f1-45f3-f435-c2a53fee3104"
      },
      "source": [
        "# Теперь проверим \n",
        "#   - тип объекта c помощью функции type()\n",
        "#   - размерность с помощью аттрибута .shape\n",
        "#   - доступ по индексам, как у обычного list\n",
        "\n",
        "# Для отладки можно выводить небольшие массивы прямо через print()\n",
        "\n",
        "print(arr_1d)\n",
        "print(type(arr_1d))\n",
        "print(arr_1d.shape)\n",
        "print(arr_1d[0])\n",
        "print(arr_1d[2])\n",
        "print(arr_1d[-1])"
      ],
      "execution_count": null,
      "outputs": [
        {
          "output_type": "stream",
          "text": [
            "[1 2 3]\n",
            "<class 'numpy.ndarray'>\n",
            "(3,)\n",
            "1\n",
            "3\n",
            "3\n"
          ],
          "name": "stdout"
        }
      ]
    },
    {
      "cell_type": "markdown",
      "metadata": {
        "id": "90qAyGF8bLLs"
      },
      "source": [
        "> Обратите внимание, индекс с отрицательным значением означает индексацию с конца. Это возможность языка Python. В данном случае индекс -1 ~ 2, так как 2 - последний индекс в массиве из трех элементов. Аналогично, если хотите взять второй элемент с конца, то можете использовать индекс -2 и т.д."
      ]
    },
    {
      "cell_type": "markdown",
      "metadata": {
        "id": "GlDZi0V_bijd"
      },
      "source": [
        "Как видите, объект имеет тип `np.ndarray`, таким образом описываются все массивы при работе с numpy. Размерность представляет собой кортеж с одним элементом (создали 1D массив ~ массив первого ранга в терминах numpy)."
      ]
    },
    {
      "cell_type": "code",
      "metadata": {
        "id": "WfMA2hmgcPFH"
      },
      "source": [
        "# Теперь создадим двумерный массив с помощью тех же list\n",
        "arr_2d = np.array([[1, 2, 3], [4, 5, 6]])"
      ],
      "execution_count": null,
      "outputs": []
    },
    {
      "cell_type": "code",
      "metadata": {
        "colab": {
          "base_uri": "https://localhost:8080/",
          "height": 146
        },
        "id": "ljaLlNS2cdvd",
        "outputId": "7631d409-3b7a-42dd-94f0-9b13aeb82ed3"
      },
      "source": [
        "# Проверим также тип, размерность и доступ по индексам\n",
        "\n",
        "print(arr_2d)\n",
        "print(type(arr_2d))\n",
        "print(arr_2d.shape)\n",
        "print(arr_2d[0, 0])\n",
        "print(arr_2d[1, 2])\n",
        "print(arr_2d[1, 0])"
      ],
      "execution_count": null,
      "outputs": [
        {
          "output_type": "stream",
          "text": [
            "[[1 2 3]\n",
            " [4 5 6]]\n",
            "<class 'numpy.ndarray'>\n",
            "(2, 3)\n",
            "1\n",
            "6\n",
            "4\n"
          ],
          "name": "stdout"
        }
      ]
    },
    {
      "cell_type": "markdown",
      "metadata": {
        "id": "wQKPgHh7cOlh"
      },
      "source": [
        "Теперь видно, что в кортеже размерности стало два элемента, при этом тип объекта никак не поменялся.\n",
        "\n",
        "Индексация в 2D массиве делается уже посредством двух индексов:\n",
        "- первый индекс - номер ряда (строки);\n",
        "- второй индекс - номер колонки (столбца).\n",
        "\n",
        "> В 1D массивах вообще никаких вопросов не возникает, в 2D (ряд, колонка), если разворачивать до 3D массивов, то можно интерпретировать как (ряд, колонка, глубина). Дальнейшие размерности уже сложнее в визуальной интерпретации, поэтому вместо названий для каждой размерности идет просто индексация."
      ]
    },
    {
      "cell_type": "markdown",
      "metadata": {
        "id": "zeUwMz9aem4U"
      },
      "source": [
        "Помимо способов создания массивов из уже существующих представлений в виде `list`, можно также создавать массивы по-другому. Рассмотрим некоторые из них:\n"
      ]
    },
    {
      "cell_type": "code",
      "metadata": {
        "colab": {
          "base_uri": "https://localhost:8080/",
          "height": 109
        },
        "id": "W8EnLNXlf6HW",
        "outputId": "a998413d-c43d-429c-f001-d0de2dca30b3"
      },
      "source": [
        "# Создание массива фиксированного размера\n",
        "np.ndarray((5, 3))"
      ],
      "execution_count": null,
      "outputs": [
        {
          "output_type": "execute_result",
          "data": {
            "text/plain": [
              "array([[1.71397934e-316, 1.01855798e-312, 1.03977794e-312],\n",
              "       [9.54898106e-313, 1.06099790e-312, 1.03977794e-312],\n",
              "       [1.23075756e-312, 1.16709769e-312, 1.03977794e-312],\n",
              "       [9.76118064e-313, 1.01855798e-312, 1.12465777e-312],\n",
              "       [1.12465777e-312, 4.44659081e-322, 0.00000000e+000]])"
            ]
          },
          "metadata": {
            "tags": []
          },
          "execution_count": 7
        }
      ]
    },
    {
      "cell_type": "markdown",
      "metadata": {
        "id": "IAHEQ5N2gUP_"
      },
      "source": [
        "В представленном способе мы напрямую вызываем конструктор и передаем ему размерность. Какими числами будет заполнен массив - никто не знает. Вероятнее всего, это будут нули, но для уверенности лучше самостоятельно заполнить такой массив данными."
      ]
    },
    {
      "cell_type": "code",
      "metadata": {
        "colab": {
          "base_uri": "https://localhost:8080/",
          "height": 54
        },
        "id": "U4fnZoDMgJc6",
        "outputId": "936dd4f7-18d6-4e1e-9f53-cb8f5e229346"
      },
      "source": [
        "# Явное создание массива нулей\n",
        "np.zeros((2, 3))"
      ],
      "execution_count": null,
      "outputs": [
        {
          "output_type": "execute_result",
          "data": {
            "text/plain": [
              "array([[0., 0., 0.],\n",
              "       [0., 0., 0.]])"
            ]
          },
          "metadata": {
            "tags": []
          },
          "execution_count": 7
        }
      ]
    },
    {
      "cell_type": "code",
      "metadata": {
        "colab": {
          "base_uri": "https://localhost:8080/",
          "height": 72
        },
        "id": "AaJSBHSdgtCY",
        "outputId": "7c72abcf-2bc0-400f-e208-ca4ce9fac850"
      },
      "source": [
        "# Явное создание массива единиц\n",
        "np.ones((3, 2))"
      ],
      "execution_count": null,
      "outputs": [
        {
          "output_type": "execute_result",
          "data": {
            "text/plain": [
              "array([[1., 1.],\n",
              "       [1., 1.],\n",
              "       [1., 1.]])"
            ]
          },
          "metadata": {
            "tags": []
          },
          "execution_count": 8
        }
      ]
    },
    {
      "cell_type": "code",
      "metadata": {
        "colab": {
          "base_uri": "https://localhost:8080/",
          "height": 72
        },
        "id": "8_elMSoK7wQL",
        "outputId": "5f844254-7e29-463f-80da-4a3ed6335043"
      },
      "source": [
        "# Создание массива, заполненного константным значением\n",
        "np.full((3, 4), 5)"
      ],
      "execution_count": null,
      "outputs": [
        {
          "output_type": "execute_result",
          "data": {
            "text/plain": [
              "array([[5, 5, 5, 5],\n",
              "       [5, 5, 5, 5],\n",
              "       [5, 5, 5, 5]])"
            ]
          },
          "metadata": {
            "tags": []
          },
          "execution_count": 9
        }
      ]
    },
    {
      "cell_type": "code",
      "metadata": {
        "colab": {
          "base_uri": "https://localhost:8080/",
          "height": 72
        },
        "id": "iNN2C908gwUB",
        "outputId": "fea19457-8010-4917-e263-52db2b0e140a"
      },
      "source": [
        "# 2D массив с единичной главной диагональю\n",
        "# (*) В этой функции размерность задается не кортежем, а отдельными аргументами\n",
        "np.eye(3, 2)"
      ],
      "execution_count": null,
      "outputs": [
        {
          "output_type": "execute_result",
          "data": {
            "text/plain": [
              "array([[1., 0.],\n",
              "       [0., 1.],\n",
              "       [0., 0.]])"
            ]
          },
          "metadata": {
            "tags": []
          },
          "execution_count": 10
        }
      ]
    },
    {
      "cell_type": "code",
      "metadata": {
        "id": "x8cGz7nIhbbE"
      },
      "source": [
        "# Создание массива нулей с такой же размерностью, как уже существующий\n",
        "arr_2d = np.array([[1, 2, 3], [4, 5, 6]])\n",
        "\n",
        "np.zeros_like(arr_2d)"
      ],
      "execution_count": null,
      "outputs": []
    },
    {
      "cell_type": "code",
      "metadata": {
        "id": "BqDTBiWzhj9R"
      },
      "source": [
        "# Создание массива единиц с такой же размерностью, как уже существующий\n",
        "arr_2d = np.array([[1, 2, 3], [4, 5, 6]])\n",
        "\n",
        "np.ones_like(arr_2d)"
      ],
      "execution_count": null,
      "outputs": []
    },
    {
      "cell_type": "code",
      "metadata": {
        "colab": {
          "base_uri": "https://localhost:8080/",
          "height": 54
        },
        "id": "MOqhVLYL7flG",
        "outputId": "3eb275b6-2134-4bc5-caa0-56291c183a3e"
      },
      "source": [
        "# Создание массива со случайными значениями в интервале [0; 1.0)\n",
        "np.random.random((2,2))"
      ],
      "execution_count": null,
      "outputs": [
        {
          "output_type": "execute_result",
          "data": {
            "text/plain": [
              "array([[0.07429268, 0.37745158],\n",
              "       [0.52945227, 0.38896473]])"
            ]
          },
          "metadata": {
            "tags": []
          },
          "execution_count": 8
        }
      ]
    },
    {
      "cell_type": "code",
      "metadata": {
        "colab": {
          "base_uri": "https://localhost:8080/",
          "height": 35
        },
        "id": "PwWoeq26zmFm",
        "outputId": "6dbe90d5-63f7-45f9-d34d-8883bd94e143"
      },
      "source": [
        "# Аналог функции range\n",
        "np.arange(start=1, stop=10, step=1.5)"
      ],
      "execution_count": null,
      "outputs": [
        {
          "output_type": "execute_result",
          "data": {
            "text/plain": [
              "array([1. , 2.5, 4. , 5.5, 7. , 8.5])"
            ]
          },
          "metadata": {
            "tags": []
          },
          "execution_count": 9
        }
      ]
    },
    {
      "cell_type": "code",
      "metadata": {
        "colab": {
          "base_uri": "https://localhost:8080/",
          "height": 54
        },
        "id": "adlhJ7Hnz-z9",
        "outputId": "24464916-8394-4755-a528-be491c1bf5d4"
      },
      "source": [
        "# Также создание диапазона значений, но уже с заданием количества элементов\n",
        "# (*) stop уже входит в создаваемый диапазон\n",
        "np.linspace(start=1, stop=2, num=10)"
      ],
      "execution_count": null,
      "outputs": [
        {
          "output_type": "execute_result",
          "data": {
            "text/plain": [
              "array([1.        , 1.11111111, 1.22222222, 1.33333333, 1.44444444,\n",
              "       1.55555556, 1.66666667, 1.77777778, 1.88888889, 2.        ])"
            ]
          },
          "metadata": {
            "tags": []
          },
          "execution_count": 10
        }
      ]
    },
    {
      "cell_type": "markdown",
      "metadata": {
        "id": "S-szHgm6hq7X"
      },
      "source": [
        "# Хитрая индексация"
      ]
    },
    {
      "cell_type": "markdown",
      "metadata": {
        "id": "LYFlLDO5huxy"
      },
      "source": [
        "Индексация в Python не ограничивается заданием конкретных индексов для получения значений в контейнерах (стандартных или массивов `ndarray`). Существуют специальные символы и подходы для работы с диапазонами данных, которые не только упрощают и улучшают код, но и выполняются более быстро, нежели проходы по массивам циклом.\n",
        "\n",
        "Начнем со знакомства с символом `:`, который позволяет задавать диапазон индексов для чтения/записи контейнеров."
      ]
    },
    {
      "cell_type": "code",
      "metadata": {
        "id": "9UClHM52huJi"
      },
      "source": [
        "# Для начала на простом списке (1D массива)\n",
        "# Следующее создание массива можно заменить list(range(1, 11))\n",
        "arr = [1, 2, 3, 4, 5, 6, 7, 8, 9, 10]"
      ],
      "execution_count": null,
      "outputs": []
    },
    {
      "cell_type": "code",
      "metadata": {
        "colab": {
          "base_uri": "https://localhost:8080/",
          "height": 72
        },
        "id": "eltg4vei7P2R",
        "outputId": "078d7557-a2fa-45be-884f-4d29bfc555d1"
      },
      "source": [
        "# Простая индексация\n",
        "print(arr[0])\n",
        "print(arr[-2])\n",
        "print(arr[5])"
      ],
      "execution_count": null,
      "outputs": [
        {
          "output_type": "stream",
          "text": [
            "1\n",
            "9\n",
            "6\n"
          ],
          "name": "stdout"
        }
      ]
    },
    {
      "cell_type": "markdown",
      "metadata": {
        "id": "dzWHdiZw8GlN"
      },
      "source": [
        "Для получения подмассива (части массива) или записи в подмассив используется нотация $$index_{start}:index_{end}:step$$\n",
        "\n",
        "- $index_{start}$ - индекс начала подмассива\n",
        "- $index_{end}$ - индекс конца подмассива\n",
        "- $step$ - шаг подмассива"
      ]
    },
    {
      "cell_type": "code",
      "metadata": {
        "id": "w3x1hjul7ZnM"
      },
      "source": [
        "# Получение части массива от 2го элемента до 6го (не включительно) \n",
        "#   с шагом 2 \n",
        "print(arr[2:8:2])"
      ],
      "execution_count": null,
      "outputs": []
    },
    {
      "cell_type": "code",
      "metadata": {
        "id": "UeghJuRp9XSG"
      },
      "source": [
        "# Если шаг не задан, то он равен единице (при этом второй раз : не пишется)\n",
        "print(arr[2:8])"
      ],
      "execution_count": null,
      "outputs": []
    },
    {
      "cell_type": "code",
      "metadata": {
        "colab": {
          "base_uri": "https://localhost:8080/",
          "height": 35
        },
        "id": "f2et5vq_9YQ0",
        "outputId": "8bf801ce-34fc-4e75-a21b-7a2ccb0293a7"
      },
      "source": [
        "# Шаг может быть и отрицательным (индексы меняются местами)\n",
        "print(arr[8:2:-1])"
      ],
      "execution_count": null,
      "outputs": [
        {
          "output_type": "stream",
          "text": [
            "[9, 8, 7, 6, 5, 4]\n"
          ],
          "name": "stdout"
        }
      ]
    },
    {
      "cell_type": "code",
      "metadata": {
        "colab": {
          "base_uri": "https://localhost:8080/",
          "height": 54
        },
        "id": "THxAw6mR9ZK1",
        "outputId": "44bd8afa-3022-4f38-e5f7-6ee4fb2265cb"
      },
      "source": [
        "# Если не задавать index_start или index_end, \n",
        "#   то они будут равны индексу начала и конца массива\n",
        "print(arr[2:])\n",
        "print(arr[:8])"
      ],
      "execution_count": null,
      "outputs": [
        {
          "output_type": "stream",
          "text": [
            "[3, 4, 5, 6, 7, 8, 9, 10]\n",
            "[1, 2, 3, 4, 5, 6, 7, 8]\n"
          ],
          "name": "stdout"
        }
      ]
    },
    {
      "cell_type": "code",
      "metadata": {
        "id": "Ti3t0ZVa9gfe"
      },
      "source": [
        "# Можно комбинировать один из индексов и шаг\n",
        "print(arr[2::2])\n",
        "print(arr[:8:3])"
      ],
      "execution_count": null,
      "outputs": []
    },
    {
      "cell_type": "code",
      "metadata": {
        "id": "xj257QBQ-LsQ"
      },
      "source": [
        "# И не забываем, что все трюки работают и на запись\n",
        "new_arr = list(range(1, 11))\n",
        "\n",
        "new_arr[1:5] = arr[:4]\n",
        "print(new_arr)"
      ],
      "execution_count": null,
      "outputs": []
    },
    {
      "cell_type": "code",
      "metadata": {
        "colab": {
          "base_uri": "https://localhost:8080/",
          "height": 35
        },
        "id": "UiQHCjYPAreX",
        "outputId": "4df5c643-2cad-405d-89ac-a66e82aff6e2"
      },
      "source": [
        "# Не самая полезная, но все же запись (получить весь диапазон)\n",
        "print(arr[:])"
      ],
      "execution_count": null,
      "outputs": [
        {
          "output_type": "stream",
          "text": [
            "[1, 2, 3, 4, 5, 6, 7, 8, 9, 10]\n"
          ],
          "name": "stdout"
        }
      ]
    },
    {
      "cell_type": "markdown",
      "metadata": {
        "id": "Y1CX7Bpi91aI"
      },
      "source": [
        "## Задание\n",
        "\n",
        "Объясните результат операции:"
      ]
    },
    {
      "cell_type": "code",
      "metadata": {
        "colab": {
          "base_uri": "https://localhost:8080/",
          "height": 35
        },
        "id": "HRS-xvPK97di",
        "outputId": "bfa42f79-9a57-494e-a994-a24d5965acc6"
      },
      "source": [
        "print(arr[:5:-2])\n",
        "#starts from 9(10) 7(8)"
      ],
      "execution_count": null,
      "outputs": [
        {
          "output_type": "stream",
          "text": [
            "[10, 8]\n"
          ],
          "name": "stdout"
        }
      ]
    },
    {
      "cell_type": "markdown",
      "metadata": {
        "id": "CmTGLk0n_K8w"
      },
      "source": [
        "## Задание\n",
        "\n",
        "Получите перевернутый список:"
      ]
    },
    {
      "cell_type": "code",
      "metadata": {
        "colab": {
          "base_uri": "https://localhost:8080/",
          "height": 54
        },
        "id": "7XJaNnuf_TUl",
        "outputId": "59f931ea-5198-4aef-cf7b-a1cbd62ba60d"
      },
      "source": [
        "data = list(range(10))\n",
        "print(data)\n",
        "N1 = list(range(9))\n",
        "N1[:8]=data[9:0:-1]\n",
        "N1[9]=data[0]\n",
        "\n",
        "print(N1[:])\n",
        "\n",
        "# TODO - [9, 8, 7, 6, 5, 4, 3, 2, 1, 0]"
      ],
      "execution_count": null,
      "outputs": [
        {
          "output_type": "stream",
          "text": [
            "[0, 1, 2, 3, 4, 5, 6, 7, 8, 9]\n",
            "[9, 8, 7, 6, 5, 4, 3, 2, 1, 0]\n"
          ],
          "name": "stdout"
        }
      ]
    },
    {
      "cell_type": "markdown",
      "metadata": {
        "id": "TT3t4yG5B8XW"
      },
      "source": [
        "## Задание\n",
        "\n",
        "Получите массив без первого и двух последних элементов:"
      ]
    },
    {
      "cell_type": "code",
      "metadata": {
        "colab": {
          "base_uri": "https://localhost:8080/",
          "height": 35
        },
        "id": "evJXMrHrCFFj",
        "outputId": "5658f38a-d01e-4219-8163-9bdc1f483cff"
      },
      "source": [
        "data = list(range(10))\n",
        "data[:]=data[1:8]\n",
        "print(data)\n",
        "\n",
        "# TODO - [1, 2, 3, 4, 5, 6, 7]"
      ],
      "execution_count": null,
      "outputs": [
        {
          "output_type": "stream",
          "text": [
            "[1, 2, 3, 4, 5, 6, 7]\n"
          ],
          "name": "stdout"
        }
      ]
    },
    {
      "cell_type": "markdown",
      "metadata": {
        "id": "yr_Sgpxeg7nG"
      },
      "source": [
        "# Хитрая индексация в матрицах"
      ]
    },
    {
      "cell_type": "markdown",
      "metadata": {
        "id": "4vzYWeA1_nL4"
      },
      "source": [
        "Работа с одномерными списками удобна даже через класс `list`, но 2D массивы уже удобнее использовать через библиотеку numpy. Использование numpy никак не ограничивает применение такой индексации, так что можно делать много классных штук:"
      ]
    },
    {
      "cell_type": "code",
      "metadata": {
        "colab": {
          "base_uri": "https://localhost:8080/",
          "height": 72
        },
        "id": "roSKMhOd_7HG",
        "outputId": "a67fe107-128d-4a36-c6f2-4b3959590bef"
      },
      "source": [
        "arr = np.array([[1, 2, 3, 4], [5, 6, 7, 8], [9, 10, 11, 12]])\n",
        "print(arr)"
      ],
      "execution_count": null,
      "outputs": [
        {
          "output_type": "stream",
          "text": [
            "[[ 1  2  3  4]\n",
            " [ 5  6  7  8]\n",
            " [ 9 10 11 12]]\n"
          ],
          "name": "stdout"
        }
      ]
    },
    {
      "cell_type": "markdown",
      "metadata": {
        "id": "bw7Re8l_ASG0"
      },
      "source": [
        "В индексации numpy есть очень полезное правило: если последующие индексы не заданы, то они принимаются как \"весь диапазон\". Например, в двумерном массиве мы индексируем по двум числам $[3, 2]$. Если в 2D массиве задать индекс $[3]$, то это эквивалентно индексации $[3, :]$, то есть третий ряд, все колонки.\n",
        "\n",
        "В плане предшествующих индексов это не работает, поэтому, чтобы получить целую колонку, надо индексировать $[:, 2]$."
      ]
    },
    {
      "cell_type": "code",
      "metadata": {
        "colab": {
          "base_uri": "https://localhost:8080/",
          "height": 54
        },
        "id": "KhiA2r2-AK5d",
        "outputId": "662ed69f-e476-4c69-9177-86cd9c5211b9"
      },
      "source": [
        "# Получим вторую строку массива\n",
        "print(arr[2])\n",
        "print(arr[2, :])"
      ],
      "execution_count": null,
      "outputs": [
        {
          "output_type": "stream",
          "text": [
            "[ 9 10 11 12]\n",
            "[ 9 10 11 12]\n"
          ],
          "name": "stdout"
        }
      ]
    },
    {
      "cell_type": "code",
      "metadata": {
        "colab": {
          "base_uri": "https://localhost:8080/",
          "height": 35
        },
        "id": "dF2bEK7dBU5C",
        "outputId": "420ca20a-a551-4828-83d3-cc97de90dc9a"
      },
      "source": [
        "# Получим первую колонку массива\n",
        "print(arr[:, 1])"
      ],
      "execution_count": null,
      "outputs": [
        {
          "output_type": "stream",
          "text": [
            "[ 2  6 10]\n"
          ],
          "name": "stdout"
        }
      ]
    },
    {
      "cell_type": "code",
      "metadata": {
        "colab": {
          "base_uri": "https://localhost:8080/",
          "height": 35
        },
        "id": "MjkcYLIUBoIZ",
        "outputId": "0322fe3e-13cf-4872-cbad-834d9d4de9fe"
      },
      "source": [
        "# Получить первые два элемента (первые две колонки) первого ряда\n",
        "print(arr[1, :2])"
      ],
      "execution_count": null,
      "outputs": [
        {
          "output_type": "stream",
          "text": [
            "[5 6]\n"
          ],
          "name": "stdout"
        }
      ]
    },
    {
      "cell_type": "code",
      "metadata": {
        "colab": {
          "base_uri": "https://localhost:8080/",
          "height": 127
        },
        "id": "nsjlZWVkC4JV",
        "outputId": "1894808f-0db9-4710-e350-c3781f1fa715"
      },
      "source": [
        "# Можно повторять целые части массива\n",
        "#   (но при этом должны соотноситься размерности)\n",
        "# ndarray.copy() - функция копирования массива\n",
        "# Копируем, чтобы не изменить оригинальный\n",
        "new_arr = arr.copy()\n",
        "print(arr)\n",
        "\n",
        "new_arr[2, :] = arr[1, :]\n",
        "print(new_arr)"
      ],
      "execution_count": null,
      "outputs": [
        {
          "output_type": "stream",
          "text": [
            "[[ 1  2  3  4]\n",
            " [ 5  6  7  8]\n",
            " [ 9 10 11 12]]\n",
            "[[1 2 3 4]\n",
            " [5 6 7 8]\n",
            " [5 6 7 8]]\n"
          ],
          "name": "stdout"
        }
      ]
    },
    {
      "cell_type": "code",
      "metadata": {
        "colab": {
          "base_uri": "https://localhost:8080/",
          "height": 72
        },
        "id": "Cok9ET1xDpHL",
        "outputId": "ad643a2e-4767-4f7d-af3a-e4da55ce2b9b"
      },
      "source": [
        "# При этом, такая индексация - это новый массив со своей размерностью.\n",
        "print(arr[:2, :2])\n",
        "print(arr[:2, :2].shape)"
      ],
      "execution_count": null,
      "outputs": [
        {
          "output_type": "stream",
          "text": [
            "[[1 2]\n",
            " [5 6]]\n",
            "(2, 2)\n"
          ],
          "name": "stdout"
        }
      ]
    },
    {
      "cell_type": "code",
      "metadata": {
        "colab": {
          "base_uri": "https://localhost:8080/",
          "height": 72
        },
        "id": "cc0YJBmSEDlb",
        "outputId": "5fc869e5-e96c-4d59-aa19-9b2762125798"
      },
      "source": [
        "# В качестве индексов можно также задавать другие массивы\n",
        "# Получаем первую и последнюю колонки\n",
        "print(arr[:, [0, -1]])"
      ],
      "execution_count": null,
      "outputs": [
        {
          "output_type": "stream",
          "text": [
            "[[ 1  4]\n",
            " [ 5  8]\n",
            " [ 9 12]]\n"
          ],
          "name": "stdout"
        }
      ]
    },
    {
      "cell_type": "code",
      "metadata": {
        "colab": {
          "base_uri": "https://localhost:8080/",
          "height": 72
        },
        "id": "296Ww5MDFaY4",
        "outputId": "5fd437ca-bab1-456f-cbdd-c4c2c9991b58"
      },
      "source": [
        "# И таким образом никто не заставляет писать в том же порядке индексы\n",
        "# Перемешаем ряды\n",
        "print(arr[[2, 0, 1], :])"
      ],
      "execution_count": null,
      "outputs": [
        {
          "output_type": "stream",
          "text": [
            "[[ 9 10 11 12]\n",
            " [ 1  2  3  4]\n",
            " [ 5  6  7  8]]\n"
          ],
          "name": "stdout"
        }
      ]
    },
    {
      "cell_type": "code",
      "metadata": {
        "colab": {
          "base_uri": "https://localhost:8080/",
          "height": 54
        },
        "id": "RFkxEluyFpZb",
        "outputId": "c1339b44-3a67-4a4e-cea1-a5257af07413"
      },
      "source": [
        "# Также, можно комбинировать способы задания\n",
        "print(arr[[2, 0], [1, 3]])\n",
        "# То же самое, только первая запись дает массив\n",
        "print(arr[2, 1], arr[0, 3])"
      ],
      "execution_count": null,
      "outputs": [
        {
          "output_type": "stream",
          "text": [
            "[10  4]\n",
            "10 4\n"
          ],
          "name": "stdout"
        }
      ]
    },
    {
      "cell_type": "code",
      "metadata": {
        "colab": {
          "base_uri": "https://localhost:8080/",
          "height": 127
        },
        "id": "EKQkjUnxE4vN",
        "outputId": "32e84361-1133-4c59-bd97-368d5fcc57ac"
      },
      "source": [
        "# Создаем список возможных индексов для рядов массива\n",
        "row_indices = list(range(arr.shape[0]))\n",
        "print(row_indices)\n",
        "\n",
        "# Переворачиваем его\n",
        "row_indices = list(reversed(row_indices))\n",
        "print(row_indices)\n",
        "\n",
        "# Используем для индексации\n",
        "print('----------------')\n",
        "print(arr[row_indices])"
      ],
      "execution_count": null,
      "outputs": [
        {
          "output_type": "stream",
          "text": [
            "[0, 1, 2]\n",
            "[2, 1, 0]\n",
            "----------------\n",
            "[[ 9 10 11 12]\n",
            " [ 5  6  7  8]\n",
            " [ 1  2  3  4]]\n"
          ],
          "name": "stdout"
        }
      ]
    },
    {
      "cell_type": "markdown",
      "metadata": {
        "id": "4jVVCGMSCPWu"
      },
      "source": [
        "## Задание\n",
        "\n",
        "Получите массив без крайних рядов и колонок (по одной с каждой стороны)"
      ]
    },
    {
      "cell_type": "code",
      "metadata": {
        "colab": {
          "base_uri": "https://localhost:8080/",
          "height": 164
        },
        "id": "rJegDeQ6CcTD",
        "outputId": "4743c7bd-43e0-4d49-adcd-34f0a64a47f2"
      },
      "source": [
        "data = np.random.randint(low=0, high=10, size=(5, 6))\n",
        "print(data)\n",
        "data=data[1:4,1:5]\n",
        "print(data)\n",
        "\n",
        "# TODO - центральная часть массива размером (4, 5)"
      ],
      "execution_count": null,
      "outputs": [
        {
          "output_type": "stream",
          "text": [
            "[[5 9 8 0 2 5]\n",
            " [0 3 2 0 1 7]\n",
            " [2 4 7 6 4 7]\n",
            " [2 8 4 4 9 6]\n",
            " [4 1 9 2 5 1]]\n",
            "[[3 2 0 1]\n",
            " [4 7 6 4]\n",
            " [8 4 4 9]]\n"
          ],
          "name": "stdout"
        }
      ]
    },
    {
      "cell_type": "markdown",
      "metadata": {
        "id": "7R_2MeNRGsNq"
      },
      "source": [
        "## Задание\n",
        "\n",
        "Произведите перемешивание колонок с помощью функции `numpy.random.permutation()`:\n",
        "\n",
        "<details>\n",
        "<summary>Подсказка</summary>\n",
        "\n",
        "Перемешать колонки можно путем перемешивания списка возможных индексов колонок (`range(<col_count>)`) и затем индексацией этого списка по индексам колонок (`[:, cols]`).\n",
        "</details>"
      ]
    },
    {
      "cell_type": "code",
      "metadata": {
        "colab": {
          "base_uri": "https://localhost:8080/",
          "height": 127
        },
        "id": "EawZBVacHHk4",
        "outputId": "8aaa0112-d889-4ca6-98fe-e52b424a76ea"
      },
      "source": [
        "data = np.random.randint(low=0, high=10, size=(3, 6))\n",
        "print(data)\n",
        "indices = list((data.shape))\n",
        "indices=np.random.permutation(list(range(indices[1])))\n",
        "data=data[:,indices]\n",
        "print(data)\n",
        "# TODO - такой же массив, но со случайной перестановкой колонок"
      ],
      "execution_count": null,
      "outputs": [
        {
          "output_type": "stream",
          "text": [
            "[[3 4 5 5 4 1]\n",
            " [9 5 5 5 4 3]\n",
            " [5 0 1 2 4 4]]\n",
            "[[1 5 3 5 4 4]\n",
            " [3 5 9 5 5 4]\n",
            " [4 1 5 2 0 4]]\n"
          ],
          "name": "stdout"
        }
      ]
    },
    {
      "cell_type": "markdown",
      "metadata": {
        "id": "RKssiBX6IWQ4"
      },
      "source": [
        "# Типы данных в массивах"
      ]
    },
    {
      "cell_type": "markdown",
      "metadata": {
        "id": "1W373guIIYpQ"
      },
      "source": [
        "Массивы в numpy имеют не только размер, но и конкретный тип данных, которые хранятся внутри массива. При создании массива почти все функции создания имеют аргумент `dtype`, который означает, с каким типом создать данным массив. Также, класс `ndarray` имеет атрибут `dtype`, который означает тип хранимых данных. "
      ]
    },
    {
      "cell_type": "markdown",
      "metadata": {
        "id": "RkaZp3yUQ2l9"
      },
      "source": [
        "Подробнее можно прочитать в [документации](https://numpy.org/doc/stable/reference/arrays.dtypes.html)."
      ]
    },
    {
      "cell_type": "code",
      "metadata": {
        "colab": {
          "base_uri": "https://localhost:8080/",
          "height": 35
        },
        "id": "hhX2FD0xJC50",
        "outputId": "93d8db7e-1e34-43d4-fc99-4fb6c02a3890"
      },
      "source": [
        "# Создадим массив без задания типа - тип будет определен автоматически\n",
        "arr = np.array([[1, 2, 3, 4], [5, 6, 7, 8], [9, 10, 11, 12]])\n",
        "print(arr.dtype)\n",
        "\n",
        "# int, так как все элементы являются целочисленными"
      ],
      "execution_count": null,
      "outputs": [
        {
          "output_type": "stream",
          "text": [
            "int64\n"
          ],
          "name": "stdout"
        }
      ]
    },
    {
      "cell_type": "code",
      "metadata": {
        "colab": {
          "base_uri": "https://localhost:8080/",
          "height": 35
        },
        "id": "pVSghFu5JQTO",
        "outputId": "ffca1212-d3f8-4c5b-8fda-6f62fa0ee5ce"
      },
      "source": [
        "# Изменим один элемент на вещественный\n",
        "arr = np.array([[1.5, 2, 3, 4], [5, 6, 7, 8], [9, 10, 11, 12]])\n",
        "print(arr.dtype)\n",
        "\n",
        "# Один из элементов float, поэтому весь массив будет float"
      ],
      "execution_count": null,
      "outputs": [
        {
          "output_type": "stream",
          "text": [
            "float64\n"
          ],
          "name": "stdout"
        }
      ]
    },
    {
      "cell_type": "code",
      "metadata": {
        "colab": {
          "base_uri": "https://localhost:8080/",
          "height": 72
        },
        "id": "OfAofWauJePj",
        "outputId": "0a195589-e239-4eaf-b526-82ce464001b6"
      },
      "source": [
        "# Зададим явно тип массива\n",
        "# Хоть массив и содержит вещественные числа\n",
        "# мы создаем массив целочисленных, что приводит\n",
        "# к округлению\n",
        "arr = np.array([[1.1, 1.6, 2.4], [-1.7, 2.6, -1.2]], dtype=int)\n",
        "print(arr)\n",
        "print(arr.dtype)"
      ],
      "execution_count": null,
      "outputs": [
        {
          "output_type": "stream",
          "text": [
            "[[ 1  1  2]\n",
            " [-1  2 -1]]\n",
            "int64\n"
          ],
          "name": "stdout"
        }
      ]
    },
    {
      "cell_type": "code",
      "metadata": {
        "id": "Nj1UkwjDKBr1"
      },
      "source": [
        "# Создаем массив вещественных\n",
        "arr = np.array([[1.1, 1.6, 2.4], [-1.7, 2.6, -1.2]])\n",
        "print(arr)\n",
        "print(arr.dtype)\n",
        "print('----------')\n",
        "# Но в какой-то момент нам нужно привести массив к целочисленным\n",
        "# Воспользуемся методом ndarray.astype()\n",
        "arr = arr.astype(int)\n",
        "print(arr)\n",
        "print(arr.dtype)"
      ],
      "execution_count": null,
      "outputs": []
    },
    {
      "cell_type": "code",
      "metadata": {
        "id": "4Zv5Ss7KKa77"
      },
      "source": [
        "# При этом попытки записать в целочисленный массив \n",
        "# вещественное число приводят к округлению\n",
        "arr = np.array([[1.1, 1.6, 2.4], [-1.7, 2.6, -1.2]], dtype=int)\n",
        "print(arr)\n",
        "\n",
        "arr[0, 1] = 10.12\n",
        "print(arr)"
      ],
      "execution_count": null,
      "outputs": []
    },
    {
      "cell_type": "markdown",
      "metadata": {
        "id": "MVMN0qd7HlFu"
      },
      "source": [
        "# Булевы операции над массивами"
      ]
    },
    {
      "cell_type": "markdown",
      "metadata": {
        "id": "8CjSRYurH1mk"
      },
      "source": [
        "Массивы numpy поддерживают операции сравнения, которые генерируют так называемые маски."
      ]
    },
    {
      "cell_type": "code",
      "metadata": {
        "id": "buwe4r-2IDdO"
      },
      "source": [
        "arr = np.array([[1, 2, 3, 4], [5, 6, 7, 8], [9, 10, 11, 12]])\n",
        "print(arr)"
      ],
      "execution_count": null,
      "outputs": []
    },
    {
      "cell_type": "code",
      "metadata": {
        "colab": {
          "base_uri": "https://localhost:8080/",
          "height": 72
        },
        "id": "rGNfFg2RIJE5",
        "outputId": "ee21a73e-78f0-4547-d722-fd6c1aa390f0"
      },
      "source": [
        "# Произведем сравнение с числом\n",
        "result = arr > 6\n",
        "print(result)\n",
        "print(result.dtype)"
      ],
      "execution_count": null,
      "outputs": [
        {
          "output_type": "stream",
          "text": [
            "[[False False False]\n",
            " [False False False]]\n",
            "bool\n"
          ],
          "name": "stdout"
        }
      ]
    },
    {
      "cell_type": "markdown",
      "metadata": {
        "id": "ZfYWaYzSIPlU"
      },
      "source": [
        "Как видно, в результате операции создается такой же массив, но с булевым типом. Так мы получаем маску элементов, которые соответсвуют условию булевого выражения.\n",
        "\n",
        "Как и с простым булевым типом, маски можно совмещать булевыми операциями:"
      ]
    },
    {
      "cell_type": "code",
      "metadata": {
        "colab": {
          "base_uri": "https://localhost:8080/",
          "height": 182
        },
        "id": "ruFSuJzwNoME",
        "outputId": "60f66fef-c80a-4c27-bc88-97845fb22dde"
      },
      "source": [
        "result_1 = arr > 6\n",
        "result_2 = arr < 10\n",
        "print(result_1)\n",
        "print(result_2)\n",
        "\n",
        "print('----------')\n",
        "# Следующие две операции идентичны, но для второй скобки обязательны!\n",
        "print(result_1 & result_2)\n",
        "print((arr > 6) & (arr < 10))"
      ],
      "execution_count": null,
      "outputs": [
        {
          "output_type": "stream",
          "text": [
            "[[False False False]\n",
            " [False False False]]\n",
            "[[ True  True  True]\n",
            " [ True  True  True]]\n",
            "----------\n",
            "[[False False False]\n",
            " [False False False]]\n",
            "[[False False False]\n",
            " [False False False]]\n"
          ],
          "name": "stdout"
        }
      ]
    },
    {
      "cell_type": "markdown",
      "metadata": {
        "id": "q-2ToYvBLaLb"
      },
      "source": [
        "При работе с масками полезно помнить про функции `np.all()` и `np.any()`, которые имеют следующие описания:\n",
        "- `all` - проверка на то, что все элементы в массиве имеют значение True (аналог операции И);\n",
        "- `any` - проверка, что хотя бы один элемент в массиве имеет значение True (аналог операции ИЛИ)."
      ]
    },
    {
      "cell_type": "markdown",
      "metadata": {
        "id": "xOxMSvvfL0Yj"
      },
      "source": [
        "## Задание\n",
        "\n",
        "Определите, имеется ли хотя бы одно значение больше пяти и меньше восьми в массиве:"
      ]
    },
    {
      "cell_type": "code",
      "metadata": {
        "colab": {
          "base_uri": "https://localhost:8080/",
          "height": 90
        },
        "id": "GM6BqDDcMK4X",
        "outputId": "f03872a8-5847-47c7-866e-5006ead7966d"
      },
      "source": [
        "arr = np.array([[1, 2, 3, 4], [5, 6, 7, 8], [9, 10, 11, 12]])\n",
        "print(arr)\n",
        "np.any([(arr>5)&(arr<8)])\n",
        "\n",
        "# TODO - определить, имеется ли в массиве хотя бы один элемент, \n",
        "#           отвечающий условию больше пяти и меньше восьми"
      ],
      "execution_count": null,
      "outputs": [
        {
          "output_type": "stream",
          "text": [
            "[[ 1  2  3  4]\n",
            " [ 5  6  7  8]\n",
            " [ 9 10 11 12]]\n"
          ],
          "name": "stdout"
        },
        {
          "output_type": "execute_result",
          "data": {
            "text/plain": [
              "True"
            ]
          },
          "metadata": {
            "tags": []
          },
          "execution_count": 66
        }
      ]
    },
    {
      "cell_type": "markdown",
      "metadata": {
        "id": "zEuM4ZnWHUm5"
      },
      "source": [
        "# Больше индексации"
      ]
    },
    {
      "cell_type": "markdown",
      "metadata": {
        "id": "F62Ol7oXHWlu"
      },
      "source": [
        "Помимо индексации с помощью диапазонов и списков индексов numpy поддерживает индексацию с помощью булевых массивов."
      ]
    },
    {
      "cell_type": "code",
      "metadata": {
        "id": "Vpt6OK_RHfyG"
      },
      "source": [
        "arr = np.array([[1, 2, 3, 4], [5, 6, 7, 8], [9, 10, 11, 12]])"
      ],
      "execution_count": null,
      "outputs": []
    },
    {
      "cell_type": "code",
      "metadata": {
        "colab": {
          "base_uri": "https://localhost:8080/",
          "height": 90
        },
        "id": "G0YBhqI3MpUr",
        "outputId": "7a409daf-7a7e-4512-a900-39ea234a69fe"
      },
      "source": [
        "# Получим маску и воспользуемся ею для индексации\n",
        "mask = arr > 6\n",
        "print(mask)\n",
        "print(arr[mask])"
      ],
      "execution_count": null,
      "outputs": [
        {
          "output_type": "stream",
          "text": [
            "[[False False False False]\n",
            " [False False  True  True]\n",
            " [ True  True  True  True]]\n",
            "[ 7  8  9 10 11 12]\n"
          ],
          "name": "stdout"
        }
      ]
    },
    {
      "cell_type": "markdown",
      "metadata": {
        "id": "hyCi34eKM33_"
      },
      "source": [
        "Обратите внимание, такая индексация по всему массиву приводит к созданию 1D массива из-за того, что элементы имеют неравномерное расположение, так что они представляются в выпрямленном виде (flattened).\n",
        "\n",
        "> Выпрямленное представление - приведение массива любой размерности к 1D представлению. Для этого есть метод `ndarray.flatten()`. Происходит это путем разворачивания массива в одномерный, проходом по индексам, начиная с последней размерности: в 2D случае мы берем элемент 1-го рядя, 1-й колонки, затем 1-го ряда, 2-й колонки, как закончим со всем рядом, то переходим на следующий и снова по колонкам. Для 3D массивов - сначала полностью разворачивается глубина, затем колонки, затем ряды."
      ]
    },
    {
      "cell_type": "code",
      "metadata": {
        "colab": {
          "base_uri": "https://localhost:8080/",
          "height": 72
        },
        "id": "RLbUE76_PgBu",
        "outputId": "fbbed571-f449-41f9-d4a6-05a30c38c3bb"
      },
      "source": [
        "arr = np.array([[1, 2, 3, 4], [5, 6, 7, 8]])\n",
        "print(arr)\n",
        "print(arr.flatten())"
      ],
      "execution_count": null,
      "outputs": [
        {
          "output_type": "stream",
          "text": [
            "[[1 2 3 4]\n",
            " [5 6 7 8]]\n",
            "[1 2 3 4 5 6 7 8]\n"
          ],
          "name": "stdout"
        }
      ]
    },
    {
      "cell_type": "markdown",
      "metadata": {
        "id": "X-08XaFSzGo4"
      },
      "source": [
        "# Операции с массивами"
      ]
    },
    {
      "cell_type": "markdown",
      "metadata": {
        "id": "5CRyuSOlQoQe"
      },
      "source": [
        "Мало смысла в создании массивов без возможности сделать с ними что-либо. "
      ]
    },
    {
      "cell_type": "code",
      "metadata": {
        "id": "D4koFxcK1PyA"
      },
      "source": [
        "x = np.array([[1,2],[3,4]], dtype=np.float64)\n",
        "y = np.array([[5,6],[7,8]], dtype=np.float64)"
      ],
      "execution_count": null,
      "outputs": []
    },
    {
      "cell_type": "code",
      "metadata": {
        "colab": {
          "base_uri": "https://localhost:8080/",
          "height": 90
        },
        "id": "q2TffF7Q2jCt",
        "outputId": "025195f5-2082-4f12-e85f-b3af19c94be9"
      },
      "source": [
        "# Сложение\n",
        "print(x + y)\n",
        "print(np.add(x, y))"
      ],
      "execution_count": null,
      "outputs": [
        {
          "output_type": "stream",
          "text": [
            "[[ 6.  8.]\n",
            " [10. 12.]]\n",
            "[[ 6.  8.]\n",
            " [10. 12.]]\n"
          ],
          "name": "stdout"
        }
      ]
    },
    {
      "cell_type": "code",
      "metadata": {
        "id": "SBVvWTwx2uEz"
      },
      "source": [
        "# Вычитание\n",
        "print(x - y)\n",
        "print(np.subtract(x, y))"
      ],
      "execution_count": null,
      "outputs": []
    },
    {
      "cell_type": "code",
      "metadata": {
        "id": "aOAqrdb33IRV"
      },
      "source": [
        "# Поэлементное умножение\n",
        "print(x * y)\n",
        "print(np.multiply(x, y))"
      ],
      "execution_count": null,
      "outputs": []
    },
    {
      "cell_type": "code",
      "metadata": {
        "colab": {
          "base_uri": "https://localhost:8080/",
          "height": 90
        },
        "id": "fTbMbYoo3MlX",
        "outputId": "4e2dc6d6-8c3c-4e57-ed42-b298d9598b6b"
      },
      "source": [
        "\n",
        "# Поэлементное деление\n",
        "print(x / y)\n",
        "print(np.divide(x, y))"
      ],
      "execution_count": null,
      "outputs": [
        {
          "output_type": "stream",
          "text": [
            "[[0.2        0.33333333]\n",
            " [0.42857143 0.5       ]]\n",
            "[[0.2        0.33333333]\n",
            " [0.42857143 0.5       ]]\n"
          ],
          "name": "stdout"
        }
      ]
    },
    {
      "cell_type": "code",
      "metadata": {
        "id": "Ke48RJZz3QFN"
      },
      "source": [
        "# Вычисление корня каждого элемента\n",
        "print(np.sqrt(x))"
      ],
      "execution_count": null,
      "outputs": []
    },
    {
      "cell_type": "markdown",
      "metadata": {
        "id": "xk83DBbX4GTX"
      },
      "source": [
        "Отлично, мы рассмотрели основные операции над массивами. Операции поэлементные, результаты такие же по размеру, как и операнды. Помимо рассмотренных существуют и множество других, например, экспонента, логарифм и т.д.\n",
        "\n",
        "Помимо поэлементных операций, которые не составляют сложностей в представлении, существует операция матричного умножения. В данном случае мы имеем варианты перемножения матриц, векторов и скаляров."
      ]
    },
    {
      "cell_type": "code",
      "metadata": {
        "id": "XTQGfz575qFK"
      },
      "source": [
        "# Умножение матрицы на скаляр - релизуется как поэлементное перемножение \n",
        "k = 1.5\n",
        "\n",
        "print(k*x)"
      ],
      "execution_count": null,
      "outputs": []
    },
    {
      "cell_type": "code",
      "metadata": {
        "id": "N5xOhY-e6BtE"
      },
      "source": [
        "v = np.array([1, 2])"
      ],
      "execution_count": null,
      "outputs": []
    },
    {
      "cell_type": "code",
      "metadata": {
        "colab": {
          "base_uri": "https://localhost:8080/",
          "height": 72
        },
        "id": "KyTncnjz6FPm",
        "outputId": "fdd5dff5-843c-4d59-aad3-47c1ec499043"
      },
      "source": [
        "# Матричное умножение реализуется через оператор @ или функцию np.dot() \n",
        "#   или метод ndarray.dot()\n",
        "# Для умножения матрица-вектор\n",
        "\n",
        "print(x @ v)\n",
        "print(x.dot(v))\n",
        "print(np.dot(x, v))"
      ],
      "execution_count": null,
      "outputs": [
        {
          "output_type": "stream",
          "text": [
            "[ 5. 11.]\n",
            "[ 5. 11.]\n",
            "[ 5. 11.]\n"
          ],
          "name": "stdout"
        }
      ]
    },
    {
      "cell_type": "code",
      "metadata": {
        "id": "08UQZ9Ks63FH"
      },
      "source": [
        "# Двух векторов\n",
        "w = np.array([3, 4])\n",
        "\n",
        "print(w @ v)\n",
        "print(w.dot(v))\n",
        "print(np.dot(w, v))"
      ],
      "execution_count": null,
      "outputs": []
    },
    {
      "cell_type": "code",
      "metadata": {
        "id": "Fmd4HaZP6paa"
      },
      "source": [
        "# Так и для перемножения матриц\n",
        "print(x @ y)\n",
        "print(x.dot(y))\n",
        "print(np.dot(x, y))"
      ],
      "execution_count": null,
      "outputs": []
    },
    {
      "cell_type": "markdown",
      "metadata": {
        "id": "BXjO0pdq7EVL"
      },
      "source": [
        "Правила умножения матриц и векторов здесь идентичны математическим, то есть соседние размерности должны соотноситься: $(m, n)*(n, k)=(m, k)$.\n",
        "\n",
        "Прекрасно! Раз мы разобрались с тем, как делать базовые операции, то осталось лишь последняя базовая операция - транспонирование."
      ]
    },
    {
      "cell_type": "code",
      "metadata": {
        "id": "wtkDK4UU76Pp"
      },
      "source": [
        "# Для транспонирования можно воспользоваться атрибутом ndarray.T\n",
        "#   или функцией np.transpose()\n",
        "x = np.array([[1, 2, 3], [4, 5, 6]])\n",
        "print(x)\n",
        "print(x.shape)\n",
        "print('--------')\n",
        "print(np.transpose(x))\n",
        "print(x.T)\n",
        "print(x.T.shape)"
      ],
      "execution_count": null,
      "outputs": []
    },
    {
      "cell_type": "markdown",
      "metadata": {
        "id": "foJSgM3-9Ktj"
      },
      "source": [
        "# Операции по осям"
      ]
    },
    {
      "cell_type": "markdown",
      "metadata": {
        "id": "Zu26o_Jq8ko-"
      },
      "source": [
        "Если ранее операции позволяли модифицировать массив и получать новые массивы с помощью базовых операций, то сейчас мы рассмотрим более \"аггрегуирующие\" операции, например, получение среднего значения, суммы и т.д.\n",
        "\n",
        "При разборе обратим внимание на один важный аргумент в операциях `axis`."
      ]
    },
    {
      "cell_type": "code",
      "metadata": {
        "colab": {
          "base_uri": "https://localhost:8080/",
          "height": 54
        },
        "id": "CNvo0bMH8Hw4",
        "outputId": "612b7b6e-fce0-4384-c8b0-d635fe5c46a3"
      },
      "source": [
        "x = np.array([[1, 2, 3], [5, 4, 3]])\n",
        "print(x)"
      ],
      "execution_count": null,
      "outputs": [
        {
          "output_type": "stream",
          "text": [
            "[[1 2 3]\n",
            " [5 4 3]]\n"
          ],
          "name": "stdout"
        }
      ]
    },
    {
      "cell_type": "code",
      "metadata": {
        "colab": {
          "base_uri": "https://localhost:8080/",
          "height": 54
        },
        "id": "VmORpW679pGA",
        "outputId": "ab480577-fc22-4111-95ff-5be2cbb1dd37"
      },
      "source": [
        "# Возьмем среднее значение всего массива\n",
        "print(np.mean(x))\n",
        "print(np.mean(x, axis=None))"
      ],
      "execution_count": null,
      "outputs": [
        {
          "output_type": "stream",
          "text": [
            "3.0\n",
            "3.0\n"
          ],
          "name": "stdout"
        }
      ]
    },
    {
      "cell_type": "code",
      "metadata": {
        "colab": {
          "base_uri": "https://localhost:8080/",
          "height": 54
        },
        "id": "AAbohlvH94YY",
        "outputId": "6f96223f-1f70-4f4e-9650-b1d09e79f1fc"
      },
      "source": [
        "# Получим сумму значений всего массива\n",
        "print(np.sum(x))\n",
        "print(np.sum(x, axis=None))"
      ],
      "execution_count": null,
      "outputs": [
        {
          "output_type": "stream",
          "text": [
            "18\n",
            "18\n"
          ],
          "name": "stdout"
        }
      ]
    },
    {
      "cell_type": "markdown",
      "metadata": {
        "id": "3SD2e0--9_sl"
      },
      "source": [
        "Отлично, работает как надо, но зачем этот аргумент `axis`? Все очень просто, он управляет тем, по какой оси (размерности) делается операция. Нужно это, чтобы получить, например, среднее по каждому столбцу или строке."
      ]
    },
    {
      "cell_type": "code",
      "metadata": {
        "colab": {
          "base_uri": "https://localhost:8080/",
          "height": 54
        },
        "id": "TwyP8qED-ROD",
        "outputId": "1593ed7d-eb82-44f0-f1da-87f241beff21"
      },
      "source": [
        "# Получим среднее по каждому столбцу\n",
        "print(np.mean(x, axis=0))\n",
        "\n",
        "# Получим среднее по каждой строке\n",
        "print(np.mean(x, axis=1))"
      ],
      "execution_count": null,
      "outputs": [
        {
          "output_type": "stream",
          "text": [
            "[3. 3. 3.]\n",
            "[2. 4.]\n"
          ],
          "name": "stdout"
        }
      ]
    },
    {
      "cell_type": "markdown",
      "metadata": {
        "id": "Cvne71NE_RJB"
      },
      "source": [
        "Так как же это воспринимать? Помните индексацию слайсами (диапазонами)? Чтобы получить весь второй столбец, мы пишем $[:, 2]$, что означает \"все строки стобца под индексом 2\". Так и тут, если мы хотим, чтобы операция выполнилась по всем строкам (например для результата по столбцам), то пишем `axis=0`. Если хотим, чтобы операция проходила по колонкам (для каждой строки), то пишем `axis=1`. То есть, в `axis` задается тот индекс, вдоль которого выполняется операция.\n",
        "\n",
        "Можно подходить к вопросу более формально. Например, мы имеем матрицу размера $(10, 13)$. При указании `axis=0` мы получим результат вычисления операции по каждому столбцу или массив размером $(13, )$. Через аргумент `axis` мы указываем размерность, которую схлопнем до единицы. Для случая многомерных массивов, например с размером $(8, 3, 40, 20)$, указывая `axis=1`, мы получаем результат с размером $(8, 40, 20)$.\n",
        "\n",
        "> Такие возможности задания осей хороши тем, что не нужно писать циклы прохода по всем строкам, чтобы получить результат - это делает код более читаемым и производительным."
      ]
    },
    {
      "cell_type": "markdown",
      "metadata": {
        "id": "pzurzVvuBCgi"
      },
      "source": [
        "## Задание\n",
        "\n",
        "Напишите операцию получения суммы элементов по всем стобцам:"
      ]
    },
    {
      "cell_type": "code",
      "metadata": {
        "colab": {
          "base_uri": "https://localhost:8080/",
          "height": 90
        },
        "id": "ut4bOSdcBP0v",
        "outputId": "8267210c-62cc-4ef5-e88f-abe3bd2f32ff"
      },
      "source": [
        "data = np.random.randint(low=0, high=5, size=(3, 6))\n",
        "print(data)\n",
        "print(np.sum(data,axis=0))\n",
        "\n",
        "# TODO - вектор сумм элементов по каждому столбцу"
      ],
      "execution_count": null,
      "outputs": [
        {
          "output_type": "stream",
          "text": [
            "[[0 1 3 0 0 0]\n",
            " [3 2 4 1 3 4]\n",
            " [0 1 4 3 1 0]]\n",
            "[ 3  4 11  4  4  4]\n"
          ],
          "name": "stdout"
        }
      ]
    },
    {
      "cell_type": "markdown",
      "metadata": {
        "id": "bcgRRkseBqzq"
      },
      "source": [
        "# Broadcasting (трансляция)"
      ]
    },
    {
      "cell_type": "markdown",
      "metadata": {
        "id": "fgwB6980BuZ0"
      },
      "source": [
        "Тема достаточно \"широкая\" =)\n",
        "На деле механизм броадкастинга очень полезен и его понимание является одним из мощных инструментов библиотеки numpy.\n",
        "\n",
        "Зачем он нужен? Допустим, мы имеет вектор $(4,)$, матрицу $(3, 4)$ и хотим умножить этот вектор на каждую строку матрицы. Самый простой способ - пройти в цикле по строкам:"
      ]
    },
    {
      "cell_type": "code",
      "metadata": {
        "colab": {
          "base_uri": "https://localhost:8080/",
          "height": 90
        },
        "id": "PXEeaAmqHqp8",
        "outputId": "0e0e1662-58c8-493d-e9c6-7418b51d3568"
      },
      "source": [
        "vec = np.arange(4)\n",
        "mtrx = np.ones((3, 4))\n",
        "print(vec)\n",
        "print(mtrx)"
      ],
      "execution_count": null,
      "outputs": [
        {
          "output_type": "stream",
          "text": [
            "[0 1 2 3]\n",
            "[[1. 1. 1. 1.]\n",
            " [1. 1. 1. 1.]\n",
            " [1. 1. 1. 1.]]\n"
          ],
          "name": "stdout"
        }
      ]
    },
    {
      "cell_type": "code",
      "metadata": {
        "colab": {
          "base_uri": "https://localhost:8080/",
          "height": 72
        },
        "id": "8xH_CXJoHrkr",
        "outputId": "1d9f97b7-67d9-499d-e271-a0168e2900e0"
      },
      "source": [
        "result = np.empty_like(mtrx)\n",
        "\n",
        "for i_row in range(mtrx.shape[0]):\n",
        "    result[i_row,:] = mtrx[i_row,:] * vec\n",
        "\n",
        "print(result)"
      ],
      "execution_count": null,
      "outputs": [
        {
          "output_type": "stream",
          "text": [
            "[[0. 1. 2. 3.]\n",
            " [0. 1. 2. 3.]\n",
            " [0. 1. 2. 3.]]\n"
          ],
          "name": "stdout"
        }
      ]
    },
    {
      "cell_type": "markdown",
      "metadata": {
        "id": "UVbNFmqkIHL_"
      },
      "source": [
        "С другой стороны, можно склонировать вектор по размеру матрицы, чтобы затем просто перемножить поэлементно две матрицы."
      ]
    },
    {
      "cell_type": "code",
      "metadata": {
        "colab": {
          "base_uri": "https://localhost:8080/",
          "height": 127
        },
        "id": "P2aJ71qMIJIN",
        "outputId": "8ab5f98b-d3b3-4dff-c380-79f05ee50d12"
      },
      "source": [
        "# Функция np.tile() повторяет массив то количество раз и по тем осям,\n",
        "#   которые заданы в аргументе reps\n",
        "vec_m = np.tile(vec, reps=(3, 1))\n",
        "print(vec_m)\n",
        "print(vec_m * mtrx)"
      ],
      "execution_count": null,
      "outputs": [
        {
          "output_type": "stream",
          "text": [
            "[[0 1 2 3]\n",
            " [0 1 2 3]\n",
            " [0 1 2 3]]\n",
            "[[0. 1. 2. 3.]\n",
            " [0. 1. 2. 3.]\n",
            " [0. 1. 2. 3.]]\n"
          ],
          "name": "stdout"
        }
      ]
    },
    {
      "cell_type": "markdown",
      "metadata": {
        "id": "YIAATyxQHp6y"
      },
      "source": [
        "А можно вспомнить про броадкастинг и просто умножить вектор на матрицу:"
      ]
    },
    {
      "cell_type": "code",
      "metadata": {
        "colab": {
          "base_uri": "https://localhost:8080/",
          "height": 72
        },
        "id": "cvhGzlKyGPkk",
        "outputId": "f6d7addb-3e55-4243-f6a7-c149bf6aab60"
      },
      "source": [
        "# Умножение, используя броадкастинг\n",
        "print(vec * mtrx)"
      ],
      "execution_count": null,
      "outputs": [
        {
          "output_type": "stream",
          "text": [
            "[[0. 1. 2. 3.]\n",
            " [0. 1. 2. 3.]\n",
            " [0. 1. 2. 3.]]\n"
          ],
          "name": "stdout"
        }
      ]
    },
    {
      "cell_type": "markdown",
      "metadata": {
        "id": "m45myVWXInxI"
      },
      "source": [
        "Таким образом, броадкастинг - это механизм распространения элементов операций по разметностям, по которым количество элементов не соотносится с другим операндом. В последней ячейке вектор был продублирован на каждую строку так, что размерности соотносятся.\n",
        "\n",
        "> Обязательно прочитайте примеры броадкастинга в [статье](https://numpy.org/doc/stable/user/basics.broadcasting.html).\n",
        "\n",
        "Броадкастинг также работает и при умножении скаляра на массив:"
      ]
    },
    {
      "cell_type": "code",
      "metadata": {
        "colab": {
          "base_uri": "https://localhost:8080/",
          "height": 72
        },
        "id": "vyolr9OlHRx0",
        "outputId": "be91b71f-1cfb-480f-b4da-054cf5e31fc7"
      },
      "source": [
        "print(2 * mtrx)"
      ],
      "execution_count": null,
      "outputs": [
        {
          "output_type": "stream",
          "text": [
            "[[2. 2. 2. 2.]\n",
            " [2. 2. 2. 2.]\n",
            " [2. 2. 2. 2.]]\n"
          ],
          "name": "stdout"
        }
      ]
    },
    {
      "cell_type": "markdown",
      "metadata": {
        "id": "b5C9CLXvLy_X"
      },
      "source": [
        "Чтобы больше понять правила броадкастинга, посмотрим на результаты операций 3D матриц:"
      ]
    },
    {
      "cell_type": "code",
      "metadata": {
        "colab": {
          "base_uri": "https://localhost:8080/",
          "height": 35
        },
        "id": "p5gNIS1QLmTq",
        "outputId": "8a9f8928-eddc-4dc9-bb74-6865fc58d377"
      },
      "source": [
        "x = np.ones((4, 1, 1))\n",
        "y = np.random.randint(0, 5, size=(4, 3, 2))\n",
        "\n",
        "print((x*y).shape)"
      ],
      "execution_count": null,
      "outputs": [
        {
          "output_type": "stream",
          "text": [
            "(4, 3, 2)\n"
          ],
          "name": "stdout"
        }
      ]
    },
    {
      "cell_type": "code",
      "metadata": {
        "id": "sXzWWxHnMS8E"
      },
      "source": [
        "x = np.ones((3, 1))\n",
        "y = np.random.randint(0, 5, size=(4, 3, 2))\n",
        "\n",
        "print((x*y).shape)"
      ],
      "execution_count": null,
      "outputs": []
    },
    {
      "cell_type": "code",
      "metadata": {
        "id": "gCclW4LGMYUA"
      },
      "source": [
        "x = np.ones((1, 3, 2))\n",
        "y = np.random.randint(0, 5, size=(5, 1, 2))\n",
        "\n",
        "print((x*y).shape)"
      ],
      "execution_count": null,
      "outputs": []
    },
    {
      "cell_type": "markdown",
      "metadata": {
        "id": "V5BvOyFOMdyr"
      },
      "source": [
        "В последних примерах можно увидеть, что размерности должны быть соотносимы (количества размерностей равны). В случае неравенства количества размерностей новые размерности со значением 1 добавляются слева ($(3, 1) \\rightarrow (1, 3, 1)$ в одном из примеров).\n",
        "\n",
        "> Добавление размерности было и в случае умножения вектора на матрицу: $(4,)*(3, 4) \\rightarrow (1, 4)*(3, 4)$\n",
        "\n",
        "Броадкастинг делается по тем осям, которые у одного операнда имеют размерность 1 путем копирования.\n",
        "\n",
        "> В нашем случае $(1, 4)*(3, 4) \\rightarrow (3, 4)*(3, 4)$"
      ]
    },
    {
      "cell_type": "markdown",
      "metadata": {
        "id": "7TwQwQt6OEA_"
      },
      "source": [
        "Осознать броадкастинг сразу не совсем просто, но главное не забывать, что такой инструмент есть и им нужно пользоваться во избежание лишнего кода."
      ]
    },
    {
      "cell_type": "markdown",
      "metadata": {
        "id": "6Aece1s4OM7y"
      },
      "source": [
        "# Изменение размеров массива (Reshape)"
      ]
    },
    {
      "cell_type": "markdown",
      "metadata": {
        "id": "AjcQO4NSOQtv"
      },
      "source": [
        "Еще одна интересная тема, которую стоит рассмотреть. Мы уже касались вопроса приведения массива к выпрямленному виду - это один из видов изменения размерности массива.\n",
        "\n",
        "По сути, размерность массива - это то, как выстроены элементы в нем. Изменение размерности - это изменение структуры **без изменения элементов или порядка**.\n",
        "\n",
        "Рассмотрим на примере:"
      ]
    },
    {
      "cell_type": "code",
      "metadata": {
        "colab": {
          "base_uri": "https://localhost:8080/",
          "height": 35
        },
        "id": "QaEqZf_aPoSp",
        "outputId": "fa9bd10c-55c5-42ef-a4b1-801c8c0a96ce"
      },
      "source": [
        "arr = np.arange(20)\n",
        "print(arr)"
      ],
      "execution_count": null,
      "outputs": [
        {
          "output_type": "stream",
          "text": [
            "[ 0  1  2  3  4  5  6  7  8  9 10 11 12 13 14 15 16 17 18 19]\n"
          ],
          "name": "stdout"
        }
      ]
    },
    {
      "cell_type": "markdown",
      "metadata": {
        "id": "y6rx0qLXPtKD"
      },
      "source": [
        "Вот мы имеем вектор из 20 элементов в порядке возрастания. Теперь, допустим, нам нужно сделать массив размером $(4, 5)$, в котором каждый ряд - это продолжение предыдущего по возрастанию чисел. Для начала сделаем руками: "
      ]
    },
    {
      "cell_type": "code",
      "metadata": {
        "id": "Kx9kBRe2QBR-"
      },
      "source": [
        "mtrx = np.ndarray((4, 5), dtype=np.int32)\n",
        "mtrx[0, :] = arr[:5]\n",
        "mtrx[1, :] = arr[5:10]\n",
        "mtrx[2, :] = arr[10:15]\n",
        "mtrx[3, :] = arr[15:]\n",
        "\n",
        "print(mtrx)"
      ],
      "execution_count": null,
      "outputs": []
    },
    {
      "cell_type": "markdown",
      "metadata": {
        "id": "UPyGvrtWdPm-"
      },
      "source": [
        "Получилось как надо, но есть два недостатка:\n",
        "- Если элементов будет больше и нужен будет другой размер - код не универсален;\n",
        "- Приходится расставлять данные вручную.\n",
        "\n",
        "Теперь взглянем, как работает метод `ndarray.reshape()`:"
      ]
    },
    {
      "cell_type": "code",
      "metadata": {
        "colab": {
          "base_uri": "https://localhost:8080/",
          "height": 90
        },
        "id": "AFpqjOXAdOqD",
        "outputId": "93495828-eed9-4efc-9ca6-50720ade8059"
      },
      "source": [
        "print(arr.reshape((4, 5)))"
      ],
      "execution_count": null,
      "outputs": [
        {
          "output_type": "stream",
          "text": [
            "[[ 0  1  2  3  4]\n",
            " [ 5  6  7  8  9]\n",
            " [10 11 12 13 14]\n",
            " [15 16 17 18 19]]\n"
          ],
          "name": "stdout"
        }
      ]
    },
    {
      "cell_type": "markdown",
      "metadata": {
        "id": "rVRLk09SdrtT"
      },
      "source": [
        "В результате происходит тоже самое. То есть, элементы расположились в порядке размещения по размерностям: начиная с первой строки (нулевая размерность) заполняется по колонкам (первая размерность), а как только заполнение по колонкам закончено - переходим на следующий ряд.\n",
        "\n",
        "Таким образом, в какую бы размерность не происходило изменение размера - расположение будет придерживаться этого правила.\n",
        "\n",
        "Для лучшего понимания посмотрим на другие представления:"
      ]
    },
    {
      "cell_type": "code",
      "metadata": {
        "id": "ecjFNZPPebov"
      },
      "source": [
        "print(arr.reshape((2, 10)))\n",
        "print(arr.reshape((5, 4)))\n",
        "print(arr.reshape((20, 1)))"
      ],
      "execution_count": null,
      "outputs": []
    },
    {
      "cell_type": "markdown",
      "metadata": {
        "id": "VFh8-iyHeh6d"
      },
      "source": [
        "Таким образом, можно приводить к любой размерности с учетом правила:\n",
        "> Количество элементов должно сохраняться\n",
        "\n",
        "Но бывают ситуации, когда мы точно не знаем количество элементов, но нам нужно точно создать, например, 4 строки в матрице. В этом поможет неопределенная размерность, которая задается числом -1:"
      ]
    },
    {
      "cell_type": "code",
      "metadata": {
        "id": "-rioXaAse-Da"
      },
      "source": [
        "print(arr.reshape((4, -1)))"
      ],
      "execution_count": null,
      "outputs": []
    },
    {
      "cell_type": "markdown",
      "metadata": {
        "id": "m4DEV-Q0Pngj"
      },
      "source": [
        "Таким образом можно задать, что матрица должна быть 2D с фиксированным количеством строк, но без фиксации на количество столбцов. Конечно же, если в исходном будет 21 элемент, то такой трюк не сработает, потому что 21 не делится на 4 без остатка."
      ]
    },
    {
      "cell_type": "markdown",
      "metadata": {
        "id": "53NWq6i_fe2W"
      },
      "source": [
        "# Объединение массивов"
      ]
    },
    {
      "cell_type": "markdown",
      "metadata": {
        "id": "EDCNSihEfiVA"
      },
      "source": [
        "При работе с массивами бывают случаи, когда несколько массивов необходимо объединить в один. Для этого поможет функция `np.concatenate()` и понимание ее основных правил."
      ]
    },
    {
      "cell_type": "code",
      "metadata": {
        "colab": {
          "base_uri": "https://localhost:8080/",
          "height": 109
        },
        "id": "iiVzWooVfw-w",
        "outputId": "f752b34e-504b-482d-d135-44bb611d1150"
      },
      "source": [
        "x = np.arange(10).reshape((2, 5))\n",
        "y = np.arange(15).reshape((3, 5))\n",
        "\n",
        "print(x)\n",
        "print(y)"
      ],
      "execution_count": null,
      "outputs": [
        {
          "output_type": "stream",
          "text": [
            "[[0 1 2 3 4]\n",
            " [5 6 7 8 9]]\n",
            "[[ 0  1  2  3  4]\n",
            " [ 5  6  7  8  9]\n",
            " [10 11 12 13 14]]\n"
          ],
          "name": "stdout"
        }
      ]
    },
    {
      "cell_type": "markdown",
      "metadata": {
        "id": "dpXU_P7TguD_"
      },
      "source": [
        "Для объединения массивов необходимо, чтобы одна из размерностей имела одинаковое количество элементов. Это достаточно логичное требование задается аргументом `axis` в функции:"
      ]
    },
    {
      "cell_type": "code",
      "metadata": {
        "colab": {
          "base_uri": "https://localhost:8080/",
          "height": 109
        },
        "id": "rX9FSi5Hg62I",
        "outputId": "e845cf78-bc79-4d3f-ffc3-d1407a643142"
      },
      "source": [
        "print(np.concatenate((x, y), axis=0))"
      ],
      "execution_count": null,
      "outputs": [
        {
          "output_type": "stream",
          "text": [
            "[[ 0  1  2  3  4]\n",
            " [ 5  6  7  8  9]\n",
            " [ 0  1  2  3  4]\n",
            " [ 5  6  7  8  9]\n",
            " [10 11 12 13 14]]\n"
          ],
          "name": "stdout"
        }
      ]
    },
    {
      "cell_type": "markdown",
      "metadata": {
        "id": "In1g-miAg_vz"
      },
      "source": [
        "Обратите внимание, что массивы передаются в виде кортежа, что позволяет объединять два и более массивов."
      ]
    },
    {
      "cell_type": "markdown",
      "metadata": {
        "id": "9zi8VK2HhHnw"
      },
      "source": [
        "## Задание\n",
        "\n",
        "Объедините три массива вдоль колонок:"
      ]
    },
    {
      "cell_type": "code",
      "metadata": {
        "colab": {
          "base_uri": "https://localhost:8080/",
          "height": 237
        },
        "id": "WroGVeHYhXYU",
        "outputId": "cb56fcc5-2b02-4aef-a897-5a46b92320d5"
      },
      "source": [
        "x = np.arange(9).reshape((3, 3))\n",
        "y = np.arange(12).reshape((3, 4))\n",
        "z = np.arange(15).reshape((3, 5))\n",
        "\n",
        "print(x)\n",
        "print(y)\n",
        "print(z)\n",
        "print(np.concatenate((x, y,z), axis=1))\n",
        "\n",
        "# TODO - получите объединенный массив:\n",
        "# [[ 0  1  2  0  1  2  3  0  1  2  3  4]\n",
        "#  [ 3  4  5  4  5  6  7  5  6  7  8  9]\n",
        "#  [ 6  7  8  8  9 10 11 10 11 12 13 14]]"
      ],
      "execution_count": null,
      "outputs": [
        {
          "output_type": "stream",
          "text": [
            "[[0 1 2]\n",
            " [3 4 5]\n",
            " [6 7 8]]\n",
            "[[ 0  1  2  3]\n",
            " [ 4  5  6  7]\n",
            " [ 8  9 10 11]]\n",
            "[[ 0  1  2  3  4]\n",
            " [ 5  6  7  8  9]\n",
            " [10 11 12 13 14]]\n",
            "[[ 0  1  2  0  1  2  3  0  1  2  3  4]\n",
            " [ 3  4  5  4  5  6  7  5  6  7  8  9]\n",
            " [ 6  7  8  8  9 10 11 10 11 12 13 14]]\n"
          ],
          "name": "stdout"
        }
      ]
    },
    {
      "cell_type": "markdown",
      "metadata": {
        "id": "g1vMT1PZSpSs"
      },
      "source": [
        "## Задание\n",
        "\n",
        "Напишите реализацию добавления стобца единиц к матрице слева:"
      ]
    },
    {
      "cell_type": "code",
      "metadata": {
        "colab": {
          "base_uri": "https://localhost:8080/",
          "height": 182
        },
        "id": "uKMSNM0ySyQ2",
        "outputId": "2572e0b4-035b-48d9-dbef-3338a744be34"
      },
      "source": [
        "x = np.arange(1, 10).reshape((3, 3))\n",
        "y=np.tile([1],(3,1))\n",
        "print(x)\n",
        "print(y)\n",
        "print(np.concatenate((y,x), axis=1))\n",
        "\n",
        "# TODO - получить матрицу со столбцом единиц слева\n",
        "# [[1 1 2 3]\n",
        "#  [1 4 5 6]\n",
        "#  [1 7 8 9]]"
      ],
      "execution_count": null,
      "outputs": [
        {
          "output_type": "stream",
          "text": [
            "[[1 2 3]\n",
            " [4 5 6]\n",
            " [7 8 9]]\n",
            "[[1]\n",
            " [1]\n",
            " [1]]\n",
            "[[1 1 2 3]\n",
            " [1 4 5 6]\n",
            " [1 7 8 9]]\n"
          ],
          "name": "stdout"
        }
      ]
    },
    {
      "cell_type": "markdown",
      "metadata": {
        "id": "Ylb4mK18hxpf"
      },
      "source": [
        "# Сортировка массива"
      ]
    },
    {
      "cell_type": "markdown",
      "metadata": {
        "id": "pLIYlEd0h2fp"
      },
      "source": [
        "Numpy как серьезная библиотека работы с массивами имеет также и функционал сортировки. Для этого есть функция `np.sort()`, которая производит сортировку элементов и возвращает отсортированный массив:"
      ]
    },
    {
      "cell_type": "code",
      "metadata": {
        "colab": {
          "base_uri": "https://localhost:8080/",
          "height": 54
        },
        "id": "qeoYgI9Eilc6",
        "outputId": "5cbb1f6c-7383-4cf5-8a19-e278fdadfb56"
      },
      "source": [
        "unsorted_arr = np.array([2, 4, 5, 1, 2, 7, 5, 0, -1, 3, 5])\n",
        "sorted_arr = np.sort(unsorted_arr)\n",
        "\n",
        "print(unsorted_arr)\n",
        "print(sorted_arr)"
      ],
      "execution_count": null,
      "outputs": [
        {
          "output_type": "stream",
          "text": [
            "[ 2  4  5  1  2  7  5  0 -1  3  5]\n",
            "[-1  0  1  2  2  3  4  5  5  5  7]\n"
          ],
          "name": "stdout"
        }
      ]
    },
    {
      "cell_type": "markdown",
      "metadata": {
        "id": "Bnck_27Bi0id"
      },
      "source": [
        "Помимо явной сортировки существует также функция `np.argsort()`, которая возвращает не отсортированный массив, а массив индексов исходного массива в порядке, который дает отсортированный исходный. Посмотрим:"
      ]
    },
    {
      "cell_type": "code",
      "metadata": {
        "id": "NPkO5wIkjvoN"
      },
      "source": [
        "sorted_indices = np.argsort(unsorted_arr)\n",
        "print(sorted_indices)\n",
        "\n",
        "# А теперь воспользуемся индексами и отобразим исходный массив с индексацией\n",
        "print(unsorted_arr[sorted_indices])"
      ],
      "execution_count": null,
      "outputs": []
    },
    {
      "cell_type": "markdown",
      "metadata": {
        "id": "unm24O5ukBIN"
      },
      "source": [
        "## Задание\n",
        "\n",
        "По такому же принципу именования найдите функцию, которая возвращает индекс максимального/минимального (в завимости от варианта) элемента в массиве.\n",
        "\n",
        "Воспользуйтесь найденной функцией и найдите индексы максимальных элементов в каждом столбце 2D матрицы: "
      ]
    },
    {
      "cell_type": "code",
      "metadata": {
        "colab": {
          "base_uri": "https://localhost:8080/",
          "height": 54
        },
        "id": "V8mS3lbMkzha",
        "outputId": "e9bbffcc-bb2b-4711-a24b-7fabb05aaf58"
      },
      "source": [
        "arr = np.array([\n",
        "    [11, -1, 1, 3, 5],\n",
        "    [6, 1, 0, -1, 10],\n",
        "    [1, 3, 2, 3, 6],\n",
        "    [5, 2, 7, 8, 9],\n",
        "])\n",
        "\n",
        "print(np.argmax(arr, axis=1))\n",
        "print(np.argmin(arr, axis=1))\n",
        "# TODO - напишите код поиска индексов максимальных/минимальных \n",
        "#           элементов в массиве по столбцам: [0 2 3 3 1]/[2 0 1 1 0]"
      ],
      "execution_count": null,
      "outputs": [
        {
          "output_type": "stream",
          "text": [
            "[0 4 4 4]\n",
            "[1 3 0 1]\n"
          ],
          "name": "stdout"
        }
      ]
    },
    {
      "cell_type": "markdown",
      "metadata": {
        "id": "B-BhMwTynb1c"
      },
      "source": [
        "## Задание\n",
        "\n",
        "Напишите код сортировки массива по столбцам:"
      ]
    },
    {
      "cell_type": "code",
      "metadata": {
        "colab": {
          "base_uri": "https://localhost:8080/",
          "height": 90
        },
        "id": "XeyGvnv9nha8",
        "outputId": "d232496e-9b6c-4ed8-9283-aa7bce34c553"
      },
      "source": [
        "arr = np.array([\n",
        "    [11, 2, 1, 3, 5],\n",
        "    [6, 2, 0, -1, 10],\n",
        "    [1, 3, 2, 3, 5],\n",
        "    [5, 2, 7, 8, 9],\n",
        "])\n",
        "\n",
        "print(np.sort(arr,axis=0))\n",
        "\n",
        "# TODO - напишите код сортировки:\n",
        "# [[ 1  2  0 -1  5]\n",
        "#  [ 5  2  1  3  5]\n",
        "#  [ 6  2  2  3  9]\n",
        "#  [11  3  7  8 10]]"
      ],
      "execution_count": null,
      "outputs": [
        {
          "output_type": "stream",
          "text": [
            "[[ 1  2  0 -1  5]\n",
            " [ 5  2  1  3  5]\n",
            " [ 6  2  2  3  9]\n",
            " [11  3  7  8 10]]\n"
          ],
          "name": "stdout"
        }
      ]
    },
    {
      "cell_type": "markdown",
      "metadata": {
        "id": "Q7HnQ1sydJy9"
      },
      "source": [
        "# Задачки"
      ]
    },
    {
      "cell_type": "markdown",
      "metadata": {
        "id": "G9GZ6RxEFl4R"
      },
      "source": [
        "Создайте массив, состоящий из случайных элементов в диапазоне $[-10; 20]$ размером $(5, 7)$:"
      ]
    },
    {
      "cell_type": "code",
      "metadata": {
        "colab": {
          "base_uri": "https://localhost:8080/",
          "height": 109
        },
        "id": "nm7ygwgfF-2M",
        "outputId": "3aa97350-3d40-44cf-f6fe-0e548156e59d"
      },
      "source": [
        "# TODO - создайте массив со случайными целочисленными элементами\n",
        "data = np.random.randint(low=-10, high=20, size=(5, 7))\n",
        "print(data)"
      ],
      "execution_count": null,
      "outputs": [
        {
          "output_type": "stream",
          "text": [
            "[[ 16   0  11  17  -7   7  -5]\n",
            " [  2  12  -4  19  15  19  -4]\n",
            " [  1  16   4  -9  -4  -9   3]\n",
            " [ 16 -10  -4 -10   5   2  10]\n",
            " [  9  -2  18   8  19  -4   6]]\n"
          ],
          "name": "stdout"
        }
      ]
    },
    {
      "cell_type": "markdown",
      "metadata": {
        "id": "N7RHO3OQmZAv"
      },
      "source": [
        "Добавьте границу в виде нулей со всех сторон 2D массива:"
      ]
    },
    {
      "cell_type": "code",
      "metadata": {
        "colab": {
          "base_uri": "https://localhost:8080/",
          "height": 109
        },
        "id": "3Eg9jmjLGief",
        "outputId": "b06e780f-4111-4e5b-8800-0cf146a43773"
      },
      "source": [
        "data = np.arange(1, 16).reshape((3, 5))\n",
        "a1=np.zeros((3,1))\n",
        "a2=np.zeros((1,7))\n",
        "data=np.concatenate((a1,data,a1), axis=1)\n",
        "print(np.concatenate((a2,data,a2), axis=0))\n",
        "\n",
        "# TODO - реализуйте добавление нулей со всех сторон массива:\n",
        "# [[ 0  0  0  0  0  0  0]\n",
        "#  [ 0  1  2  3  4  5  0]\n",
        "#  [ 0  6  7  8  9 10  0]\n",
        "#  [ 0 11 12 13 14 15  0]\n",
        "#  [ 0  0  0  0  0  0  0]]"
      ],
      "execution_count": null,
      "outputs": [
        {
          "output_type": "stream",
          "text": [
            "[[ 0.  0.  0.  0.  0.  0.  0.]\n",
            " [ 0.  1.  2.  3.  4.  5.  0.]\n",
            " [ 0.  6.  7.  8.  9. 10.  0.]\n",
            " [ 0. 11. 12. 13. 14. 15.  0.]\n",
            " [ 0.  0.  0.  0.  0.  0.  0.]]\n"
          ],
          "name": "stdout"
        }
      ]
    },
    {
      "cell_type": "markdown",
      "metadata": {
        "id": "dZd4lWT7-A02"
      },
      "source": [
        "Разберитесь с функцией `np.clip()` и произведите ограничение массива, чтобы в нем значения были не более шести и не менее двух:"
      ]
    },
    {
      "cell_type": "code",
      "metadata": {
        "colab": {
          "base_uri": "https://localhost:8080/",
          "height": 72
        },
        "id": "ux991dZdmpS4",
        "outputId": "90b88aaf-0a68-481d-80c0-bb646498f856"
      },
      "source": [
        "data = np.arange(1, 16).reshape((3, 5))\n",
        "print(np.clip(data,2,6))\n",
        "\n",
        "# TODO - ограничьте значения массива\n",
        "# [[2 2 3 4 5]\n",
        "#  [6 6 6 6 6]\n",
        "#  [6 6 6 6 6]]"
      ],
      "execution_count": null,
      "outputs": [
        {
          "output_type": "stream",
          "text": [
            "[[2 2 3 4 5]\n",
            " [6 6 6 6 6]\n",
            " [6 6 6 6 6]]\n"
          ],
          "name": "stdout"
        }
      ]
    },
    {
      "cell_type": "markdown",
      "metadata": {
        "id": "GaK2Wjsc-ufd"
      },
      "source": [
        "Произведите модификацию массива так, чтобы значение в колонке результата соответствовало исходному значению, возведенному в степень индекса колонки:"
      ]
    },
    {
      "cell_type": "code",
      "metadata": {
        "colab": {
          "base_uri": "https://localhost:8080/",
          "height": 72
        },
        "id": "hL1yy-0b-Ned",
        "outputId": "96e8b04a-b584-48ec-d304-57eed8df0b58"
      },
      "source": [
        "data = np.full((3, 5), fill_value=2, dtype=np.int32)\n",
        "print(np.power(data,np.tile(np.arange(0,5),reps=(3, 1))))\n",
        "\n",
        "# TODO - возведите значения в колонках в степень индекса колонки\n",
        "# [[ 1  2  4  8 16]\n",
        "#  [ 1  2  4  8 16]\n",
        "#  [ 1  2  4  8 16]]"
      ],
      "execution_count": null,
      "outputs": [
        {
          "output_type": "stream",
          "text": [
            "[[ 1  2  4  8 16]\n",
            " [ 1  2  4  8 16]\n",
            " [ 1  2  4  8 16]]\n"
          ],
          "name": "stdout"
        }
      ]
    },
    {
      "cell_type": "markdown",
      "metadata": {
        "id": "UvwJTfMQE2Eh"
      },
      "source": [
        "Умножьте каждую колонку на ее индекс:"
      ]
    },
    {
      "cell_type": "code",
      "metadata": {
        "colab": {
          "base_uri": "https://localhost:8080/",
          "height": 72
        },
        "id": "hV5rEePyE1VH",
        "outputId": "627aaa06-c0e9-44bf-a88b-7e1736925c73"
      },
      "source": [
        "data = np.full((3, 5), fill_value=2, dtype=np.int32)\n",
        "print(np.multiply(data,np.tile(np.arange(0,5),reps=(3, 1))))\n",
        "\n",
        "# TODO - Умножьте каждый столбец на свой индекс\n",
        "# [[0 2 4 6 8]\n",
        "#  [0 2 4 6 8]\n",
        "#  [0 2 4 6 8]]"
      ],
      "execution_count": null,
      "outputs": [
        {
          "output_type": "stream",
          "text": [
            "[[0 2 4 6 8]\n",
            " [0 2 4 6 8]\n",
            " [0 2 4 6 8]]\n"
          ],
          "name": "stdout"
        }
      ]
    },
    {
      "cell_type": "markdown",
      "metadata": {
        "id": "VzMibei69GMQ"
      },
      "source": [
        "Умножьте каждый четный ряд в матрице на вектор:"
      ]
    },
    {
      "cell_type": "code",
      "metadata": {
        "colab": {
          "base_uri": "https://localhost:8080/",
          "height": 146
        },
        "id": "BWkmzzWq-O3d",
        "outputId": "c376255a-704b-4540-c3d9-30a7b0d6345f"
      },
      "source": [
        "data = np.repeat(np.arange(1, 8), 4).reshape(7, 4)\n",
        "vec = np.array([1, 2, 1, 2])\n",
        "rows=np.arange(0,7,2)\n",
        "for i in rows:\n",
        "  data[i,:]=np.multiply(data[i,:],vec)\n",
        "\n",
        "print(data)\n",
        "\n",
        "# TODO - умножьте каждый четный ряд в матрице на вектор\n",
        "# [[ 1  2  1  2]\n",
        "#  [ 2  2  2  2]\n",
        "#  [ 3  6  3  6]\n",
        "#  [ 4  4  4  4]\n",
        "#  [ 5 10  5 10]\n",
        "#  [ 6  6  6  6]\n",
        "#  [ 7 14  7 14]]"
      ],
      "execution_count": null,
      "outputs": [
        {
          "output_type": "stream",
          "text": [
            "[[ 1  2  1  2]\n",
            " [ 2  2  2  2]\n",
            " [ 3  6  3  6]\n",
            " [ 4  4  4  4]\n",
            " [ 5 10  5 10]\n",
            " [ 6  6  6  6]\n",
            " [ 7 14  7 14]]\n"
          ],
          "name": "stdout"
        }
      ]
    },
    {
      "cell_type": "markdown",
      "metadata": {
        "id": "HkNh2J_BCXgo"
      },
      "source": [
        "Определите индексы двух наибольших элементов в матрице по каждому ряду:"
      ]
    },
    {
      "cell_type": "code",
      "metadata": {
        "colab": {
          "base_uri": "https://localhost:8080/"
        },
        "id": "oPta0_FI9phV",
        "outputId": "72d2eb2d-5c23-4abf-c64e-640f893cc60c"
      },
      "source": [
        "data = np.array([[20, 22,  2, 14, 25,  8],\n",
        "                [ 7, 25, 23,  3, 22, 15],\n",
        "                [ 8, 16,  9, 22,  0,  9],\n",
        "                [ 4, 24, 24, 28,  3, 40]])\n",
        "#print(data)\n",
        "d1=np.argsort(data, axis=1)\n",
        "d1[:,5:3:-1]\n",
        "\n",
        "# TODO - определите индексы двух наибольших элементов по каждому ряду\n",
        "# [[4 1]\n",
        "#  [1 2]\n",
        "#  [3 1]\n",
        "#  [5 3]]"
      ],
      "execution_count": 15,
      "outputs": [
        {
          "output_type": "execute_result",
          "data": {
            "text/plain": [
              "array([[4, 1],\n",
              "       [1, 2],\n",
              "       [3, 1],\n",
              "       [5, 3]])"
            ]
          },
          "metadata": {
            "tags": []
          },
          "execution_count": 15
        }
      ]
    },
    {
      "cell_type": "markdown",
      "metadata": {
        "id": "dHWhvnrxGNbi"
      },
      "source": [
        "Выберите две случайные колонки из массива:\n",
        "\n",
        "<details>\n",
        "<summary>Подсказка 1</summary>\n",
        "\n",
        "Для случайного выбора полезно воспользоваться функцией `np.random.choice()`\n",
        "</details>\n",
        "\n",
        "<details>\n",
        "<summary>Подсказка 2</summary>\n",
        "\n",
        "`np.random.choice()` принимает на вход 1D массив, так что для выбора можно создать массив индексов колонок (`range()` с количеством колонок) и из него функция выберет два случайных индекса\n",
        "</details>"
      ]
    },
    {
      "cell_type": "code",
      "metadata": {
        "id": "QyOXcEMSGWhJ",
        "colab": {
          "base_uri": "https://localhost:8080/"
        },
        "outputId": "3320f41a-07c7-42c1-eeb8-3704e283b588"
      },
      "source": [
        "data = np.array([[20, 22,  2, 14, 25,  8],\n",
        "                [ 7, 25, 23,  3, 22, 15],\n",
        "                [ 8, 16,  9, 22,  0,  9],\n",
        "                [ 4, 24, 24, 28,  3, 40]])\n",
        "#print(data)\n",
        "rows=np.arange(0,5)\n",
        "d1=data[:,np.random.choice(rows)]\n",
        "\n",
        "d2=data[:,np.random.choice(rows)]\n",
        "d3=np.concatenate((d1, d2),axis=0)\n",
        "d4=d3.reshape((2, 4))\n",
        "d4.transpose()\n",
        "#data[:,np.random.choice(rows)]\n",
        "# TODO - выберите случайные две колонки из массива\n",
        "# *Например,\n",
        "# [[22  8]\n",
        "#  [25 15]\n",
        "#  [16  9]\n",
        "#  [24 40]]"
      ],
      "execution_count": 54,
      "outputs": [
        {
          "output_type": "execute_result",
          "data": {
            "text/plain": [
              "array([[14, 22],\n",
              "       [ 3, 25],\n",
              "       [22, 16],\n",
              "       [28, 24]])"
            ]
          },
          "metadata": {
            "tags": []
          },
          "execution_count": 54
        }
      ]
    },
    {
      "cell_type": "markdown",
      "metadata": {
        "id": "2klcFh_wKeZl"
      },
      "source": [
        "Создайте массив размером $(10, 3)$, который состоит из повторяющихся рядов исходного массива:"
      ]
    },
    {
      "cell_type": "code",
      "metadata": {
        "id": "V3iiVqlRKnlw",
        "colab": {
          "base_uri": "https://localhost:8080/"
        },
        "outputId": "fe8a4003-3e49-4773-8140-7409fe53bbe5"
      },
      "source": [
        "data = np.arange(9).reshape(3, 3)\n",
        "print(data)\n",
        "d1=np.tile(data,(4, 1))\n",
        "d1[0:10,:]\n",
        "# TODO - создайте массив из повторяющихся рядов размером (10, 3)\n",
        "# *Например,\n",
        "# [[3 4 5]\n",
        "#  [6 7 8]\n",
        "#  [0 1 2]\n",
        "#  [6 7 8]\n",
        "#  [3 4 5]\n",
        "#  [6 7 8]\n",
        "#  [6 7 8]\n",
        "#  [6 7 8]\n",
        "#  [6 7 8]\n",
        "#  [0 1 2]]"
      ],
      "execution_count": 64,
      "outputs": [
        {
          "output_type": "stream",
          "text": [
            "[[0 1 2]\n",
            " [3 4 5]\n",
            " [6 7 8]]\n"
          ],
          "name": "stdout"
        },
        {
          "output_type": "execute_result",
          "data": {
            "text/plain": [
              "array([[0, 1, 2],\n",
              "       [3, 4, 5],\n",
              "       [6, 7, 8],\n",
              "       [0, 1, 2],\n",
              "       [3, 4, 5],\n",
              "       [6, 7, 8],\n",
              "       [0, 1, 2],\n",
              "       [3, 4, 5],\n",
              "       [6, 7, 8],\n",
              "       [0, 1, 2]])"
            ]
          },
          "metadata": {
            "tags": []
          },
          "execution_count": 64
        }
      ]
    },
    {
      "cell_type": "markdown",
      "metadata": {
        "id": "SH70EM7FIyqL"
      },
      "source": [
        "Соберите массив, состоящий из элементов 2й и 4й колонок и строк с 1й по 3ю:"
      ]
    },
    {
      "cell_type": "code",
      "metadata": {
        "id": "c6KbqmPBDYaJ",
        "colab": {
          "base_uri": "https://localhost:8080/"
        },
        "outputId": "c0f9ee0f-fd53-4f1d-ff6d-5451d9ec13d3"
      },
      "source": [
        "data = np.array([[20, 22,  2, 14, 25,  8],\n",
        "                [ 7, 25, 23,  3, 22, 15],\n",
        "                [ 8, 16,  9, 22,  0,  9],\n",
        "                [ 14, 9,  33, 21,  7,  6],\n",
        "                [ 4, 24, 24, 28,  3, 40]])\n",
        "#print(data)\n",
        "data[1:4,[2,4]]\n",
        "# TODO - соберите матрицу из конкретных элементов массива\n",
        "# [[23 22]\n",
        "#  [ 9  0]\n",
        "#  [33  7]]"
      ],
      "execution_count": 70,
      "outputs": [
        {
          "output_type": "execute_result",
          "data": {
            "text/plain": [
              "array([[23, 22],\n",
              "       [ 9,  0],\n",
              "       [33,  7]])"
            ]
          },
          "metadata": {
            "tags": []
          },
          "execution_count": 70
        }
      ]
    },
    {
      "cell_type": "markdown",
      "metadata": {
        "id": "vS3kwb59Jee2"
      },
      "source": [
        "Инвертируйте порядок элементов в последних двух колонках:"
      ]
    },
    {
      "cell_type": "code",
      "metadata": {
        "id": "wTKNzMf9Jd3g",
        "colab": {
          "base_uri": "https://localhost:8080/"
        },
        "outputId": "20eb20f7-1789-4377-9c7a-1d24b5adbe3f"
      },
      "source": [
        "data = np.array([[20, 22,  2, 14, 25,  8],\n",
        "                [ 7, 25, 23,  3, 22, 15],\n",
        "                [ 8, 16,  9, 22,  0,  9],\n",
        "                [ 14, 9,  33, 21,  7,  6],\n",
        "                [ 4, 24, 24, 28,  3, 40]])\n",
        "#print(data)\n",
        "d1=data[:,4]\n",
        "d2=data[:,5]\n",
        "d1=d1.reshape(5,1)\n",
        "d2=d2.reshape(5,1)\n",
        "#print(d1)\n",
        "#print(d2.size)\n",
        "d3=np.concatenate((data[:,0:4],d2,d1),axis=1)\n",
        "print(d3)\n",
        "# TODO - инвертируйте порядок последних двух колонок\n",
        "# [[20 22  2 14  3 40]\n",
        "#  [ 7 25 23  3  7  6]\n",
        "#  [ 8 16  9 22  0  9]\n",
        "#  [14  9 33 21 22 15]\n",
        "#  [ 4 24 24 28 25  8]]"
      ],
      "execution_count": 107,
      "outputs": [
        {
          "output_type": "stream",
          "text": [
            "[[20 22  2 14  8 25]\n",
            " [ 7 25 23  3 15 22]\n",
            " [ 8 16  9 22  9  0]\n",
            " [14  9 33 21  6  7]\n",
            " [ 4 24 24 28 40  3]]\n"
          ],
          "name": "stdout"
        }
      ]
    },
    {
      "cell_type": "code",
      "metadata": {
        "id": "lr9Ecb42JIQm"
      },
      "source": [
        ""
      ],
      "execution_count": null,
      "outputs": []
    }
  ]
}