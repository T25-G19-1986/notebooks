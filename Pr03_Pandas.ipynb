{
  "nbformat": 4,
  "nbformat_minor": 0,
  "metadata": {
    "kernelspec": {
      "display_name": "Python 3",
      "language": "python",
      "name": "python3"
    },
    "language_info": {
      "codemirror_mode": {
        "name": "ipython",
        "version": 3
      },
      "file_extension": ".py",
      "mimetype": "text/x-python",
      "name": "python",
      "nbconvert_exporter": "python",
      "pygments_lexer": "ipython3",
      "version": "3.8.3"
    },
    "colab": {
      "name": "Pr03_Pandas.ipynb",
      "provenance": [],
      "collapsed_sections": [],
      "toc_visible": true,
      "include_colab_link": true
    }
  },
  "cells": [
    {
      "cell_type": "markdown",
      "metadata": {
        "id": "view-in-github",
        "colab_type": "text"
      },
      "source": [
        "<a href=\"https://colab.research.google.com/github/T25-G19-1986/notebooks/blob/main/Pr03_Pandas.ipynb\" target=\"_parent\"><img src=\"https://colab.research.google.com/assets/colab-badge.svg\" alt=\"Open In Colab\"/></a>"
      ]
    },
    {
      "cell_type": "markdown",
      "metadata": {
        "id": "_hmXpj3l1WIL"
      },
      "source": [
        "# Pandas"
      ]
    },
    {
      "cell_type": "markdown",
      "metadata": {
        "id": "ZvFbiSZm1bP7"
      },
      "source": [
        "Pandas - это библиотека для работы с табличными данными.\n",
        "\n",
        "Как всегда, [официальный сайт](https://pandas.pydata.org/) предоставляет самую актуальную и полезную информацию. Доки по функциям и классам [здесь](https://pandas.pydata.org/pandas-docs/stable/reference/index.html)."
      ]
    },
    {
      "cell_type": "markdown",
      "metadata": {
        "id": "1Dy-A1LZ2JUs"
      },
      "source": [
        "Установка pandas как обычно не составляет сложностей:"
      ]
    },
    {
      "cell_type": "code",
      "metadata": {
        "id": "7VCWliX_2MeI",
        "colab": {
          "base_uri": "https://localhost:8080/",
          "height": 364
        },
        "outputId": "e6e85fce-641c-48b7-e8b5-49ad26e578f6"
      },
      "source": [
        "!pip install pandas==1.0.0"
      ],
      "execution_count": null,
      "outputs": [
        {
          "output_type": "stream",
          "text": [
            "Collecting pandas==1.0.0\n",
            "\u001b[?25l  Downloading https://files.pythonhosted.org/packages/12/d1/a6502c2f5c15b50f5dd579fc1c52b47edf6f2e9f682aed917dd7565b3e60/pandas-1.0.0-cp36-cp36m-manylinux1_x86_64.whl (10.1MB)\n",
            "\u001b[K     |████████████████████████████████| 10.1MB 11.6MB/s \n",
            "\u001b[?25hRequirement already satisfied: numpy>=1.13.3 in /usr/local/lib/python3.6/dist-packages (from pandas==1.0.0) (1.18.5)\n",
            "Requirement already satisfied: python-dateutil>=2.6.1 in /usr/local/lib/python3.6/dist-packages (from pandas==1.0.0) (2.8.1)\n",
            "Requirement already satisfied: pytz>=2017.2 in /usr/local/lib/python3.6/dist-packages (from pandas==1.0.0) (2018.9)\n",
            "Requirement already satisfied: six>=1.5 in /usr/local/lib/python3.6/dist-packages (from python-dateutil>=2.6.1->pandas==1.0.0) (1.15.0)\n",
            "\u001b[31mERROR: google-colab 1.0.0 has requirement pandas~=1.1.0; python_version >= \"3.0\", but you'll have pandas 1.0.0 which is incompatible.\u001b[0m\n",
            "\u001b[31mERROR: fbprophet 0.7.1 has requirement pandas>=1.0.4, but you'll have pandas 1.0.0 which is incompatible.\u001b[0m\n",
            "Installing collected packages: pandas\n",
            "  Found existing installation: pandas 1.1.4\n",
            "    Uninstalling pandas-1.1.4:\n",
            "      Successfully uninstalled pandas-1.1.4\n",
            "Successfully installed pandas-1.0.0\n"
          ],
          "name": "stdout"
        },
        {
          "output_type": "display_data",
          "data": {
            "application/vnd.colab-display-data+json": {
              "pip_warning": {
                "packages": [
                  "pandas"
                ]
              }
            }
          },
          "metadata": {
            "tags": []
          }
        }
      ]
    },
    {
      "cell_type": "markdown",
      "metadata": {
        "id": "TlwBz_g72OMg"
      },
      "source": [
        "Импорт библиотеки с устоявшимся сокращением:"
      ]
    },
    {
      "cell_type": "code",
      "metadata": {
        "id": "JGQnosLe2TiZ"
      },
      "source": [
        "import pandas as pd"
      ],
      "execution_count": null,
      "outputs": []
    },
    {
      "cell_type": "markdown",
      "metadata": {
        "id": "yHJyRJ5M64Mr"
      },
      "source": [
        ""
      ]
    },
    {
      "cell_type": "markdown",
      "metadata": {
        "id": "lD9rbk7k2auF"
      },
      "source": [
        "# Создание объекта таблицы"
      ]
    },
    {
      "cell_type": "markdown",
      "metadata": {
        "id": "M6V26pIT2if3"
      },
      "source": [
        "Начнем с простого создания объекта основного класса в pandas - `DataFrame`. Фреймы в pandas представляют собой двумерные массивы (матрицы) данных. Для применения в машинном обучении визуально можно представить данные следующим образом:\n",
        "\n",
        "$$\n",
        "X = \n",
        "\\begin{bmatrix}\n",
        "x^{(1)}_1 & \\dots & x^{(1)}_{m-1} & x^{(1)}_m \\\\\n",
        "x^{(2)}_1 & \\dots & x^{(2)}_{m-1} & x^{(2)}_m \\\\\n",
        "\\vdots & \\ddots &  \\vdots & \\vdots  \\\\\n",
        "x^{(n)}_1 & \\dots & x^{(n)}_{m-1} & x^{(n)}_m \\\\\n",
        "\\end{bmatrix}\n",
        "$$\n",
        "\n",
        "где $n$ - количество записей (сэмплов/рядов) в данных, $m$ - количество признаков (предикторов/фич) в данных.\n",
        "\n",
        "> **Признаки** в данных - это те данные, на основе которых производится анализ данных, обучение модели и предсказание. В реальной задаче признаками могут быть \"цена\", \"пол\", \"группа крови\", \"текст в заявке\" и т.д. [Колонки в таблице]\n",
        "\n",
        "> **Записи** в данных - сущности, каждая из которых имеет свой набор значений признаков. В базе данных банка это могут быть отдельные транзакции. Все транзакции имеют одинаковые признаки, но значения этих признаков у каждой записи свои. [Строки в таблице]"
      ]
    },
    {
      "cell_type": "markdown",
      "metadata": {
        "id": "YGZ0Le_m6866"
      },
      "source": [
        "Создание `DataFrame` возможно разными способами, для начала попробуем создать фрейм из двумерного массива:"
      ]
    },
    {
      "cell_type": "code",
      "metadata": {
        "id": "6ffPZfw67l5u",
        "colab": {
          "base_uri": "https://localhost:8080/"
        },
        "outputId": "cc47aa7b-adc9-412f-89e7-b0ef978d461e"
      },
      "source": [
        "import numpy as np\n",
        "\n",
        "arr = np.random.randint(0, 10, size=(5, 3))\n",
        "print(arr)"
      ],
      "execution_count": null,
      "outputs": [
        {
          "output_type": "stream",
          "text": [
            "[[8 7 6]\n",
            " [6 2 6]\n",
            " [7 2 6]\n",
            " [4 5 9]\n",
            " [4 4 9]]\n"
          ],
          "name": "stdout"
        }
      ]
    },
    {
      "cell_type": "code",
      "metadata": {
        "id": "AHGZmnLI7x6R",
        "colab": {
          "base_uri": "https://localhost:8080/",
          "height": 206
        },
        "outputId": "3081f917-cb0c-4a25-bf75-27c194037737"
      },
      "source": [
        "# Создание фрейма - просто вызвать конструктор\n",
        "df = pd.DataFrame(data=arr)\n",
        "# Фреймы удобнее отображать с помощью встроенных средств Jupyter\n",
        "df"
      ],
      "execution_count": null,
      "outputs": [
        {
          "output_type": "execute_result",
          "data": {
            "text/html": [
              "<div>\n",
              "<style scoped>\n",
              "    .dataframe tbody tr th:only-of-type {\n",
              "        vertical-align: middle;\n",
              "    }\n",
              "\n",
              "    .dataframe tbody tr th {\n",
              "        vertical-align: top;\n",
              "    }\n",
              "\n",
              "    .dataframe thead th {\n",
              "        text-align: right;\n",
              "    }\n",
              "</style>\n",
              "<table border=\"1\" class=\"dataframe\">\n",
              "  <thead>\n",
              "    <tr style=\"text-align: right;\">\n",
              "      <th></th>\n",
              "      <th>0</th>\n",
              "      <th>1</th>\n",
              "      <th>2</th>\n",
              "    </tr>\n",
              "  </thead>\n",
              "  <tbody>\n",
              "    <tr>\n",
              "      <th>0</th>\n",
              "      <td>0</td>\n",
              "      <td>5</td>\n",
              "      <td>7</td>\n",
              "    </tr>\n",
              "    <tr>\n",
              "      <th>1</th>\n",
              "      <td>5</td>\n",
              "      <td>6</td>\n",
              "      <td>9</td>\n",
              "    </tr>\n",
              "    <tr>\n",
              "      <th>2</th>\n",
              "      <td>8</td>\n",
              "      <td>3</td>\n",
              "      <td>6</td>\n",
              "    </tr>\n",
              "    <tr>\n",
              "      <th>3</th>\n",
              "      <td>1</td>\n",
              "      <td>8</td>\n",
              "      <td>6</td>\n",
              "    </tr>\n",
              "    <tr>\n",
              "      <th>4</th>\n",
              "      <td>3</td>\n",
              "      <td>2</td>\n",
              "      <td>0</td>\n",
              "    </tr>\n",
              "  </tbody>\n",
              "</table>\n",
              "</div>"
            ],
            "text/plain": [
              "   0  1  2\n",
              "0  0  5  7\n",
              "1  5  6  9\n",
              "2  8  3  6\n",
              "3  1  8  6\n",
              "4  3  2  0"
            ]
          },
          "metadata": {
            "tags": []
          },
          "execution_count": 4
        }
      ]
    },
    {
      "cell_type": "markdown",
      "metadata": {
        "id": "GDmWQFBI9TmN"
      },
      "source": [
        "В представленном фрейме важно отметить две особенности:\n",
        "- Колонки (признаки) имеют имена, но так как мы их (имена) не задали, то они создались автоматически;\n",
        "- Каждая строка (запись) имеет **уникальный** индекс, тоже создались сами, так как мы не передавали своих индексов.\n",
        "\n",
        "Для задания имен колонок используется аргумент в конструкторе `columns`, в который передаеся список имен по количеству признаков. Для задания индексов аргумент `index`, в который передается список индексов по количеству записей в массиве."
      ]
    },
    {
      "cell_type": "markdown",
      "metadata": {
        "id": "kcJdh-ES_bsy"
      },
      "source": [
        "## Задание\n",
        "\n",
        "Создайте фрейм с именами колонок `'col_1', 'col_2', 'col_3'` и индексами по алфавиту (`'A', 'B', 'C', ...` или `'A', 'Б', 'В', ...`)."
      ]
    },
    {
      "cell_type": "code",
      "metadata": {
        "id": "fes-4j4U_1ts",
        "colab": {
          "base_uri": "https://localhost:8080/",
          "height": 206
        },
        "outputId": "7f137c02-bead-432b-e8c9-bdffbd2abdb6"
      },
      "source": [
        "# TODO\n",
        "\n",
        "arr = np.random.randint(0, 10, size=(5, 3))\n",
        "df = pd.DataFrame(data=arr,index=['a' ,'b', 'c', 'd', 'e'] , columns=['col_1', 'col_2', 'col_3'])\n",
        "df"
      ],
      "execution_count": null,
      "outputs": [
        {
          "output_type": "execute_result",
          "data": {
            "text/html": [
              "<div>\n",
              "<style scoped>\n",
              "    .dataframe tbody tr th:only-of-type {\n",
              "        vertical-align: middle;\n",
              "    }\n",
              "\n",
              "    .dataframe tbody tr th {\n",
              "        vertical-align: top;\n",
              "    }\n",
              "\n",
              "    .dataframe thead th {\n",
              "        text-align: right;\n",
              "    }\n",
              "</style>\n",
              "<table border=\"1\" class=\"dataframe\">\n",
              "  <thead>\n",
              "    <tr style=\"text-align: right;\">\n",
              "      <th></th>\n",
              "      <th>col_1</th>\n",
              "      <th>col_2</th>\n",
              "      <th>col_3</th>\n",
              "    </tr>\n",
              "  </thead>\n",
              "  <tbody>\n",
              "    <tr>\n",
              "      <th>a</th>\n",
              "      <td>2</td>\n",
              "      <td>2</td>\n",
              "      <td>1</td>\n",
              "    </tr>\n",
              "    <tr>\n",
              "      <th>b</th>\n",
              "      <td>8</td>\n",
              "      <td>8</td>\n",
              "      <td>4</td>\n",
              "    </tr>\n",
              "    <tr>\n",
              "      <th>c</th>\n",
              "      <td>3</td>\n",
              "      <td>3</td>\n",
              "      <td>0</td>\n",
              "    </tr>\n",
              "    <tr>\n",
              "      <th>d</th>\n",
              "      <td>4</td>\n",
              "      <td>1</td>\n",
              "      <td>8</td>\n",
              "    </tr>\n",
              "    <tr>\n",
              "      <th>e</th>\n",
              "      <td>7</td>\n",
              "      <td>6</td>\n",
              "      <td>2</td>\n",
              "    </tr>\n",
              "  </tbody>\n",
              "</table>\n",
              "</div>"
            ],
            "text/plain": [
              "   col_1  col_2  col_3\n",
              "a      2      2      1\n",
              "b      8      8      4\n",
              "c      3      3      0\n",
              "d      4      1      8\n",
              "e      7      6      2"
            ]
          },
          "metadata": {
            "tags": []
          },
          "execution_count": 9
        }
      ]
    },
    {
      "cell_type": "markdown",
      "metadata": {
        "id": "kdd9oZeYBd3P"
      },
      "source": [
        "# Создание фрейма из словарей"
      ]
    },
    {
      "cell_type": "markdown",
      "metadata": {
        "id": "E1TqHsVxBhKy"
      },
      "source": [
        "Другим способом создания фрейма является конструктор на основе словаря с данными:"
      ]
    },
    {
      "cell_type": "code",
      "metadata": {
        "id": "ifWrFrLUCJ5r",
        "colab": {
          "base_uri": "https://localhost:8080/",
          "height": 175
        },
        "outputId": "56d353c6-9ad4-4040-8d23-4d19dc290888"
      },
      "source": [
        "# Создается словарь, в котором ключи будут названиями колонок,\n",
        "#   а значения - данные по этим колонкам\n",
        "data = {\n",
        "    'test_1_mark': [4.6, 3.8, 5.0, 4.5],\n",
        "    'test_2_mark': [5.0, 3.9, 4.7, 4.5]\n",
        "}\n",
        "\n",
        "pd.DataFrame(data)"
      ],
      "execution_count": null,
      "outputs": [
        {
          "output_type": "execute_result",
          "data": {
            "text/html": [
              "<div>\n",
              "<style scoped>\n",
              "    .dataframe tbody tr th:only-of-type {\n",
              "        vertical-align: middle;\n",
              "    }\n",
              "\n",
              "    .dataframe tbody tr th {\n",
              "        vertical-align: top;\n",
              "    }\n",
              "\n",
              "    .dataframe thead th {\n",
              "        text-align: right;\n",
              "    }\n",
              "</style>\n",
              "<table border=\"1\" class=\"dataframe\">\n",
              "  <thead>\n",
              "    <tr style=\"text-align: right;\">\n",
              "      <th></th>\n",
              "      <th>test_1_mark</th>\n",
              "      <th>test_2_mark</th>\n",
              "    </tr>\n",
              "  </thead>\n",
              "  <tbody>\n",
              "    <tr>\n",
              "      <th>0</th>\n",
              "      <td>4.6</td>\n",
              "      <td>5.0</td>\n",
              "    </tr>\n",
              "    <tr>\n",
              "      <th>1</th>\n",
              "      <td>3.8</td>\n",
              "      <td>3.9</td>\n",
              "    </tr>\n",
              "    <tr>\n",
              "      <th>2</th>\n",
              "      <td>5.0</td>\n",
              "      <td>4.7</td>\n",
              "    </tr>\n",
              "    <tr>\n",
              "      <th>3</th>\n",
              "      <td>4.5</td>\n",
              "      <td>4.5</td>\n",
              "    </tr>\n",
              "  </tbody>\n",
              "</table>\n",
              "</div>"
            ],
            "text/plain": [
              "   test_1_mark  test_2_mark\n",
              "0          4.6          5.0\n",
              "1          3.8          3.9\n",
              "2          5.0          4.7\n",
              "3          4.5          4.5"
            ]
          },
          "metadata": {
            "tags": []
          },
          "execution_count": 10
        }
      ]
    },
    {
      "cell_type": "markdown",
      "metadata": {
        "id": "qr6mFv5xDmZc"
      },
      "source": [
        "Альтернативой использования словарей является создание массива словарей:"
      ]
    },
    {
      "cell_type": "code",
      "metadata": {
        "id": "C037OQaSD8yY",
        "colab": {
          "base_uri": "https://localhost:8080/",
          "height": 143
        },
        "outputId": "52c1026c-51ee-4c07-a197-f60eeb120593"
      },
      "source": [
        "# Создается список записей, каждая запись представлена словарем\n",
        "# В словаре ключи - названия колонок\n",
        "# При создании фрейма pandas просмотри все возможные ключи словарей в списке\n",
        "#   и создаст колонок по их названиям\n",
        "data = [\n",
        "    {\n",
        "        'test_1_mark': 4.6,\n",
        "        'test_2_mark': 5.0\n",
        "    },\n",
        "    {\n",
        "        'test_1_mark': 3.8,\n",
        "        'test_2_mark': 3.9\n",
        "    },\n",
        "    {\n",
        "        'test_1_mark': 5.0\n",
        "    },\n",
        "]\n",
        "\n",
        "pd.DataFrame(data)"
      ],
      "execution_count": null,
      "outputs": [
        {
          "output_type": "execute_result",
          "data": {
            "text/html": [
              "<div>\n",
              "<style scoped>\n",
              "    .dataframe tbody tr th:only-of-type {\n",
              "        vertical-align: middle;\n",
              "    }\n",
              "\n",
              "    .dataframe tbody tr th {\n",
              "        vertical-align: top;\n",
              "    }\n",
              "\n",
              "    .dataframe thead th {\n",
              "        text-align: right;\n",
              "    }\n",
              "</style>\n",
              "<table border=\"1\" class=\"dataframe\">\n",
              "  <thead>\n",
              "    <tr style=\"text-align: right;\">\n",
              "      <th></th>\n",
              "      <th>test_1_mark</th>\n",
              "      <th>test_2_mark</th>\n",
              "    </tr>\n",
              "  </thead>\n",
              "  <tbody>\n",
              "    <tr>\n",
              "      <th>0</th>\n",
              "      <td>4.6</td>\n",
              "      <td>5.0</td>\n",
              "    </tr>\n",
              "    <tr>\n",
              "      <th>1</th>\n",
              "      <td>3.8</td>\n",
              "      <td>3.9</td>\n",
              "    </tr>\n",
              "    <tr>\n",
              "      <th>2</th>\n",
              "      <td>5.0</td>\n",
              "      <td>NaN</td>\n",
              "    </tr>\n",
              "  </tbody>\n",
              "</table>\n",
              "</div>"
            ],
            "text/plain": [
              "   test_1_mark  test_2_mark\n",
              "0          4.6          5.0\n",
              "1          3.8          3.9\n",
              "2          5.0          NaN"
            ]
          },
          "metadata": {
            "tags": []
          },
          "execution_count": 11
        }
      ]
    },
    {
      "cell_type": "markdown",
      "metadata": {
        "id": "Xz-spCzKEl4m"
      },
      "source": [
        "Обратите внимание, в одной записи отсутсвовало значение для колонки и во фрейме такое значение обозначено как `NaN`.\n",
        "\n",
        "> **NaN** (Not a Number) - представление пропусков во фрейме.\n",
        "\n",
        "Пропуски в данных являение достаточно распространенное. Например, если данные собираются путем анкетирования, то опциональный вопрос может не иметь ответа, поэтому такие записи пропускаются. При разработке моделей машинного обучения с пропусками ведется отдельная работа, но для сырых данных - это нормальное явление."
      ]
    },
    {
      "cell_type": "markdown",
      "metadata": {
        "id": "N8tbu882Hmqj"
      },
      "source": [
        "# Типы данных"
      ]
    },
    {
      "cell_type": "markdown",
      "metadata": {
        "id": "JhS1UIMCHoIE"
      },
      "source": [
        "Как и в numpy, pandas поддерживает различные типы данных. Для примера создадим фрейм, в котором колонки имеют разные типы данных:"
      ]
    },
    {
      "cell_type": "code",
      "metadata": {
        "id": "Gals1YglIwGr",
        "colab": {
          "base_uri": "https://localhost:8080/",
          "height": 175
        },
        "outputId": "8cd6dee8-cf86-4b17-c659-264d84cbffbd"
      },
      "source": [
        "df = pd.DataFrame({'A': 1.,\n",
        "                   'B': pd.Timestamp('20130102'),\n",
        "                   'C': np.array([2.] * 4, dtype='float32'),\n",
        "                   'D': np.array([3] * 4, dtype='int32'),\n",
        "                   'E': pd.Categorical([\"test\", \"train\", \"test\", \"train\"]),\n",
        "                   'F': 'foo'})\n",
        "df"
      ],
      "execution_count": null,
      "outputs": [
        {
          "output_type": "execute_result",
          "data": {
            "text/html": [
              "<div>\n",
              "<style scoped>\n",
              "    .dataframe tbody tr th:only-of-type {\n",
              "        vertical-align: middle;\n",
              "    }\n",
              "\n",
              "    .dataframe tbody tr th {\n",
              "        vertical-align: top;\n",
              "    }\n",
              "\n",
              "    .dataframe thead th {\n",
              "        text-align: right;\n",
              "    }\n",
              "</style>\n",
              "<table border=\"1\" class=\"dataframe\">\n",
              "  <thead>\n",
              "    <tr style=\"text-align: right;\">\n",
              "      <th></th>\n",
              "      <th>A</th>\n",
              "      <th>B</th>\n",
              "      <th>C</th>\n",
              "      <th>D</th>\n",
              "      <th>E</th>\n",
              "      <th>F</th>\n",
              "    </tr>\n",
              "  </thead>\n",
              "  <tbody>\n",
              "    <tr>\n",
              "      <th>0</th>\n",
              "      <td>1.0</td>\n",
              "      <td>2013-01-02</td>\n",
              "      <td>2.0</td>\n",
              "      <td>3</td>\n",
              "      <td>test</td>\n",
              "      <td>foo</td>\n",
              "    </tr>\n",
              "    <tr>\n",
              "      <th>1</th>\n",
              "      <td>1.0</td>\n",
              "      <td>2013-01-02</td>\n",
              "      <td>2.0</td>\n",
              "      <td>3</td>\n",
              "      <td>train</td>\n",
              "      <td>foo</td>\n",
              "    </tr>\n",
              "    <tr>\n",
              "      <th>2</th>\n",
              "      <td>1.0</td>\n",
              "      <td>2013-01-02</td>\n",
              "      <td>2.0</td>\n",
              "      <td>3</td>\n",
              "      <td>test</td>\n",
              "      <td>foo</td>\n",
              "    </tr>\n",
              "    <tr>\n",
              "      <th>3</th>\n",
              "      <td>1.0</td>\n",
              "      <td>2013-01-02</td>\n",
              "      <td>2.0</td>\n",
              "      <td>3</td>\n",
              "      <td>train</td>\n",
              "      <td>foo</td>\n",
              "    </tr>\n",
              "  </tbody>\n",
              "</table>\n",
              "</div>"
            ],
            "text/plain": [
              "     A          B    C  D      E    F\n",
              "0  1.0 2013-01-02  2.0  3   test  foo\n",
              "1  1.0 2013-01-02  2.0  3  train  foo\n",
              "2  1.0 2013-01-02  2.0  3   test  foo\n",
              "3  1.0 2013-01-02  2.0  3  train  foo"
            ]
          },
          "metadata": {
            "tags": []
          },
          "execution_count": 12
        }
      ]
    },
    {
      "cell_type": "markdown",
      "metadata": {
        "id": "RmHIzPEnJCj3"
      },
      "source": [
        "Как видите, создается фрейм, в котором каждая колонка имеет свой тип. Из них для нас имеются два новых типа:\n",
        "- `Timestamp` - конструктор для временного типа в pandas (`datetime64`);\n",
        "- `Categorical` - категориальный тип, который в большинстве своем является альтернативой численным данным.\n",
        "\n",
        "> **Категориальные данные** - данные, значения которых ограничены списком категорий (одно из возможных значений);\n",
        "\n",
        "> **Численные данные** - данные, которые имеют численное значение (вещественное или целочисленное).\n",
        "\n",
        "Для просмотра информации о фрейме полезно использовать метод `DataFrame.info()`:"
      ]
    },
    {
      "cell_type": "code",
      "metadata": {
        "id": "yQ-DhPj8I7HZ",
        "colab": {
          "base_uri": "https://localhost:8080/"
        },
        "outputId": "213a121e-19a8-4eae-9d23-8419752316be"
      },
      "source": [
        "df.info()"
      ],
      "execution_count": null,
      "outputs": [
        {
          "output_type": "stream",
          "text": [
            "<class 'pandas.core.frame.DataFrame'>\n",
            "RangeIndex: 4 entries, 0 to 3\n",
            "Data columns (total 6 columns):\n",
            " #   Column  Non-Null Count  Dtype         \n",
            "---  ------  --------------  -----         \n",
            " 0   A       4 non-null      float64       \n",
            " 1   B       4 non-null      datetime64[ns]\n",
            " 2   C       4 non-null      float32       \n",
            " 3   D       4 non-null      int32         \n",
            " 4   E       4 non-null      category      \n",
            " 5   F       4 non-null      object        \n",
            "dtypes: category(1), datetime64[ns](1), float32(1), float64(1), int32(1), object(1)\n",
            "memory usage: 356.0+ bytes\n"
          ],
          "name": "stdout"
        }
      ]
    },
    {
      "cell_type": "markdown",
      "metadata": {
        "id": "MKHizp4tLCQ3"
      },
      "source": [
        "Если тип данных не задан явно как категориальный, то строки будут иметь тип `object`, как универсальный тип данных."
      ]
    },
    {
      "cell_type": "markdown",
      "metadata": {
        "id": "XtXeG0mrNRwW"
      },
      "source": [
        "# Обзор данных"
      ]
    },
    {
      "cell_type": "markdown",
      "metadata": {
        "id": "9EM78zz3NTY1"
      },
      "source": [
        "Начало любого анализа данных происходит с того, что мы должны разобраться, с чем имеем дело, поэтому возможности быстрого обзора данных - то, что нужно:"
      ]
    },
    {
      "cell_type": "code",
      "metadata": {
        "id": "bJNK6MJANiJc",
        "colab": {
          "base_uri": "https://localhost:8080/",
          "height": 175
        },
        "outputId": "ea9222d5-5c46-4e8d-dd0c-df0670fdb374"
      },
      "source": [
        "df = pd.DataFrame(\n",
        "    data=np.random.randint(-10, 10, size=(15, 3)), \n",
        "    columns=['x1', 'x2', 'x3']\n",
        ")\n",
        "\n",
        "# Функция получения первых записей фрейма\n",
        "# Аргументом задается количество выводимых данных\n",
        "#   Если не задано - 5 по-умолчанию\n",
        "df.head(4)"
      ],
      "execution_count": null,
      "outputs": [
        {
          "output_type": "execute_result",
          "data": {
            "text/html": [
              "<div>\n",
              "<style scoped>\n",
              "    .dataframe tbody tr th:only-of-type {\n",
              "        vertical-align: middle;\n",
              "    }\n",
              "\n",
              "    .dataframe tbody tr th {\n",
              "        vertical-align: top;\n",
              "    }\n",
              "\n",
              "    .dataframe thead th {\n",
              "        text-align: right;\n",
              "    }\n",
              "</style>\n",
              "<table border=\"1\" class=\"dataframe\">\n",
              "  <thead>\n",
              "    <tr style=\"text-align: right;\">\n",
              "      <th></th>\n",
              "      <th>x1</th>\n",
              "      <th>x2</th>\n",
              "      <th>x3</th>\n",
              "    </tr>\n",
              "  </thead>\n",
              "  <tbody>\n",
              "    <tr>\n",
              "      <th>0</th>\n",
              "      <td>-1</td>\n",
              "      <td>0</td>\n",
              "      <td>3</td>\n",
              "    </tr>\n",
              "    <tr>\n",
              "      <th>1</th>\n",
              "      <td>-10</td>\n",
              "      <td>2</td>\n",
              "      <td>2</td>\n",
              "    </tr>\n",
              "    <tr>\n",
              "      <th>2</th>\n",
              "      <td>0</td>\n",
              "      <td>-10</td>\n",
              "      <td>5</td>\n",
              "    </tr>\n",
              "    <tr>\n",
              "      <th>3</th>\n",
              "      <td>-2</td>\n",
              "      <td>0</td>\n",
              "      <td>2</td>\n",
              "    </tr>\n",
              "  </tbody>\n",
              "</table>\n",
              "</div>"
            ],
            "text/plain": [
              "   x1  x2  x3\n",
              "0  -1   0   3\n",
              "1 -10   2   2\n",
              "2   0 -10   5\n",
              "3  -2   0   2"
            ]
          },
          "metadata": {
            "tags": []
          },
          "execution_count": 14
        }
      ]
    },
    {
      "cell_type": "code",
      "metadata": {
        "id": "cuGijZBWN0Rc",
        "colab": {
          "base_uri": "https://localhost:8080/",
          "height": 175
        },
        "outputId": "95d6bb1b-2b66-440c-8978-11ef0702ea02"
      },
      "source": [
        "# Функция получения последних записей фрейма\n",
        "# Аргументом задается количество выводимых данных\n",
        "#   Если не задано - 5 по-умолчанию\n",
        "df.tail(4)"
      ],
      "execution_count": null,
      "outputs": [
        {
          "output_type": "execute_result",
          "data": {
            "text/html": [
              "<div>\n",
              "<style scoped>\n",
              "    .dataframe tbody tr th:only-of-type {\n",
              "        vertical-align: middle;\n",
              "    }\n",
              "\n",
              "    .dataframe tbody tr th {\n",
              "        vertical-align: top;\n",
              "    }\n",
              "\n",
              "    .dataframe thead th {\n",
              "        text-align: right;\n",
              "    }\n",
              "</style>\n",
              "<table border=\"1\" class=\"dataframe\">\n",
              "  <thead>\n",
              "    <tr style=\"text-align: right;\">\n",
              "      <th></th>\n",
              "      <th>x1</th>\n",
              "      <th>x2</th>\n",
              "      <th>x3</th>\n",
              "    </tr>\n",
              "  </thead>\n",
              "  <tbody>\n",
              "    <tr>\n",
              "      <th>11</th>\n",
              "      <td>-2</td>\n",
              "      <td>-8</td>\n",
              "      <td>4</td>\n",
              "    </tr>\n",
              "    <tr>\n",
              "      <th>12</th>\n",
              "      <td>-2</td>\n",
              "      <td>1</td>\n",
              "      <td>-8</td>\n",
              "    </tr>\n",
              "    <tr>\n",
              "      <th>13</th>\n",
              "      <td>-2</td>\n",
              "      <td>-6</td>\n",
              "      <td>4</td>\n",
              "    </tr>\n",
              "    <tr>\n",
              "      <th>14</th>\n",
              "      <td>0</td>\n",
              "      <td>-5</td>\n",
              "      <td>-4</td>\n",
              "    </tr>\n",
              "  </tbody>\n",
              "</table>\n",
              "</div>"
            ],
            "text/plain": [
              "    x1  x2  x3\n",
              "11  -2  -8   4\n",
              "12  -2   1  -8\n",
              "13  -2  -6   4\n",
              "14   0  -5  -4"
            ]
          },
          "metadata": {
            "tags": []
          },
          "execution_count": 15
        }
      ]
    },
    {
      "cell_type": "code",
      "metadata": {
        "id": "uXCm5zZiN6HB",
        "colab": {
          "base_uri": "https://localhost:8080/"
        },
        "outputId": "71cd472b-a9d6-4f30-9ffe-afc01e434ca8"
      },
      "source": [
        "# Функция отображения основной информации о фрейме:\n",
        "#   Количество записей\n",
        "#   Типы колонок\n",
        "#   Количество ненулевых значений\n",
        "#   Тип индекса\n",
        "df.info()"
      ],
      "execution_count": null,
      "outputs": [
        {
          "output_type": "stream",
          "text": [
            "<class 'pandas.core.frame.DataFrame'>\n",
            "RangeIndex: 15 entries, 0 to 14\n",
            "Data columns (total 3 columns):\n",
            " #   Column  Non-Null Count  Dtype\n",
            "---  ------  --------------  -----\n",
            " 0   x1      15 non-null     int64\n",
            " 1   x2      15 non-null     int64\n",
            " 2   x3      15 non-null     int64\n",
            "dtypes: int64(3)\n",
            "memory usage: 488.0 bytes\n"
          ],
          "name": "stdout"
        }
      ]
    },
    {
      "cell_type": "code",
      "metadata": {
        "id": "Y0MfbDxMOPC4",
        "colab": {
          "base_uri": "https://localhost:8080/",
          "height": 300
        },
        "outputId": "45901c84-0616-4f6d-c7c2-dd62eab2488d"
      },
      "source": [
        "# Функция отображения статистики по численным колонкам\n",
        "df.describe()"
      ],
      "execution_count": null,
      "outputs": [
        {
          "output_type": "execute_result",
          "data": {
            "text/html": [
              "<div>\n",
              "<style scoped>\n",
              "    .dataframe tbody tr th:only-of-type {\n",
              "        vertical-align: middle;\n",
              "    }\n",
              "\n",
              "    .dataframe tbody tr th {\n",
              "        vertical-align: top;\n",
              "    }\n",
              "\n",
              "    .dataframe thead th {\n",
              "        text-align: right;\n",
              "    }\n",
              "</style>\n",
              "<table border=\"1\" class=\"dataframe\">\n",
              "  <thead>\n",
              "    <tr style=\"text-align: right;\">\n",
              "      <th></th>\n",
              "      <th>x1</th>\n",
              "      <th>x2</th>\n",
              "      <th>x3</th>\n",
              "    </tr>\n",
              "  </thead>\n",
              "  <tbody>\n",
              "    <tr>\n",
              "      <th>count</th>\n",
              "      <td>15.00000</td>\n",
              "      <td>15.000000</td>\n",
              "      <td>15.000000</td>\n",
              "    </tr>\n",
              "    <tr>\n",
              "      <th>mean</th>\n",
              "      <td>-0.80000</td>\n",
              "      <td>-3.133333</td>\n",
              "      <td>2.066667</td>\n",
              "    </tr>\n",
              "    <tr>\n",
              "      <th>std</th>\n",
              "      <td>5.03133</td>\n",
              "      <td>5.040786</td>\n",
              "      <td>5.006662</td>\n",
              "    </tr>\n",
              "    <tr>\n",
              "      <th>min</th>\n",
              "      <td>-10.00000</td>\n",
              "      <td>-10.000000</td>\n",
              "      <td>-8.000000</td>\n",
              "    </tr>\n",
              "    <tr>\n",
              "      <th>25%</th>\n",
              "      <td>-2.00000</td>\n",
              "      <td>-7.000000</td>\n",
              "      <td>1.000000</td>\n",
              "    </tr>\n",
              "    <tr>\n",
              "      <th>50%</th>\n",
              "      <td>-1.00000</td>\n",
              "      <td>-5.000000</td>\n",
              "      <td>3.000000</td>\n",
              "    </tr>\n",
              "    <tr>\n",
              "      <th>75%</th>\n",
              "      <td>2.00000</td>\n",
              "      <td>0.000000</td>\n",
              "      <td>4.500000</td>\n",
              "    </tr>\n",
              "    <tr>\n",
              "      <th>max</th>\n",
              "      <td>8.00000</td>\n",
              "      <td>9.000000</td>\n",
              "      <td>9.000000</td>\n",
              "    </tr>\n",
              "  </tbody>\n",
              "</table>\n",
              "</div>"
            ],
            "text/plain": [
              "             x1         x2         x3\n",
              "count  15.00000  15.000000  15.000000\n",
              "mean   -0.80000  -3.133333   2.066667\n",
              "std     5.03133   5.040786   5.006662\n",
              "min   -10.00000 -10.000000  -8.000000\n",
              "25%    -2.00000  -7.000000   1.000000\n",
              "50%    -1.00000  -5.000000   3.000000\n",
              "75%     2.00000   0.000000   4.500000\n",
              "max     8.00000   9.000000   9.000000"
            ]
          },
          "metadata": {
            "tags": []
          },
          "execution_count": 17
        }
      ]
    },
    {
      "cell_type": "code",
      "metadata": {
        "id": "-kRXV1P2OfHP",
        "colab": {
          "base_uri": "https://localhost:8080/"
        },
        "outputId": "cd62b910-9084-42c3-f203-8ce1090960f2"
      },
      "source": [
        "# Атрибут получения индексов фрейма\n",
        "df.index"
      ],
      "execution_count": null,
      "outputs": [
        {
          "output_type": "execute_result",
          "data": {
            "text/plain": [
              "RangeIndex(start=0, stop=15, step=1)"
            ]
          },
          "metadata": {
            "tags": []
          },
          "execution_count": 18
        }
      ]
    },
    {
      "cell_type": "code",
      "metadata": {
        "id": "TsPphCdAapK9",
        "colab": {
          "base_uri": "https://localhost:8080/"
        },
        "outputId": "96d17cf4-b997-4887-f9dc-569eb9793cd9"
      },
      "source": [
        "# Или чтобы представить в виде списка\n",
        "list(df.index)"
      ],
      "execution_count": null,
      "outputs": [
        {
          "output_type": "execute_result",
          "data": {
            "text/plain": [
              "[0, 1, 2, 3, 4, 5, 6, 7, 8, 9, 10, 11, 12, 13, 14]"
            ]
          },
          "metadata": {
            "tags": []
          },
          "execution_count": 19
        }
      ]
    },
    {
      "cell_type": "code",
      "metadata": {
        "id": "H-ohc7UJOmIO",
        "colab": {
          "base_uri": "https://localhost:8080/"
        },
        "outputId": "63335a60-15c2-4b53-9659-a1e3b82f8486"
      },
      "source": [
        "# Атрибут получения имен колонок фрейма\n",
        "df.columns"
      ],
      "execution_count": null,
      "outputs": [
        {
          "output_type": "execute_result",
          "data": {
            "text/plain": [
              "Index(['x1', 'x2', 'x3'], dtype='object')"
            ]
          },
          "metadata": {
            "tags": []
          },
          "execution_count": 20
        }
      ]
    },
    {
      "cell_type": "code",
      "metadata": {
        "id": "na-OEHT92dln",
        "colab": {
          "base_uri": "https://localhost:8080/"
        },
        "outputId": "742fd0e5-bca3-4c0f-eb7b-d696203249ec"
      },
      "source": [
        "# Атрибут размерности фрейма\n",
        "df.shape"
      ],
      "execution_count": null,
      "outputs": [
        {
          "output_type": "execute_result",
          "data": {
            "text/plain": [
              "(15, 3)"
            ]
          },
          "metadata": {
            "tags": []
          },
          "execution_count": 21
        }
      ]
    },
    {
      "cell_type": "code",
      "metadata": {
        "id": "Qa5POknMO2xm",
        "colab": {
          "base_uri": "https://localhost:8080/"
        },
        "outputId": "44e8ee32-54a5-41ec-aca1-6a3e74488d0f"
      },
      "source": [
        "# Преобразование к двумерному массиву numpy\n",
        "df.to_numpy()"
      ],
      "execution_count": null,
      "outputs": [
        {
          "output_type": "execute_result",
          "data": {
            "text/plain": [
              "array([[ -1,   0,   3],\n",
              "       [-10,   2,   2],\n",
              "       [  0, -10,   5],\n",
              "       [ -2,   0,   2],\n",
              "       [ -9,   9,   9],\n",
              "       [ -6,  -2,   3],\n",
              "       [  2,  -7,  -7],\n",
              "       [  3,  -8,   0],\n",
              "       [  2,  -5,   5],\n",
              "       [  8,  -7,   9],\n",
              "       [  7,  -1,   4],\n",
              "       [ -2,  -8,   4],\n",
              "       [ -2,   1,  -8],\n",
              "       [ -2,  -6,   4],\n",
              "       [  0,  -5,  -4]])"
            ]
          },
          "metadata": {
            "tags": []
          },
          "execution_count": 22
        }
      ]
    },
    {
      "cell_type": "code",
      "metadata": {
        "id": "kdILwsLJPGJf",
        "colab": {
          "base_uri": "https://localhost:8080/",
          "height": 143
        },
        "outputId": "3187eb4b-55f5-426c-e5c3-3d298c6bbecf"
      },
      "source": [
        "# Получение транспонированного представления\n",
        "# Колонки -> ряды, ряды -> колонки\n",
        "df.T\n",
        "\n",
        "# (*) Транспонирование вряд ли часто понадобится при анализе, но учитывать стоит"
      ],
      "execution_count": null,
      "outputs": [
        {
          "output_type": "execute_result",
          "data": {
            "text/html": [
              "<div>\n",
              "<style scoped>\n",
              "    .dataframe tbody tr th:only-of-type {\n",
              "        vertical-align: middle;\n",
              "    }\n",
              "\n",
              "    .dataframe tbody tr th {\n",
              "        vertical-align: top;\n",
              "    }\n",
              "\n",
              "    .dataframe thead th {\n",
              "        text-align: right;\n",
              "    }\n",
              "</style>\n",
              "<table border=\"1\" class=\"dataframe\">\n",
              "  <thead>\n",
              "    <tr style=\"text-align: right;\">\n",
              "      <th></th>\n",
              "      <th>0</th>\n",
              "      <th>1</th>\n",
              "      <th>2</th>\n",
              "      <th>3</th>\n",
              "      <th>4</th>\n",
              "      <th>5</th>\n",
              "      <th>6</th>\n",
              "      <th>7</th>\n",
              "      <th>8</th>\n",
              "      <th>9</th>\n",
              "      <th>10</th>\n",
              "      <th>11</th>\n",
              "      <th>12</th>\n",
              "      <th>13</th>\n",
              "      <th>14</th>\n",
              "    </tr>\n",
              "  </thead>\n",
              "  <tbody>\n",
              "    <tr>\n",
              "      <th>x1</th>\n",
              "      <td>-1</td>\n",
              "      <td>-10</td>\n",
              "      <td>0</td>\n",
              "      <td>-2</td>\n",
              "      <td>-9</td>\n",
              "      <td>-6</td>\n",
              "      <td>2</td>\n",
              "      <td>3</td>\n",
              "      <td>2</td>\n",
              "      <td>8</td>\n",
              "      <td>7</td>\n",
              "      <td>-2</td>\n",
              "      <td>-2</td>\n",
              "      <td>-2</td>\n",
              "      <td>0</td>\n",
              "    </tr>\n",
              "    <tr>\n",
              "      <th>x2</th>\n",
              "      <td>0</td>\n",
              "      <td>2</td>\n",
              "      <td>-10</td>\n",
              "      <td>0</td>\n",
              "      <td>9</td>\n",
              "      <td>-2</td>\n",
              "      <td>-7</td>\n",
              "      <td>-8</td>\n",
              "      <td>-5</td>\n",
              "      <td>-7</td>\n",
              "      <td>-1</td>\n",
              "      <td>-8</td>\n",
              "      <td>1</td>\n",
              "      <td>-6</td>\n",
              "      <td>-5</td>\n",
              "    </tr>\n",
              "    <tr>\n",
              "      <th>x3</th>\n",
              "      <td>3</td>\n",
              "      <td>2</td>\n",
              "      <td>5</td>\n",
              "      <td>2</td>\n",
              "      <td>9</td>\n",
              "      <td>3</td>\n",
              "      <td>-7</td>\n",
              "      <td>0</td>\n",
              "      <td>5</td>\n",
              "      <td>9</td>\n",
              "      <td>4</td>\n",
              "      <td>4</td>\n",
              "      <td>-8</td>\n",
              "      <td>4</td>\n",
              "      <td>-4</td>\n",
              "    </tr>\n",
              "  </tbody>\n",
              "</table>\n",
              "</div>"
            ],
            "text/plain": [
              "    0   1   2  3  4  5  6  7  8  9  10  11  12  13  14\n",
              "x1 -1 -10   0 -2 -9 -6  2  3  2  8   7  -2  -2  -2   0\n",
              "x2  0   2 -10  0  9 -2 -7 -8 -5 -7  -1  -8   1  -6  -5\n",
              "x3  3   2   5  2  9  3 -7  0  5  9   4   4  -8   4  -4"
            ]
          },
          "metadata": {
            "tags": []
          },
          "execution_count": 23
        }
      ]
    },
    {
      "cell_type": "markdown",
      "metadata": {
        "id": "jJ-4jpR4Amqg"
      },
      "source": [
        "# Обращение к данным"
      ]
    },
    {
      "cell_type": "markdown",
      "metadata": {
        "id": "3zVtiVD4Bb_o"
      },
      "source": [
        "Так как данные представлены в виде двумерного массива, то обращение к ним является важным инструментом.\n",
        "\n",
        "Начнем с того, чтобы обращаться к конкретной колонке:"
      ]
    },
    {
      "cell_type": "code",
      "metadata": {
        "id": "L84Jgn8xFqeZ",
        "colab": {
          "base_uri": "https://localhost:8080/",
          "height": 206
        },
        "outputId": "0499459c-113d-4971-faec-59bd4c01a423"
      },
      "source": [
        "df = pd.DataFrame(\n",
        "    data=np.random.randint(0, 10, size=(5, 3)), \n",
        "    columns=['x1', 'x2', 'x3']\n",
        ")\n",
        "\n",
        "df"
      ],
      "execution_count": null,
      "outputs": [
        {
          "output_type": "execute_result",
          "data": {
            "text/html": [
              "<div>\n",
              "<style scoped>\n",
              "    .dataframe tbody tr th:only-of-type {\n",
              "        vertical-align: middle;\n",
              "    }\n",
              "\n",
              "    .dataframe tbody tr th {\n",
              "        vertical-align: top;\n",
              "    }\n",
              "\n",
              "    .dataframe thead th {\n",
              "        text-align: right;\n",
              "    }\n",
              "</style>\n",
              "<table border=\"1\" class=\"dataframe\">\n",
              "  <thead>\n",
              "    <tr style=\"text-align: right;\">\n",
              "      <th></th>\n",
              "      <th>x1</th>\n",
              "      <th>x2</th>\n",
              "      <th>x3</th>\n",
              "    </tr>\n",
              "  </thead>\n",
              "  <tbody>\n",
              "    <tr>\n",
              "      <th>0</th>\n",
              "      <td>8</td>\n",
              "      <td>1</td>\n",
              "      <td>9</td>\n",
              "    </tr>\n",
              "    <tr>\n",
              "      <th>1</th>\n",
              "      <td>7</td>\n",
              "      <td>3</td>\n",
              "      <td>0</td>\n",
              "    </tr>\n",
              "    <tr>\n",
              "      <th>2</th>\n",
              "      <td>9</td>\n",
              "      <td>2</td>\n",
              "      <td>8</td>\n",
              "    </tr>\n",
              "    <tr>\n",
              "      <th>3</th>\n",
              "      <td>8</td>\n",
              "      <td>7</td>\n",
              "      <td>0</td>\n",
              "    </tr>\n",
              "    <tr>\n",
              "      <th>4</th>\n",
              "      <td>7</td>\n",
              "      <td>6</td>\n",
              "      <td>5</td>\n",
              "    </tr>\n",
              "  </tbody>\n",
              "</table>\n",
              "</div>"
            ],
            "text/plain": [
              "   x1  x2  x3\n",
              "0   8   1   9\n",
              "1   7   3   0\n",
              "2   9   2   8\n",
              "3   8   7   0\n",
              "4   7   6   5"
            ]
          },
          "metadata": {
            "tags": []
          },
          "execution_count": 24
        }
      ]
    },
    {
      "cell_type": "code",
      "metadata": {
        "id": "xi4PIyZpFzzp",
        "colab": {
          "base_uri": "https://localhost:8080/"
        },
        "outputId": "a30f0b62-4a6f-4037-fa86-b631f7a3a648"
      },
      "source": [
        "print(df['x1'])\n",
        "print(type(df['x1']))"
      ],
      "execution_count": null,
      "outputs": [
        {
          "output_type": "stream",
          "text": [
            "0    8\n",
            "1    7\n",
            "2    9\n",
            "3    8\n",
            "4    7\n",
            "Name: x1, dtype: int64\n",
            "<class 'pandas.core.series.Series'>\n"
          ],
          "name": "stdout"
        }
      ]
    },
    {
      "cell_type": "markdown",
      "metadata": {
        "id": "yt-YPbzyF8zS"
      },
      "source": [
        "Индексация во фрейме по колонкам производится по имени колонок. В результате создается объект `Series` (ряд), который является одномерным массивом. В случае индексации по колонкам каждая запись в ряду имеет индекс из основного фрейма."
      ]
    },
    {
      "cell_type": "markdown",
      "metadata": {
        "id": "jdz_KJZNP7FK"
      },
      "source": [
        "Аналогичный тип данных создается, когда мы обращаемся к конкретной записи в данных. Кстати, просто так не обратиться, поэтому для индексации по записям используются методы `DataFrame.iloc[]` и `DataFrame.loc[]`.\n",
        "\n",
        "Взгляните на разницу:"
      ]
    },
    {
      "cell_type": "code",
      "metadata": {
        "id": "6Qk0PYvSQfJ2",
        "colab": {
          "base_uri": "https://localhost:8080/",
          "height": 206
        },
        "outputId": "258fdd00-3479-44f5-8cad-808cbd656a50"
      },
      "source": [
        "data = {\n",
        "    'feature1': np.arange(15),\n",
        "    'feature2': np.linspace(0, 10, 15),\n",
        "    'feature3': 'string',\n",
        "}\n",
        "df = pd.DataFrame(data, index=list('ABCDEFGHIJKLMNO'))\n",
        "df.head()"
      ],
      "execution_count": null,
      "outputs": [
        {
          "output_type": "execute_result",
          "data": {
            "text/html": [
              "<div>\n",
              "<style scoped>\n",
              "    .dataframe tbody tr th:only-of-type {\n",
              "        vertical-align: middle;\n",
              "    }\n",
              "\n",
              "    .dataframe tbody tr th {\n",
              "        vertical-align: top;\n",
              "    }\n",
              "\n",
              "    .dataframe thead th {\n",
              "        text-align: right;\n",
              "    }\n",
              "</style>\n",
              "<table border=\"1\" class=\"dataframe\">\n",
              "  <thead>\n",
              "    <tr style=\"text-align: right;\">\n",
              "      <th></th>\n",
              "      <th>feature1</th>\n",
              "      <th>feature2</th>\n",
              "      <th>feature3</th>\n",
              "    </tr>\n",
              "  </thead>\n",
              "  <tbody>\n",
              "    <tr>\n",
              "      <th>A</th>\n",
              "      <td>0</td>\n",
              "      <td>0.000000</td>\n",
              "      <td>string</td>\n",
              "    </tr>\n",
              "    <tr>\n",
              "      <th>B</th>\n",
              "      <td>1</td>\n",
              "      <td>0.714286</td>\n",
              "      <td>string</td>\n",
              "    </tr>\n",
              "    <tr>\n",
              "      <th>C</th>\n",
              "      <td>2</td>\n",
              "      <td>1.428571</td>\n",
              "      <td>string</td>\n",
              "    </tr>\n",
              "    <tr>\n",
              "      <th>D</th>\n",
              "      <td>3</td>\n",
              "      <td>2.142857</td>\n",
              "      <td>string</td>\n",
              "    </tr>\n",
              "    <tr>\n",
              "      <th>E</th>\n",
              "      <td>4</td>\n",
              "      <td>2.857143</td>\n",
              "      <td>string</td>\n",
              "    </tr>\n",
              "  </tbody>\n",
              "</table>\n",
              "</div>"
            ],
            "text/plain": [
              "   feature1  feature2 feature3\n",
              "A         0  0.000000   string\n",
              "B         1  0.714286   string\n",
              "C         2  1.428571   string\n",
              "D         3  2.142857   string\n",
              "E         4  2.857143   string"
            ]
          },
          "metadata": {
            "tags": []
          },
          "execution_count": 26
        }
      ]
    },
    {
      "cell_type": "code",
      "metadata": {
        "id": "146jUYuDRIqL",
        "colab": {
          "base_uri": "https://localhost:8080/"
        },
        "outputId": "010af47a-79db-4b93-8f8c-f76bb09ef0cd"
      },
      "source": [
        "df.iloc[2]"
      ],
      "execution_count": null,
      "outputs": [
        {
          "output_type": "execute_result",
          "data": {
            "text/plain": [
              "feature1          2\n",
              "feature2    1.42857\n",
              "feature3     string\n",
              "Name: C, dtype: object"
            ]
          },
          "metadata": {
            "tags": []
          },
          "execution_count": 27
        }
      ]
    },
    {
      "cell_type": "code",
      "metadata": {
        "id": "xNER-5W-RK_4",
        "colab": {
          "base_uri": "https://localhost:8080/"
        },
        "outputId": "cf2410bb-bb74-413c-c42d-eb0f4fabb0c5"
      },
      "source": [
        "df.loc['C']"
      ],
      "execution_count": null,
      "outputs": [
        {
          "output_type": "execute_result",
          "data": {
            "text/plain": [
              "feature1          2\n",
              "feature2    1.42857\n",
              "feature3     string\n",
              "Name: C, dtype: object"
            ]
          },
          "metadata": {
            "tags": []
          },
          "execution_count": 28
        }
      ]
    },
    {
      "cell_type": "code",
      "metadata": {
        "id": "WUGvwU1vRTvj",
        "colab": {
          "base_uri": "https://localhost:8080/"
        },
        "outputId": "a273c916-bbde-46e8-8096-cc2e49286a3a"
      },
      "source": [
        "df.iloc[2, 1]"
      ],
      "execution_count": null,
      "outputs": [
        {
          "output_type": "execute_result",
          "data": {
            "text/plain": [
              "1.4285714285714286"
            ]
          },
          "metadata": {
            "tags": []
          },
          "execution_count": 29
        }
      ]
    },
    {
      "cell_type": "code",
      "metadata": {
        "id": "8CnUrklnRb0M",
        "colab": {
          "base_uri": "https://localhost:8080/"
        },
        "outputId": "e4606dca-8e23-4ccf-ade6-a817dc15f187"
      },
      "source": [
        "df.loc['C', 'feature2']"
      ],
      "execution_count": null,
      "outputs": [
        {
          "output_type": "execute_result",
          "data": {
            "text/plain": [
              "1.4285714285714286"
            ]
          },
          "metadata": {
            "tags": []
          },
          "execution_count": 30
        }
      ]
    },
    {
      "cell_type": "markdown",
      "metadata": {
        "id": "TXzXJmmbRilU"
      },
      "source": [
        "Если разница не явна, то обсудим:\n",
        "> `.iloc[]` используется для обращения по индексам как рядов, так и колонок;\n",
        "\n",
        "> `.loc[]` используется для обращения по именованиям как рядов, так и колонок.\n",
        "\n",
        "В индексации можно применять как слайсы, подобно тем, что научились применять в numpy, так и массивы в качестве индексов.\n",
        "\n",
        "При индексации по единственной строке создается объект `Series`, но уже с индексами в виде колонок.\n"
      ]
    },
    {
      "cell_type": "markdown",
      "metadata": {
        "id": "IQZEyGyrR3cb"
      },
      "source": [
        "## Задание\n",
        "\n",
        "Выведите часть фрейма со второго ряда по девятый (индексы с 'C' по 'I') и только `feature1` и `feature3`:"
      ]
    },
    {
      "cell_type": "code",
      "metadata": {
        "id": "Cp60LdlbSC4C",
        "colab": {
          "base_uri": "https://localhost:8080/",
          "height": 206
        },
        "outputId": "8a16f4d0-09bd-4d32-9e71-eb2d7af7cf58"
      },
      "source": [
        "data = {\n",
        "    'feature1': np.arange(15),\n",
        "    'feature2': np.linspace(0, 10, 15),\n",
        "    'feature3': 'string',\n",
        "}\n",
        "df = pd.DataFrame(data, index=list('ABCDEFGHIJKLMNO'))\n",
        "df.head()"
      ],
      "execution_count": null,
      "outputs": [
        {
          "output_type": "execute_result",
          "data": {
            "text/html": [
              "<div>\n",
              "<style scoped>\n",
              "    .dataframe tbody tr th:only-of-type {\n",
              "        vertical-align: middle;\n",
              "    }\n",
              "\n",
              "    .dataframe tbody tr th {\n",
              "        vertical-align: top;\n",
              "    }\n",
              "\n",
              "    .dataframe thead th {\n",
              "        text-align: right;\n",
              "    }\n",
              "</style>\n",
              "<table border=\"1\" class=\"dataframe\">\n",
              "  <thead>\n",
              "    <tr style=\"text-align: right;\">\n",
              "      <th></th>\n",
              "      <th>feature1</th>\n",
              "      <th>feature2</th>\n",
              "      <th>feature3</th>\n",
              "    </tr>\n",
              "  </thead>\n",
              "  <tbody>\n",
              "    <tr>\n",
              "      <th>A</th>\n",
              "      <td>0</td>\n",
              "      <td>0.000000</td>\n",
              "      <td>string</td>\n",
              "    </tr>\n",
              "    <tr>\n",
              "      <th>B</th>\n",
              "      <td>1</td>\n",
              "      <td>0.714286</td>\n",
              "      <td>string</td>\n",
              "    </tr>\n",
              "    <tr>\n",
              "      <th>C</th>\n",
              "      <td>2</td>\n",
              "      <td>1.428571</td>\n",
              "      <td>string</td>\n",
              "    </tr>\n",
              "    <tr>\n",
              "      <th>D</th>\n",
              "      <td>3</td>\n",
              "      <td>2.142857</td>\n",
              "      <td>string</td>\n",
              "    </tr>\n",
              "    <tr>\n",
              "      <th>E</th>\n",
              "      <td>4</td>\n",
              "      <td>2.857143</td>\n",
              "      <td>string</td>\n",
              "    </tr>\n",
              "  </tbody>\n",
              "</table>\n",
              "</div>"
            ],
            "text/plain": [
              "   feature1  feature2 feature3\n",
              "A         0  0.000000   string\n",
              "B         1  0.714286   string\n",
              "C         2  1.428571   string\n",
              "D         3  2.142857   string\n",
              "E         4  2.857143   string"
            ]
          },
          "metadata": {
            "tags": []
          },
          "execution_count": 31
        }
      ]
    },
    {
      "cell_type": "code",
      "metadata": {
        "id": "8qMFOU26SEKw",
        "colab": {
          "base_uri": "https://localhost:8080/",
          "height": 269
        },
        "outputId": "4fc2a2f0-8658-4f8f-96e6-5c24edd11542"
      },
      "source": [
        "# TODO - выделите часть фрейма с помощью .loc[]\n",
        "df.loc['C':'I',['feature1','feature3']]"
      ],
      "execution_count": null,
      "outputs": [
        {
          "output_type": "execute_result",
          "data": {
            "text/html": [
              "<div>\n",
              "<style scoped>\n",
              "    .dataframe tbody tr th:only-of-type {\n",
              "        vertical-align: middle;\n",
              "    }\n",
              "\n",
              "    .dataframe tbody tr th {\n",
              "        vertical-align: top;\n",
              "    }\n",
              "\n",
              "    .dataframe thead th {\n",
              "        text-align: right;\n",
              "    }\n",
              "</style>\n",
              "<table border=\"1\" class=\"dataframe\">\n",
              "  <thead>\n",
              "    <tr style=\"text-align: right;\">\n",
              "      <th></th>\n",
              "      <th>feature1</th>\n",
              "      <th>feature3</th>\n",
              "    </tr>\n",
              "  </thead>\n",
              "  <tbody>\n",
              "    <tr>\n",
              "      <th>C</th>\n",
              "      <td>2</td>\n",
              "      <td>string</td>\n",
              "    </tr>\n",
              "    <tr>\n",
              "      <th>D</th>\n",
              "      <td>3</td>\n",
              "      <td>string</td>\n",
              "    </tr>\n",
              "    <tr>\n",
              "      <th>E</th>\n",
              "      <td>4</td>\n",
              "      <td>string</td>\n",
              "    </tr>\n",
              "    <tr>\n",
              "      <th>F</th>\n",
              "      <td>5</td>\n",
              "      <td>string</td>\n",
              "    </tr>\n",
              "    <tr>\n",
              "      <th>G</th>\n",
              "      <td>6</td>\n",
              "      <td>string</td>\n",
              "    </tr>\n",
              "    <tr>\n",
              "      <th>H</th>\n",
              "      <td>7</td>\n",
              "      <td>string</td>\n",
              "    </tr>\n",
              "    <tr>\n",
              "      <th>I</th>\n",
              "      <td>8</td>\n",
              "      <td>string</td>\n",
              "    </tr>\n",
              "  </tbody>\n",
              "</table>\n",
              "</div>"
            ],
            "text/plain": [
              "   feature1 feature3\n",
              "C         2   string\n",
              "D         3   string\n",
              "E         4   string\n",
              "F         5   string\n",
              "G         6   string\n",
              "H         7   string\n",
              "I         8   string"
            ]
          },
          "metadata": {
            "tags": []
          },
          "execution_count": 44
        }
      ]
    },
    {
      "cell_type": "code",
      "metadata": {
        "id": "t7AO3Ge5SwgT",
        "colab": {
          "base_uri": "https://localhost:8080/",
          "height": 269
        },
        "outputId": "6065b830-7940-4717-81fc-9fad11b15108"
      },
      "source": [
        "# TODO - выделите часть фрейма с помощью .iloc[]\n",
        "df.iloc[2:9,[0,2]]"
      ],
      "execution_count": null,
      "outputs": [
        {
          "output_type": "execute_result",
          "data": {
            "text/html": [
              "<div>\n",
              "<style scoped>\n",
              "    .dataframe tbody tr th:only-of-type {\n",
              "        vertical-align: middle;\n",
              "    }\n",
              "\n",
              "    .dataframe tbody tr th {\n",
              "        vertical-align: top;\n",
              "    }\n",
              "\n",
              "    .dataframe thead th {\n",
              "        text-align: right;\n",
              "    }\n",
              "</style>\n",
              "<table border=\"1\" class=\"dataframe\">\n",
              "  <thead>\n",
              "    <tr style=\"text-align: right;\">\n",
              "      <th></th>\n",
              "      <th>feature1</th>\n",
              "      <th>feature3</th>\n",
              "    </tr>\n",
              "  </thead>\n",
              "  <tbody>\n",
              "    <tr>\n",
              "      <th>C</th>\n",
              "      <td>2</td>\n",
              "      <td>string</td>\n",
              "    </tr>\n",
              "    <tr>\n",
              "      <th>D</th>\n",
              "      <td>3</td>\n",
              "      <td>string</td>\n",
              "    </tr>\n",
              "    <tr>\n",
              "      <th>E</th>\n",
              "      <td>4</td>\n",
              "      <td>string</td>\n",
              "    </tr>\n",
              "    <tr>\n",
              "      <th>F</th>\n",
              "      <td>5</td>\n",
              "      <td>string</td>\n",
              "    </tr>\n",
              "    <tr>\n",
              "      <th>G</th>\n",
              "      <td>6</td>\n",
              "      <td>string</td>\n",
              "    </tr>\n",
              "    <tr>\n",
              "      <th>H</th>\n",
              "      <td>7</td>\n",
              "      <td>string</td>\n",
              "    </tr>\n",
              "    <tr>\n",
              "      <th>I</th>\n",
              "      <td>8</td>\n",
              "      <td>string</td>\n",
              "    </tr>\n",
              "  </tbody>\n",
              "</table>\n",
              "</div>"
            ],
            "text/plain": [
              "   feature1 feature3\n",
              "C         2   string\n",
              "D         3   string\n",
              "E         4   string\n",
              "F         5   string\n",
              "G         6   string\n",
              "H         7   string\n",
              "I         8   string"
            ]
          },
          "metadata": {
            "tags": []
          },
          "execution_count": 45
        }
      ]
    },
    {
      "cell_type": "markdown",
      "metadata": {
        "id": "TTAoF4zjENYG"
      },
      "source": [
        "# Условная индексация"
      ]
    },
    {
      "cell_type": "markdown",
      "metadata": {
        "id": "z_s9peSYEPaB"
      },
      "source": [
        "При работе с данными часто необходимо выбрать часть данных по условному признаку. По аналогии с работой в numpy, применение булевых операторов на ряд данных создает такой же по размеру ряд из булевых элементов, представляющих собой маску:"
      ]
    },
    {
      "cell_type": "code",
      "metadata": {
        "id": "lnbE8vUyE1f4",
        "colab": {
          "base_uri": "https://localhost:8080/",
          "height": 143
        },
        "outputId": "483e1308-17eb-4a16-e064-09b9158b72cf"
      },
      "source": [
        "df = pd.DataFrame(\n",
        "    data=np.random.randint(0, 10, size=(15, 3)), \n",
        "    columns=['x1', 'x2', 'x3']\n",
        ")\n",
        "df.head(3)"
      ],
      "execution_count": null,
      "outputs": [
        {
          "output_type": "execute_result",
          "data": {
            "text/html": [
              "<div>\n",
              "<style scoped>\n",
              "    .dataframe tbody tr th:only-of-type {\n",
              "        vertical-align: middle;\n",
              "    }\n",
              "\n",
              "    .dataframe tbody tr th {\n",
              "        vertical-align: top;\n",
              "    }\n",
              "\n",
              "    .dataframe thead th {\n",
              "        text-align: right;\n",
              "    }\n",
              "</style>\n",
              "<table border=\"1\" class=\"dataframe\">\n",
              "  <thead>\n",
              "    <tr style=\"text-align: right;\">\n",
              "      <th></th>\n",
              "      <th>x1</th>\n",
              "      <th>x2</th>\n",
              "      <th>x3</th>\n",
              "    </tr>\n",
              "  </thead>\n",
              "  <tbody>\n",
              "    <tr>\n",
              "      <th>0</th>\n",
              "      <td>8</td>\n",
              "      <td>2</td>\n",
              "      <td>5</td>\n",
              "    </tr>\n",
              "    <tr>\n",
              "      <th>1</th>\n",
              "      <td>3</td>\n",
              "      <td>5</td>\n",
              "      <td>7</td>\n",
              "    </tr>\n",
              "    <tr>\n",
              "      <th>2</th>\n",
              "      <td>7</td>\n",
              "      <td>8</td>\n",
              "      <td>2</td>\n",
              "    </tr>\n",
              "  </tbody>\n",
              "</table>\n",
              "</div>"
            ],
            "text/plain": [
              "   x1  x2  x3\n",
              "0   8   2   5\n",
              "1   3   5   7\n",
              "2   7   8   2"
            ]
          },
          "metadata": {
            "tags": []
          },
          "execution_count": 4
        }
      ]
    },
    {
      "cell_type": "code",
      "metadata": {
        "id": "p3AUBZupE2ke"
      },
      "source": [
        "df['x1'] > 5"
      ],
      "execution_count": null,
      "outputs": []
    },
    {
      "cell_type": "markdown",
      "metadata": {
        "id": "KMgR5QXlHrci"
      },
      "source": [
        "После того, как маска получена, можно применить ее, чтобы выбрать конкретные записи (строки) данных. При этом, индексация маской работает как при использовании `[]`, так и при использовании `.loc[]`."
      ]
    },
    {
      "cell_type": "code",
      "metadata": {
        "id": "PDUJHQJxH8Ix"
      },
      "source": [
        "mask = df['x1'] > 5\n",
        "df[mask]\n",
        "\n",
        "# Или df[df['x1'] > 5]"
      ],
      "execution_count": null,
      "outputs": []
    },
    {
      "cell_type": "markdown",
      "metadata": {
        "id": "xiPo4TS8bScn"
      },
      "source": [
        "Чтобы получить значения, обратные условию, можно воспользоваться оператором НЕ: `~` - он инвертирует маску условия:"
      ]
    },
    {
      "cell_type": "code",
      "metadata": {
        "id": "pE8S310qbb41"
      },
      "source": [
        "df[~(df['x1'] > 5)]"
      ],
      "execution_count": null,
      "outputs": []
    },
    {
      "cell_type": "markdown",
      "metadata": {
        "id": "Ax96PHGlIDnL"
      },
      "source": [
        "> Как и в numpy, для применения нескольких операций необходимо оборачивать каждую в скобки."
      ]
    },
    {
      "cell_type": "markdown",
      "metadata": {
        "id": "nbpi-IeCILB2"
      },
      "source": [
        "## Задание\n",
        "\n",
        "Выберите записи во фрейме, которые по признаку `x1` имеют значение больше 3, а по признаку `x3` - меньше 8."
      ]
    },
    {
      "cell_type": "code",
      "metadata": {
        "id": "j1vNwIhkIZD4",
        "colab": {
          "base_uri": "https://localhost:8080/",
          "height": 143
        },
        "outputId": "1a7b7aa6-8355-4dbd-bb53-fe7b1d513645"
      },
      "source": [
        "df = pd.DataFrame(\n",
        "    data=np.random.randint(0, 10, size=(15, 3)), \n",
        "    columns=['x1', 'x2', 'x3']\n",
        ")\n",
        "df.head(3)"
      ],
      "execution_count": null,
      "outputs": [
        {
          "output_type": "execute_result",
          "data": {
            "text/html": [
              "<div>\n",
              "<style scoped>\n",
              "    .dataframe tbody tr th:only-of-type {\n",
              "        vertical-align: middle;\n",
              "    }\n",
              "\n",
              "    .dataframe tbody tr th {\n",
              "        vertical-align: top;\n",
              "    }\n",
              "\n",
              "    .dataframe thead th {\n",
              "        text-align: right;\n",
              "    }\n",
              "</style>\n",
              "<table border=\"1\" class=\"dataframe\">\n",
              "  <thead>\n",
              "    <tr style=\"text-align: right;\">\n",
              "      <th></th>\n",
              "      <th>x1</th>\n",
              "      <th>x2</th>\n",
              "      <th>x3</th>\n",
              "    </tr>\n",
              "  </thead>\n",
              "  <tbody>\n",
              "    <tr>\n",
              "      <th>0</th>\n",
              "      <td>3</td>\n",
              "      <td>3</td>\n",
              "      <td>8</td>\n",
              "    </tr>\n",
              "    <tr>\n",
              "      <th>1</th>\n",
              "      <td>0</td>\n",
              "      <td>9</td>\n",
              "      <td>8</td>\n",
              "    </tr>\n",
              "    <tr>\n",
              "      <th>2</th>\n",
              "      <td>4</td>\n",
              "      <td>4</td>\n",
              "      <td>4</td>\n",
              "    </tr>\n",
              "  </tbody>\n",
              "</table>\n",
              "</div>"
            ],
            "text/plain": [
              "   x1  x2  x3\n",
              "0   3   3   8\n",
              "1   0   9   8\n",
              "2   4   4   4"
            ]
          },
          "metadata": {
            "tags": []
          },
          "execution_count": 27
        }
      ]
    },
    {
      "cell_type": "code",
      "metadata": {
        "id": "eDmDbM8nIZeE"
      },
      "source": [
        "# TODO - отфильтровать фрейм по значениям признаков\n",
        "a1=pd.DataFrame(df[(df['x1'] > 3)&(df['x3'] <8)])"
      ],
      "execution_count": null,
      "outputs": []
    },
    {
      "cell_type": "code",
      "metadata": {
        "id": "3zHk7Z2SIkra",
        "colab": {
          "base_uri": "https://localhost:8080/",
          "height": 269
        },
        "outputId": "842e0c76-9e92-474a-ac93-eb3d3a4e5520"
      },
      "source": [
        "# TODO - отобразите только колонки x1 и x2 с учетом условий \n",
        "#           (используйте .loc[])\n",
        "\n",
        "a1.loc[:,['x1','x2']]"
      ],
      "execution_count": null,
      "outputs": [
        {
          "output_type": "execute_result",
          "data": {
            "text/html": [
              "<div>\n",
              "<style scoped>\n",
              "    .dataframe tbody tr th:only-of-type {\n",
              "        vertical-align: middle;\n",
              "    }\n",
              "\n",
              "    .dataframe tbody tr th {\n",
              "        vertical-align: top;\n",
              "    }\n",
              "\n",
              "    .dataframe thead th {\n",
              "        text-align: right;\n",
              "    }\n",
              "</style>\n",
              "<table border=\"1\" class=\"dataframe\">\n",
              "  <thead>\n",
              "    <tr style=\"text-align: right;\">\n",
              "      <th></th>\n",
              "      <th>x1</th>\n",
              "      <th>x2</th>\n",
              "    </tr>\n",
              "  </thead>\n",
              "  <tbody>\n",
              "    <tr>\n",
              "      <th>0</th>\n",
              "      <td>9</td>\n",
              "      <td>7</td>\n",
              "    </tr>\n",
              "    <tr>\n",
              "      <th>2</th>\n",
              "      <td>6</td>\n",
              "      <td>3</td>\n",
              "    </tr>\n",
              "    <tr>\n",
              "      <th>3</th>\n",
              "      <td>4</td>\n",
              "      <td>5</td>\n",
              "    </tr>\n",
              "    <tr>\n",
              "      <th>4</th>\n",
              "      <td>5</td>\n",
              "      <td>3</td>\n",
              "    </tr>\n",
              "    <tr>\n",
              "      <th>9</th>\n",
              "      <td>8</td>\n",
              "      <td>7</td>\n",
              "    </tr>\n",
              "    <tr>\n",
              "      <th>11</th>\n",
              "      <td>4</td>\n",
              "      <td>5</td>\n",
              "    </tr>\n",
              "    <tr>\n",
              "      <th>12</th>\n",
              "      <td>8</td>\n",
              "      <td>9</td>\n",
              "    </tr>\n",
              "  </tbody>\n",
              "</table>\n",
              "</div>"
            ],
            "text/plain": [
              "    x1  x2\n",
              "0    9   7\n",
              "2    6   3\n",
              "3    4   5\n",
              "4    5   3\n",
              "9    8   7\n",
              "11   4   5\n",
              "12   8   9"
            ]
          },
          "metadata": {
            "tags": []
          },
          "execution_count": 35
        }
      ]
    },
    {
      "cell_type": "markdown",
      "metadata": {
        "id": "pppYzrYDulwx"
      },
      "source": [
        "## Задание\n",
        "\n",
        "С помощью метода `DataFrame.query()` получите записи, которые соответсвуют условию сравнения колонок $x1 > x3$:"
      ]
    },
    {
      "cell_type": "code",
      "metadata": {
        "id": "WqFcnjEEuzBq",
        "colab": {
          "base_uri": "https://localhost:8080/",
          "height": 269
        },
        "outputId": "7c9f1f5c-043c-45a2-dc5e-64bb495fd8d0"
      },
      "source": [
        "df = pd.DataFrame(\n",
        "    [[1, 2, 6], [5, 1, 1], [8, 4, 6], [4, 1, 1], [9, 9, 0], [-1, 2, 1], [5, 5, 5]],\n",
        "    columns = ['x1', 'x2', 'x3']\n",
        ")\n",
        "df"
      ],
      "execution_count": null,
      "outputs": [
        {
          "output_type": "execute_result",
          "data": {
            "text/html": [
              "<div>\n",
              "<style scoped>\n",
              "    .dataframe tbody tr th:only-of-type {\n",
              "        vertical-align: middle;\n",
              "    }\n",
              "\n",
              "    .dataframe tbody tr th {\n",
              "        vertical-align: top;\n",
              "    }\n",
              "\n",
              "    .dataframe thead th {\n",
              "        text-align: right;\n",
              "    }\n",
              "</style>\n",
              "<table border=\"1\" class=\"dataframe\">\n",
              "  <thead>\n",
              "    <tr style=\"text-align: right;\">\n",
              "      <th></th>\n",
              "      <th>x1</th>\n",
              "      <th>x2</th>\n",
              "      <th>x3</th>\n",
              "    </tr>\n",
              "  </thead>\n",
              "  <tbody>\n",
              "    <tr>\n",
              "      <th>0</th>\n",
              "      <td>1</td>\n",
              "      <td>2</td>\n",
              "      <td>6</td>\n",
              "    </tr>\n",
              "    <tr>\n",
              "      <th>1</th>\n",
              "      <td>5</td>\n",
              "      <td>1</td>\n",
              "      <td>1</td>\n",
              "    </tr>\n",
              "    <tr>\n",
              "      <th>2</th>\n",
              "      <td>8</td>\n",
              "      <td>4</td>\n",
              "      <td>6</td>\n",
              "    </tr>\n",
              "    <tr>\n",
              "      <th>3</th>\n",
              "      <td>4</td>\n",
              "      <td>1</td>\n",
              "      <td>1</td>\n",
              "    </tr>\n",
              "    <tr>\n",
              "      <th>4</th>\n",
              "      <td>9</td>\n",
              "      <td>9</td>\n",
              "      <td>0</td>\n",
              "    </tr>\n",
              "    <tr>\n",
              "      <th>5</th>\n",
              "      <td>-1</td>\n",
              "      <td>2</td>\n",
              "      <td>1</td>\n",
              "    </tr>\n",
              "    <tr>\n",
              "      <th>6</th>\n",
              "      <td>5</td>\n",
              "      <td>5</td>\n",
              "      <td>5</td>\n",
              "    </tr>\n",
              "  </tbody>\n",
              "</table>\n",
              "</div>"
            ],
            "text/plain": [
              "   x1  x2  x3\n",
              "0   1   2   6\n",
              "1   5   1   1\n",
              "2   8   4   6\n",
              "3   4   1   1\n",
              "4   9   9   0\n",
              "5  -1   2   1\n",
              "6   5   5   5"
            ]
          },
          "metadata": {
            "tags": []
          },
          "execution_count": 36
        }
      ]
    },
    {
      "cell_type": "code",
      "metadata": {
        "id": "y4CjO3YfvFXq",
        "colab": {
          "base_uri": "https://localhost:8080/",
          "height": 175
        },
        "outputId": "6d08f66c-bcb7-4224-f6c5-fd1adc376ff5"
      },
      "source": [
        "# TODO - Методом DataFrame.query() получить записи, удовлетворяющие условию\n",
        "#           x1 > x3\n",
        "df.query('x1>x3')"
      ],
      "execution_count": null,
      "outputs": [
        {
          "output_type": "execute_result",
          "data": {
            "text/html": [
              "<div>\n",
              "<style scoped>\n",
              "    .dataframe tbody tr th:only-of-type {\n",
              "        vertical-align: middle;\n",
              "    }\n",
              "\n",
              "    .dataframe tbody tr th {\n",
              "        vertical-align: top;\n",
              "    }\n",
              "\n",
              "    .dataframe thead th {\n",
              "        text-align: right;\n",
              "    }\n",
              "</style>\n",
              "<table border=\"1\" class=\"dataframe\">\n",
              "  <thead>\n",
              "    <tr style=\"text-align: right;\">\n",
              "      <th></th>\n",
              "      <th>x1</th>\n",
              "      <th>x2</th>\n",
              "      <th>x3</th>\n",
              "    </tr>\n",
              "  </thead>\n",
              "  <tbody>\n",
              "    <tr>\n",
              "      <th>1</th>\n",
              "      <td>5</td>\n",
              "      <td>1</td>\n",
              "      <td>1</td>\n",
              "    </tr>\n",
              "    <tr>\n",
              "      <th>2</th>\n",
              "      <td>8</td>\n",
              "      <td>4</td>\n",
              "      <td>6</td>\n",
              "    </tr>\n",
              "    <tr>\n",
              "      <th>3</th>\n",
              "      <td>4</td>\n",
              "      <td>1</td>\n",
              "      <td>1</td>\n",
              "    </tr>\n",
              "    <tr>\n",
              "      <th>4</th>\n",
              "      <td>9</td>\n",
              "      <td>9</td>\n",
              "      <td>0</td>\n",
              "    </tr>\n",
              "  </tbody>\n",
              "</table>\n",
              "</div>"
            ],
            "text/plain": [
              "   x1  x2  x3\n",
              "1   5   1   1\n",
              "2   8   4   6\n",
              "3   4   1   1\n",
              "4   9   9   0"
            ]
          },
          "metadata": {
            "tags": []
          },
          "execution_count": 37
        }
      ]
    },
    {
      "cell_type": "code",
      "metadata": {
        "id": "A4nFNejgvSAN",
        "colab": {
          "base_uri": "https://localhost:8080/",
          "height": 175
        },
        "outputId": "9b03e569-26ff-443a-932e-c81baeee0aa6"
      },
      "source": [
        "# TODO - Сделать аналогичное действие, но уже с помощью условной индексации\n",
        "df[(df['x1'] > df['x3'] )]"
      ],
      "execution_count": null,
      "outputs": [
        {
          "output_type": "execute_result",
          "data": {
            "text/html": [
              "<div>\n",
              "<style scoped>\n",
              "    .dataframe tbody tr th:only-of-type {\n",
              "        vertical-align: middle;\n",
              "    }\n",
              "\n",
              "    .dataframe tbody tr th {\n",
              "        vertical-align: top;\n",
              "    }\n",
              "\n",
              "    .dataframe thead th {\n",
              "        text-align: right;\n",
              "    }\n",
              "</style>\n",
              "<table border=\"1\" class=\"dataframe\">\n",
              "  <thead>\n",
              "    <tr style=\"text-align: right;\">\n",
              "      <th></th>\n",
              "      <th>x1</th>\n",
              "      <th>x2</th>\n",
              "      <th>x3</th>\n",
              "    </tr>\n",
              "  </thead>\n",
              "  <tbody>\n",
              "    <tr>\n",
              "      <th>1</th>\n",
              "      <td>5</td>\n",
              "      <td>1</td>\n",
              "      <td>1</td>\n",
              "    </tr>\n",
              "    <tr>\n",
              "      <th>2</th>\n",
              "      <td>8</td>\n",
              "      <td>4</td>\n",
              "      <td>6</td>\n",
              "    </tr>\n",
              "    <tr>\n",
              "      <th>3</th>\n",
              "      <td>4</td>\n",
              "      <td>1</td>\n",
              "      <td>1</td>\n",
              "    </tr>\n",
              "    <tr>\n",
              "      <th>4</th>\n",
              "      <td>9</td>\n",
              "      <td>9</td>\n",
              "      <td>0</td>\n",
              "    </tr>\n",
              "  </tbody>\n",
              "</table>\n",
              "</div>"
            ],
            "text/plain": [
              "   x1  x2  x3\n",
              "1   5   1   1\n",
              "2   8   4   6\n",
              "3   4   1   1\n",
              "4   9   9   0"
            ]
          },
          "metadata": {
            "tags": []
          },
          "execution_count": 39
        }
      ]
    },
    {
      "cell_type": "markdown",
      "metadata": {
        "id": "9nLi9I9k1lT4"
      },
      "source": [
        "# Операции с рядами / Новые колонки"
      ]
    },
    {
      "cell_type": "markdown",
      "metadata": {
        "id": "pUqSlAwi17k1"
      },
      "source": [
        "Работа с фреймами и рядами данных в pandas поддерживает многие операции по аналогии с работой в numpy."
      ]
    },
    {
      "cell_type": "code",
      "metadata": {
        "id": "xxdg5abT22ZJ",
        "colab": {
          "base_uri": "https://localhost:8080/",
          "height": 143
        },
        "outputId": "8ef3eb92-1d5d-491f-8583-6f9359b1fc46"
      },
      "source": [
        "df = pd.DataFrame(\n",
        "    data=np.random.randint(0, 10, size=(15, 3)), \n",
        "    columns=['x1', 'x2', 'x3']\n",
        ")\n",
        "df.head(3)"
      ],
      "execution_count": null,
      "outputs": [
        {
          "output_type": "execute_result",
          "data": {
            "text/html": [
              "<div>\n",
              "<style scoped>\n",
              "    .dataframe tbody tr th:only-of-type {\n",
              "        vertical-align: middle;\n",
              "    }\n",
              "\n",
              "    .dataframe tbody tr th {\n",
              "        vertical-align: top;\n",
              "    }\n",
              "\n",
              "    .dataframe thead th {\n",
              "        text-align: right;\n",
              "    }\n",
              "</style>\n",
              "<table border=\"1\" class=\"dataframe\">\n",
              "  <thead>\n",
              "    <tr style=\"text-align: right;\">\n",
              "      <th></th>\n",
              "      <th>x1</th>\n",
              "      <th>x2</th>\n",
              "      <th>x3</th>\n",
              "    </tr>\n",
              "  </thead>\n",
              "  <tbody>\n",
              "    <tr>\n",
              "      <th>0</th>\n",
              "      <td>6</td>\n",
              "      <td>7</td>\n",
              "      <td>9</td>\n",
              "    </tr>\n",
              "    <tr>\n",
              "      <th>1</th>\n",
              "      <td>8</td>\n",
              "      <td>3</td>\n",
              "      <td>9</td>\n",
              "    </tr>\n",
              "    <tr>\n",
              "      <th>2</th>\n",
              "      <td>0</td>\n",
              "      <td>0</td>\n",
              "      <td>3</td>\n",
              "    </tr>\n",
              "  </tbody>\n",
              "</table>\n",
              "</div>"
            ],
            "text/plain": [
              "   x1  x2  x3\n",
              "0   6   7   9\n",
              "1   8   3   9\n",
              "2   0   0   3"
            ]
          },
          "metadata": {
            "tags": []
          },
          "execution_count": 40
        }
      ]
    },
    {
      "cell_type": "code",
      "metadata": {
        "id": "DBbdLqIv3DAG",
        "colab": {
          "base_uri": "https://localhost:8080/",
          "height": 143
        },
        "outputId": "877ec7a6-36d0-4f96-875d-ce089de59b69"
      },
      "source": [
        "# Создать новую колонку можно по аналогии с новым ключем в словаре\n",
        "# Сложение нескольких Series и запись в новую колонку\n",
        "df['x1+x2'] = df['x1'] + df['x2']\n",
        "df.head(3)"
      ],
      "execution_count": null,
      "outputs": [
        {
          "output_type": "execute_result",
          "data": {
            "text/html": [
              "<div>\n",
              "<style scoped>\n",
              "    .dataframe tbody tr th:only-of-type {\n",
              "        vertical-align: middle;\n",
              "    }\n",
              "\n",
              "    .dataframe tbody tr th {\n",
              "        vertical-align: top;\n",
              "    }\n",
              "\n",
              "    .dataframe thead th {\n",
              "        text-align: right;\n",
              "    }\n",
              "</style>\n",
              "<table border=\"1\" class=\"dataframe\">\n",
              "  <thead>\n",
              "    <tr style=\"text-align: right;\">\n",
              "      <th></th>\n",
              "      <th>x1</th>\n",
              "      <th>x2</th>\n",
              "      <th>x3</th>\n",
              "      <th>x1+x2</th>\n",
              "    </tr>\n",
              "  </thead>\n",
              "  <tbody>\n",
              "    <tr>\n",
              "      <th>0</th>\n",
              "      <td>6</td>\n",
              "      <td>7</td>\n",
              "      <td>9</td>\n",
              "      <td>13</td>\n",
              "    </tr>\n",
              "    <tr>\n",
              "      <th>1</th>\n",
              "      <td>8</td>\n",
              "      <td>3</td>\n",
              "      <td>9</td>\n",
              "      <td>11</td>\n",
              "    </tr>\n",
              "    <tr>\n",
              "      <th>2</th>\n",
              "      <td>0</td>\n",
              "      <td>0</td>\n",
              "      <td>3</td>\n",
              "      <td>0</td>\n",
              "    </tr>\n",
              "  </tbody>\n",
              "</table>\n",
              "</div>"
            ],
            "text/plain": [
              "   x1  x2  x3  x1+x2\n",
              "0   6   7   9     13\n",
              "1   8   3   9     11\n",
              "2   0   0   3      0"
            ]
          },
          "metadata": {
            "tags": []
          },
          "execution_count": 41
        }
      ]
    },
    {
      "cell_type": "code",
      "metadata": {
        "id": "YHsGI82a32Dy",
        "colab": {
          "base_uri": "https://localhost:8080/",
          "height": 143
        },
        "outputId": "783196d7-c486-42f7-c46d-d30676a99f52"
      },
      "source": [
        "# Поэлементное умножение\n",
        "df['x1*x3'] = df['x1'] * df['x3']\n",
        "df.head(3)"
      ],
      "execution_count": null,
      "outputs": [
        {
          "output_type": "execute_result",
          "data": {
            "text/html": [
              "<div>\n",
              "<style scoped>\n",
              "    .dataframe tbody tr th:only-of-type {\n",
              "        vertical-align: middle;\n",
              "    }\n",
              "\n",
              "    .dataframe tbody tr th {\n",
              "        vertical-align: top;\n",
              "    }\n",
              "\n",
              "    .dataframe thead th {\n",
              "        text-align: right;\n",
              "    }\n",
              "</style>\n",
              "<table border=\"1\" class=\"dataframe\">\n",
              "  <thead>\n",
              "    <tr style=\"text-align: right;\">\n",
              "      <th></th>\n",
              "      <th>x1</th>\n",
              "      <th>x2</th>\n",
              "      <th>x3</th>\n",
              "      <th>x1+x2</th>\n",
              "      <th>x1*x3</th>\n",
              "    </tr>\n",
              "  </thead>\n",
              "  <tbody>\n",
              "    <tr>\n",
              "      <th>0</th>\n",
              "      <td>6</td>\n",
              "      <td>7</td>\n",
              "      <td>9</td>\n",
              "      <td>13</td>\n",
              "      <td>54</td>\n",
              "    </tr>\n",
              "    <tr>\n",
              "      <th>1</th>\n",
              "      <td>8</td>\n",
              "      <td>3</td>\n",
              "      <td>9</td>\n",
              "      <td>11</td>\n",
              "      <td>72</td>\n",
              "    </tr>\n",
              "    <tr>\n",
              "      <th>2</th>\n",
              "      <td>0</td>\n",
              "      <td>0</td>\n",
              "      <td>3</td>\n",
              "      <td>0</td>\n",
              "      <td>0</td>\n",
              "    </tr>\n",
              "  </tbody>\n",
              "</table>\n",
              "</div>"
            ],
            "text/plain": [
              "   x1  x2  x3  x1+x2  x1*x3\n",
              "0   6   7   9     13     54\n",
              "1   8   3   9     11     72\n",
              "2   0   0   3      0      0"
            ]
          },
          "metadata": {
            "tags": []
          },
          "execution_count": 42
        }
      ]
    },
    {
      "cell_type": "code",
      "metadata": {
        "id": "2WLH7E1_37Zd",
        "colab": {
          "base_uri": "https://localhost:8080/"
        },
        "outputId": "4cccd3f0-497a-48e0-93c4-329fcda5de47"
      },
      "source": [
        "# Взятие среднего по колонке (метод Series.mean())\n",
        "df['x1'].mean()"
      ],
      "execution_count": null,
      "outputs": [
        {
          "output_type": "execute_result",
          "data": {
            "text/plain": [
              "3.4"
            ]
          },
          "metadata": {
            "tags": []
          },
          "execution_count": 43
        }
      ]
    },
    {
      "cell_type": "code",
      "metadata": {
        "id": "okj2LQ8a4X0c",
        "colab": {
          "base_uri": "https://localhost:8080/",
          "height": 143
        },
        "outputId": "8a00a097-d071-4f01-e9c0-7e37e11ada35"
      },
      "source": [
        "# Использование функций numpy для работы с колонками\n",
        "df['x2_exp'] = np.exp(df['x2'])\n",
        "df.head(3)"
      ],
      "execution_count": null,
      "outputs": [
        {
          "output_type": "execute_result",
          "data": {
            "text/html": [
              "<div>\n",
              "<style scoped>\n",
              "    .dataframe tbody tr th:only-of-type {\n",
              "        vertical-align: middle;\n",
              "    }\n",
              "\n",
              "    .dataframe tbody tr th {\n",
              "        vertical-align: top;\n",
              "    }\n",
              "\n",
              "    .dataframe thead th {\n",
              "        text-align: right;\n",
              "    }\n",
              "</style>\n",
              "<table border=\"1\" class=\"dataframe\">\n",
              "  <thead>\n",
              "    <tr style=\"text-align: right;\">\n",
              "      <th></th>\n",
              "      <th>x1</th>\n",
              "      <th>x2</th>\n",
              "      <th>x3</th>\n",
              "      <th>x1+x2</th>\n",
              "      <th>x1*x3</th>\n",
              "      <th>x2_exp</th>\n",
              "    </tr>\n",
              "  </thead>\n",
              "  <tbody>\n",
              "    <tr>\n",
              "      <th>0</th>\n",
              "      <td>6</td>\n",
              "      <td>7</td>\n",
              "      <td>9</td>\n",
              "      <td>13</td>\n",
              "      <td>54</td>\n",
              "      <td>1096.633158</td>\n",
              "    </tr>\n",
              "    <tr>\n",
              "      <th>1</th>\n",
              "      <td>8</td>\n",
              "      <td>3</td>\n",
              "      <td>9</td>\n",
              "      <td>11</td>\n",
              "      <td>72</td>\n",
              "      <td>20.085537</td>\n",
              "    </tr>\n",
              "    <tr>\n",
              "      <th>2</th>\n",
              "      <td>0</td>\n",
              "      <td>0</td>\n",
              "      <td>3</td>\n",
              "      <td>0</td>\n",
              "      <td>0</td>\n",
              "      <td>1.000000</td>\n",
              "    </tr>\n",
              "  </tbody>\n",
              "</table>\n",
              "</div>"
            ],
            "text/plain": [
              "   x1  x2  x3  x1+x2  x1*x3       x2_exp\n",
              "0   6   7   9     13     54  1096.633158\n",
              "1   8   3   9     11     72    20.085537\n",
              "2   0   0   3      0      0     1.000000"
            ]
          },
          "metadata": {
            "tags": []
          },
          "execution_count": 44
        }
      ]
    },
    {
      "cell_type": "markdown",
      "metadata": {
        "id": "lGfjIyV14wC8"
      },
      "source": [
        "Как вы заметили, ряды (это же одномерные массивы) можно обрабатывать:\n",
        "- операциями Python;\n",
        "- методами класса Series;\n",
        "- функциями numpy.\n",
        "\n",
        "> Для создания новой колонки достаточно просто задать имя новой колонки и записать ряд данных (может быть даже одномерным массивом numpy), который имеет такой же размер, куда пишется."
      ]
    },
    {
      "cell_type": "markdown",
      "metadata": {
        "id": "5RF8V86g-JMk"
      },
      "source": [
        "Для случая, если нужной функции нет, то можно создать свою с помощью метода `Series.apply()`, которой передается название функции для применения над всем рядом."
      ]
    },
    {
      "cell_type": "code",
      "metadata": {
        "id": "a1hhrKsn-pSy",
        "colab": {
          "base_uri": "https://localhost:8080/",
          "height": 143
        },
        "outputId": "0edb3a16-82a6-4844-9f6e-f5f3b329fb7b"
      },
      "source": [
        "\n",
        "df.rename(\n",
        "    columns={\n",
        "        'x1': 'new_name_for_x1',\n",
        "        'x3': 'that_not_x3' \n",
        "    },\n",
        "    inplace=True\n",
        ")df = pd.DataFrame(\n",
        "    data=np.random.randint(0, 10, size=(3, 3)), \n",
        "    columns=['x1', 'x2', 'x3']\n",
        ")\n",
        "df"
      ],
      "execution_count": null,
      "outputs": [
        {
          "output_type": "execute_result",
          "data": {
            "text/html": [
              "<div>\n",
              "<style scoped>\n",
              "    .dataframe tbody tr th:only-of-type {\n",
              "        vertical-align: middle;\n",
              "    }\n",
              "\n",
              "    .dataframe tbody tr th {\n",
              "        vertical-align: top;\n",
              "    }\n",
              "\n",
              "    .dataframe thead th {\n",
              "        text-align: right;\n",
              "    }\n",
              "</style>\n",
              "<table border=\"1\" class=\"dataframe\">\n",
              "  <thead>\n",
              "    <tr style=\"text-align: right;\">\n",
              "      <th></th>\n",
              "      <th>x1</th>\n",
              "      <th>x2</th>\n",
              "      <th>x3</th>\n",
              "    </tr>\n",
              "  </thead>\n",
              "  <tbody>\n",
              "    <tr>\n",
              "      <th>0</th>\n",
              "      <td>7</td>\n",
              "      <td>8</td>\n",
              "      <td>4</td>\n",
              "    </tr>\n",
              "    <tr>\n",
              "      <th>1</th>\n",
              "      <td>5</td>\n",
              "      <td>0</td>\n",
              "      <td>3</td>\n",
              "    </tr>\n",
              "    <tr>\n",
              "      <th>2</th>\n",
              "      <td>8</td>\n",
              "      <td>8</td>\n",
              "      <td>3</td>\n",
              "    </tr>\n",
              "  </tbody>\n",
              "</table>\n",
              "</div>"
            ],
            "text/plain": [
              "   x1  x2  x3\n",
              "0   7   8   4\n",
              "1   5   0   3\n",
              "2   8   8   3"
            ]
          },
          "metadata": {
            "tags": []
          },
          "execution_count": 45
        }
      ]
    },
    {
      "cell_type": "code",
      "metadata": {
        "id": "Cl1cdYh5_Bsu",
        "colab": {
          "base_uri": "https://localhost:8080/",
          "height": 254
        },
        "outputId": "60bce5af-cfda-4a42-e060-66d0dab248f9"
      },
      "source": [
        "# Обязательно требование к функции - один аргумент\n",
        "# Эта функция будет передана в apply() и pandas\n",
        "#   будет вызывать ее и передавать в нее \n",
        "#   по одному элементу из ряда\n",
        "# Возвращать функция должна результат операции над элементом\n",
        "def my_func(x):\n",
        "    print(type(x))\n",
        "    print(x)\n",
        "    return x*2\n",
        "\n",
        "df['result'] = df['x1'].apply(my_func)\n",
        "df"
      ],
      "execution_count": null,
      "outputs": [
        {
          "output_type": "stream",
          "text": [
            "<class 'int'>\n",
            "7\n",
            "<class 'int'>\n",
            "5\n",
            "<class 'int'>\n",
            "8\n"
          ],
          "name": "stdout"
        },
        {
          "output_type": "execute_result",
          "data": {
            "text/html": [
              "<div>\n",
              "<style scoped>\n",
              "    .dataframe tbody tr th:only-of-type {\n",
              "        vertical-align: middle;\n",
              "    }\n",
              "\n",
              "    .dataframe tbody tr th {\n",
              "        vertical-align: top;\n",
              "    }\n",
              "\n",
              "    .dataframe thead th {\n",
              "        text-align: right;\n",
              "    }\n",
              "</style>\n",
              "<table border=\"1\" class=\"dataframe\">\n",
              "  <thead>\n",
              "    <tr style=\"text-align: right;\">\n",
              "      <th></th>\n",
              "      <th>x1</th>\n",
              "      <th>x2</th>\n",
              "      <th>x3</th>\n",
              "      <th>result</th>\n",
              "    </tr>\n",
              "  </thead>\n",
              "  <tbody>\n",
              "    <tr>\n",
              "      <th>0</th>\n",
              "      <td>7</td>\n",
              "      <td>8</td>\n",
              "      <td>4</td>\n",
              "      <td>14</td>\n",
              "    </tr>\n",
              "    <tr>\n",
              "      <th>1</th>\n",
              "      <td>5</td>\n",
              "      <td>0</td>\n",
              "      <td>3</td>\n",
              "      <td>10</td>\n",
              "    </tr>\n",
              "    <tr>\n",
              "      <th>2</th>\n",
              "      <td>8</td>\n",
              "      <td>8</td>\n",
              "      <td>3</td>\n",
              "      <td>16</td>\n",
              "    </tr>\n",
              "  </tbody>\n",
              "</table>\n",
              "</div>"
            ],
            "text/plain": [
              "   x1  x2  x3  result\n",
              "0   7   8   4      14\n",
              "1   5   0   3      10\n",
              "2   8   8   3      16"
            ]
          },
          "metadata": {
            "tags": []
          },
          "execution_count": 46
        }
      ]
    },
    {
      "cell_type": "markdown",
      "metadata": {
        "id": "EiCkYETi_LOr"
      },
      "source": [
        "Как видно, в функцию передается каждый элемент в ряду, тип элемента соответсвует типу колонки. Результат метода `.apply()` - новый ряд с примененной функцией."
      ]
    },
    {
      "cell_type": "markdown",
      "metadata": {
        "id": "cL0aNoDx6hmU"
      },
      "source": [
        "# Операции с фреймами"
      ]
    },
    {
      "cell_type": "markdown",
      "metadata": {
        "id": "CIiispWG6s-N"
      },
      "source": [
        "## Переименование колонок / индексов"
      ]
    },
    {
      "cell_type": "markdown",
      "metadata": {
        "id": "X82Dz47d5vym"
      },
      "source": [
        "Одной из полезных функций является возможность переименования имен колонок. Для этого имеется метод `DataFrame.rename()`:"
      ]
    },
    {
      "cell_type": "code",
      "metadata": {
        "id": "r5a3F6Dw56dr",
        "colab": {
          "base_uri": "https://localhost:8080/",
          "height": 143
        },
        "outputId": "0bd733d0-3d37-4719-ed9d-190329052b4a"
      },
      "source": [
        "df = pd.DataFrame(\n",
        "    data=np.random.randint(0, 10, size=(15, 3)), \n",
        "    columns=['x1', 'x2', 'x3']\n",
        ")\n",
        "df.head(3)"
      ],
      "execution_count": null,
      "outputs": [
        {
          "output_type": "execute_result",
          "data": {
            "text/html": [
              "<div>\n",
              "<style scoped>\n",
              "    .dataframe tbody tr th:only-of-type {\n",
              "        vertical-align: middle;\n",
              "    }\n",
              "\n",
              "    .dataframe tbody tr th {\n",
              "        vertical-align: top;\n",
              "    }\n",
              "\n",
              "    .dataframe thead th {\n",
              "        text-align: right;\n",
              "    }\n",
              "</style>\n",
              "<table border=\"1\" class=\"dataframe\">\n",
              "  <thead>\n",
              "    <tr style=\"text-align: right;\">\n",
              "      <th></th>\n",
              "      <th>x1</th>\n",
              "      <th>x2</th>\n",
              "      <th>x3</th>\n",
              "    </tr>\n",
              "  </thead>\n",
              "  <tbody>\n",
              "    <tr>\n",
              "      <th>0</th>\n",
              "      <td>2</td>\n",
              "      <td>2</td>\n",
              "      <td>1</td>\n",
              "    </tr>\n",
              "    <tr>\n",
              "      <th>1</th>\n",
              "      <td>8</td>\n",
              "      <td>3</td>\n",
              "      <td>7</td>\n",
              "    </tr>\n",
              "    <tr>\n",
              "      <th>2</th>\n",
              "      <td>8</td>\n",
              "      <td>9</td>\n",
              "      <td>1</td>\n",
              "    </tr>\n",
              "  </tbody>\n",
              "</table>\n",
              "</div>"
            ],
            "text/plain": [
              "   x1  x2  x3\n",
              "0   2   2   1\n",
              "1   8   3   7\n",
              "2   8   9   1"
            ]
          },
          "metadata": {
            "tags": []
          },
          "execution_count": 47
        }
      ]
    },
    {
      "cell_type": "code",
      "metadata": {
        "id": "fWw_Wo_D59FT",
        "colab": {
          "base_uri": "https://localhost:8080/",
          "height": 143
        },
        "outputId": "8a826814-6831-41c1-a114-0712b1636b3b"
      },
      "source": [
        "# Методу передается в аргумент columns словарь, \n",
        "#   в котором ключи - имена колонок,\n",
        "#   значения - новые имена для переименования\n",
        "df.rename(\n",
        "    columns={\n",
        "        'x1': 'new_name_for_x1',\n",
        "        'x3': 'that_not_x3' \n",
        "    },\n",
        "    inplace=True\n",
        ")\n",
        "df.head(3)"
      ],
      "execution_count": null,
      "outputs": [
        {
          "output_type": "execute_result",
          "data": {
            "text/html": [
              "<div>\n",
              "<style scoped>\n",
              "    .dataframe tbody tr th:only-of-type {\n",
              "        vertical-align: middle;\n",
              "    }\n",
              "\n",
              "    .dataframe tbody tr th {\n",
              "        vertical-align: top;\n",
              "    }\n",
              "\n",
              "    .dataframe thead th {\n",
              "        text-align: right;\n",
              "    }\n",
              "</style>\n",
              "<table border=\"1\" class=\"dataframe\">\n",
              "  <thead>\n",
              "    <tr style=\"text-align: right;\">\n",
              "      <th></th>\n",
              "      <th>new_name_for_x1</th>\n",
              "      <th>x2</th>\n",
              "      <th>that_not_x3</th>\n",
              "    </tr>\n",
              "  </thead>\n",
              "  <tbody>\n",
              "    <tr>\n",
              "      <th>0</th>\n",
              "      <td>2</td>\n",
              "      <td>2</td>\n",
              "      <td>1</td>\n",
              "    </tr>\n",
              "    <tr>\n",
              "      <th>1</th>\n",
              "      <td>8</td>\n",
              "      <td>3</td>\n",
              "      <td>7</td>\n",
              "    </tr>\n",
              "    <tr>\n",
              "      <th>2</th>\n",
              "      <td>8</td>\n",
              "      <td>9</td>\n",
              "      <td>1</td>\n",
              "    </tr>\n",
              "  </tbody>\n",
              "</table>\n",
              "</div>"
            ],
            "text/plain": [
              "   new_name_for_x1  x2  that_not_x3\n",
              "0                2   2            1\n",
              "1                8   3            7\n",
              "2                8   9            1"
            ]
          },
          "metadata": {
            "tags": []
          },
          "execution_count": 48
        }
      ]
    },
    {
      "cell_type": "markdown",
      "metadata": {
        "id": "3GP6Mkby6mIb"
      },
      "source": [
        "> Аргумент `inplace` является достаточно распространенным в методах фреймов. Этот аргумент управляет тем, как произвести операцию: прямо в этом классе (при установленном True) или вернуть результатом новый фрейм с произведенной операцией (при установленном False).\n",
        "\n",
        "Для сравнения аналогичный код без `inplace` выглядел бы так:\n",
        "```python\n",
        "df_renamed = df.rename(columns={\n",
        "    'x1': 'new_name_for_x1',\n",
        "    'x3': 'that_not_x3'\n",
        "})\n",
        "df_renamed\n",
        "```"
      ]
    },
    {
      "cell_type": "markdown",
      "metadata": {
        "id": "Pn5PWfi18Nn1"
      },
      "source": [
        "Для переименования индексов (названий записей) используется тот же принцип, но словарь передается в аргумент `index` с ключами - исходными названиями индексов, значениями - новыми значениями."
      ]
    },
    {
      "cell_type": "markdown",
      "metadata": {
        "id": "ZJ0GeWkG8qqc"
      },
      "source": [
        "### Задание\n",
        "\n",
        "Переименуйте индексы и колонки во фрейме"
      ]
    },
    {
      "cell_type": "code",
      "metadata": {
        "id": "8ItPTn_887Sc",
        "colab": {
          "base_uri": "https://localhost:8080/",
          "height": 206
        },
        "outputId": "761b2c40-ec9f-4799-ba3f-efd68d06e312"
      },
      "source": [
        "df = pd.DataFrame(\n",
        "    data=np.random.randint(0, 10, size=(5, 3)), \n",
        "    index=['A', 'B', 'C', 'D', 'E'], \n",
        "    columns=['x1', 'x2', 'x3']\n",
        ")\n",
        "df"
      ],
      "execution_count": null,
      "outputs": [
        {
          "output_type": "execute_result",
          "data": {
            "text/html": [
              "<div>\n",
              "<style scoped>\n",
              "    .dataframe tbody tr th:only-of-type {\n",
              "        vertical-align: middle;\n",
              "    }\n",
              "\n",
              "    .dataframe tbody tr th {\n",
              "        vertical-align: top;\n",
              "    }\n",
              "\n",
              "    .dataframe thead th {\n",
              "        text-align: right;\n",
              "    }\n",
              "</style>\n",
              "<table border=\"1\" class=\"dataframe\">\n",
              "  <thead>\n",
              "    <tr style=\"text-align: right;\">\n",
              "      <th></th>\n",
              "      <th>x1</th>\n",
              "      <th>x2</th>\n",
              "      <th>x3</th>\n",
              "    </tr>\n",
              "  </thead>\n",
              "  <tbody>\n",
              "    <tr>\n",
              "      <th>A</th>\n",
              "      <td>5</td>\n",
              "      <td>9</td>\n",
              "      <td>5</td>\n",
              "    </tr>\n",
              "    <tr>\n",
              "      <th>B</th>\n",
              "      <td>8</td>\n",
              "      <td>5</td>\n",
              "      <td>9</td>\n",
              "    </tr>\n",
              "    <tr>\n",
              "      <th>C</th>\n",
              "      <td>4</td>\n",
              "      <td>7</td>\n",
              "      <td>6</td>\n",
              "    </tr>\n",
              "    <tr>\n",
              "      <th>D</th>\n",
              "      <td>3</td>\n",
              "      <td>3</td>\n",
              "      <td>9</td>\n",
              "    </tr>\n",
              "    <tr>\n",
              "      <th>E</th>\n",
              "      <td>2</td>\n",
              "      <td>7</td>\n",
              "      <td>5</td>\n",
              "    </tr>\n",
              "  </tbody>\n",
              "</table>\n",
              "</div>"
            ],
            "text/plain": [
              "   x1  x2  x3\n",
              "A   5   9   5\n",
              "B   8   5   9\n",
              "C   4   7   6\n",
              "D   3   3   9\n",
              "E   2   7   5"
            ]
          },
          "metadata": {
            "tags": []
          },
          "execution_count": 49
        }
      ]
    },
    {
      "cell_type": "code",
      "metadata": {
        "id": "wHgJGm0A9Jib",
        "colab": {
          "base_uri": "https://localhost:8080/",
          "height": 206
        },
        "outputId": "54228f75-24e3-4113-a4ee-4ea528a3d7b7"
      },
      "source": [
        "# TODO - переименуйте индексы [A, C] -> [indA, indC] \n",
        "#           и колонки [x1, x3] -> [new1, new3]\n",
        "df.rename(\n",
        "    columns={\n",
        "        'x1': 'new1',\n",
        "        'x3': 'new3' \n",
        "    },\n",
        "    inplace=True\n",
        ")\n",
        "df.rename(\n",
        "    index={\n",
        "        'A': 'indA',\n",
        "        'C': 'indC' \n",
        "    },\n",
        "    inplace=True\n",
        ")\n",
        "df"
      ],
      "execution_count": null,
      "outputs": [
        {
          "output_type": "execute_result",
          "data": {
            "text/html": [
              "<div>\n",
              "<style scoped>\n",
              "    .dataframe tbody tr th:only-of-type {\n",
              "        vertical-align: middle;\n",
              "    }\n",
              "\n",
              "    .dataframe tbody tr th {\n",
              "        vertical-align: top;\n",
              "    }\n",
              "\n",
              "    .dataframe thead th {\n",
              "        text-align: right;\n",
              "    }\n",
              "</style>\n",
              "<table border=\"1\" class=\"dataframe\">\n",
              "  <thead>\n",
              "    <tr style=\"text-align: right;\">\n",
              "      <th></th>\n",
              "      <th>new1</th>\n",
              "      <th>x2</th>\n",
              "      <th>new3</th>\n",
              "    </tr>\n",
              "  </thead>\n",
              "  <tbody>\n",
              "    <tr>\n",
              "      <th>indA</th>\n",
              "      <td>5</td>\n",
              "      <td>9</td>\n",
              "      <td>5</td>\n",
              "    </tr>\n",
              "    <tr>\n",
              "      <th>B</th>\n",
              "      <td>8</td>\n",
              "      <td>5</td>\n",
              "      <td>9</td>\n",
              "    </tr>\n",
              "    <tr>\n",
              "      <th>indC</th>\n",
              "      <td>4</td>\n",
              "      <td>7</td>\n",
              "      <td>6</td>\n",
              "    </tr>\n",
              "    <tr>\n",
              "      <th>D</th>\n",
              "      <td>3</td>\n",
              "      <td>3</td>\n",
              "      <td>9</td>\n",
              "    </tr>\n",
              "    <tr>\n",
              "      <th>E</th>\n",
              "      <td>2</td>\n",
              "      <td>7</td>\n",
              "      <td>5</td>\n",
              "    </tr>\n",
              "  </tbody>\n",
              "</table>\n",
              "</div>"
            ],
            "text/plain": [
              "      new1  x2  new3\n",
              "indA     5   9     5\n",
              "B        8   5     9\n",
              "indC     4   7     6\n",
              "D        3   3     9\n",
              "E        2   7     5"
            ]
          },
          "metadata": {
            "tags": []
          },
          "execution_count": 51
        }
      ]
    },
    {
      "cell_type": "markdown",
      "metadata": {
        "id": "PIxEiYeA7fCT"
      },
      "source": [
        "## Удаление колонок / строк\n",
        "\n",
        "Данную операцию можно произвести двумя способами:\n",
        "1. Выбрать колонки, которые необходимо оставить, простой индексацией;\n",
        "2. Метод `DataFrame.drop()`."
      ]
    },
    {
      "cell_type": "code",
      "metadata": {
        "id": "614A8LHV7t7d",
        "colab": {
          "base_uri": "https://localhost:8080/",
          "height": 143
        },
        "outputId": "56fd6e30-b751-493a-c101-03c10b183ff1"
      },
      "source": [
        "df = pd.DataFrame(\n",
        "    data=np.random.randint(0, 10, size=(15, 3)), \n",
        "    columns=['x1', 'x2', 'x3']\n",
        ")\n",
        "df.head(3)"
      ],
      "execution_count": null,
      "outputs": [
        {
          "output_type": "execute_result",
          "data": {
            "text/html": [
              "<div>\n",
              "<style scoped>\n",
              "    .dataframe tbody tr th:only-of-type {\n",
              "        vertical-align: middle;\n",
              "    }\n",
              "\n",
              "    .dataframe tbody tr th {\n",
              "        vertical-align: top;\n",
              "    }\n",
              "\n",
              "    .dataframe thead th {\n",
              "        text-align: right;\n",
              "    }\n",
              "</style>\n",
              "<table border=\"1\" class=\"dataframe\">\n",
              "  <thead>\n",
              "    <tr style=\"text-align: right;\">\n",
              "      <th></th>\n",
              "      <th>x1</th>\n",
              "      <th>x2</th>\n",
              "      <th>x3</th>\n",
              "    </tr>\n",
              "  </thead>\n",
              "  <tbody>\n",
              "    <tr>\n",
              "      <th>0</th>\n",
              "      <td>8</td>\n",
              "      <td>9</td>\n",
              "      <td>4</td>\n",
              "    </tr>\n",
              "    <tr>\n",
              "      <th>1</th>\n",
              "      <td>6</td>\n",
              "      <td>9</td>\n",
              "      <td>7</td>\n",
              "    </tr>\n",
              "    <tr>\n",
              "      <th>2</th>\n",
              "      <td>7</td>\n",
              "      <td>3</td>\n",
              "      <td>7</td>\n",
              "    </tr>\n",
              "  </tbody>\n",
              "</table>\n",
              "</div>"
            ],
            "text/plain": [
              "   x1  x2  x3\n",
              "0   8   9   4\n",
              "1   6   9   7\n",
              "2   7   3   7"
            ]
          },
          "metadata": {
            "tags": []
          },
          "execution_count": 52
        }
      ]
    },
    {
      "cell_type": "code",
      "metadata": {
        "id": "RpIHpNdd94Sl",
        "colab": {
          "base_uri": "https://localhost:8080/",
          "height": 143
        },
        "outputId": "75bd4a92-e6ad-4d8d-e385-4fd516a965ee"
      },
      "source": [
        "df.drop(columns=['x2'], inplace=True)\n",
        "df.head(3)"
      ],
      "execution_count": null,
      "outputs": [
        {
          "output_type": "execute_result",
          "data": {
            "text/html": [
              "<div>\n",
              "<style scoped>\n",
              "    .dataframe tbody tr th:only-of-type {\n",
              "        vertical-align: middle;\n",
              "    }\n",
              "\n",
              "    .dataframe tbody tr th {\n",
              "        vertical-align: top;\n",
              "    }\n",
              "\n",
              "    .dataframe thead th {\n",
              "        text-align: right;\n",
              "    }\n",
              "</style>\n",
              "<table border=\"1\" class=\"dataframe\">\n",
              "  <thead>\n",
              "    <tr style=\"text-align: right;\">\n",
              "      <th></th>\n",
              "      <th>x1</th>\n",
              "      <th>x3</th>\n",
              "    </tr>\n",
              "  </thead>\n",
              "  <tbody>\n",
              "    <tr>\n",
              "      <th>0</th>\n",
              "      <td>8</td>\n",
              "      <td>4</td>\n",
              "    </tr>\n",
              "    <tr>\n",
              "      <th>1</th>\n",
              "      <td>6</td>\n",
              "      <td>7</td>\n",
              "    </tr>\n",
              "    <tr>\n",
              "      <th>2</th>\n",
              "      <td>7</td>\n",
              "      <td>7</td>\n",
              "    </tr>\n",
              "  </tbody>\n",
              "</table>\n",
              "</div>"
            ],
            "text/plain": [
              "   x1  x3\n",
              "0   8   4\n",
              "1   6   7\n",
              "2   7   7"
            ]
          },
          "metadata": {
            "tags": []
          },
          "execution_count": 53
        }
      ]
    },
    {
      "cell_type": "markdown",
      "metadata": {
        "id": "2jgzUMWxJO6N"
      },
      "source": [
        "## Определение количества NaN"
      ]
    },
    {
      "cell_type": "markdown",
      "metadata": {
        "id": "ymvbguTYJUhn"
      },
      "source": [
        "В данных часто бывают пропуски (NaN), при этом на первых этапах анализа важно понять их количество по каждому признаку. Для этого можно воспользоваться методом `DataFrame.isna()`, который создаст двумерный булевый фрейм, отвечающий на вопрос \"является ли значение NaN?\". После этого над всем фреймом можно применить метод `DataFrame.sum()`, который вернет ряд (Series) с количеством элементов True в булевом фрейме (элементов NaN в основном фрейме)."
      ]
    },
    {
      "cell_type": "code",
      "metadata": {
        "id": "u6ySClv7KEUo",
        "colab": {
          "base_uri": "https://localhost:8080/",
          "height": 206
        },
        "outputId": "47b2a8ab-30ba-4e45-da53-3c24ee105102"
      },
      "source": [
        "df = pd.DataFrame(\n",
        "    data=np.random.randint(0, 10, size=(5, 3)), \n",
        "    columns=['x1', 'x2', 'x3']\n",
        ")\n",
        "df.iloc[0, :2] = np.nan\n",
        "df.iloc[2, 1:] = np.nan\n",
        "\n",
        "df"
      ],
      "execution_count": null,
      "outputs": [
        {
          "output_type": "execute_result",
          "data": {
            "text/html": [
              "<div>\n",
              "<style scoped>\n",
              "    .dataframe tbody tr th:only-of-type {\n",
              "        vertical-align: middle;\n",
              "    }\n",
              "\n",
              "    .dataframe tbody tr th {\n",
              "        vertical-align: top;\n",
              "    }\n",
              "\n",
              "    .dataframe thead th {\n",
              "        text-align: right;\n",
              "    }\n",
              "</style>\n",
              "<table border=\"1\" class=\"dataframe\">\n",
              "  <thead>\n",
              "    <tr style=\"text-align: right;\">\n",
              "      <th></th>\n",
              "      <th>x1</th>\n",
              "      <th>x2</th>\n",
              "      <th>x3</th>\n",
              "    </tr>\n",
              "  </thead>\n",
              "  <tbody>\n",
              "    <tr>\n",
              "      <th>0</th>\n",
              "      <td>NaN</td>\n",
              "      <td>NaN</td>\n",
              "      <td>3.0</td>\n",
              "    </tr>\n",
              "    <tr>\n",
              "      <th>1</th>\n",
              "      <td>9.0</td>\n",
              "      <td>1.0</td>\n",
              "      <td>0.0</td>\n",
              "    </tr>\n",
              "    <tr>\n",
              "      <th>2</th>\n",
              "      <td>6.0</td>\n",
              "      <td>NaN</td>\n",
              "      <td>NaN</td>\n",
              "    </tr>\n",
              "    <tr>\n",
              "      <th>3</th>\n",
              "      <td>8.0</td>\n",
              "      <td>6.0</td>\n",
              "      <td>6.0</td>\n",
              "    </tr>\n",
              "    <tr>\n",
              "      <th>4</th>\n",
              "      <td>3.0</td>\n",
              "      <td>8.0</td>\n",
              "      <td>6.0</td>\n",
              "    </tr>\n",
              "  </tbody>\n",
              "</table>\n",
              "</div>"
            ],
            "text/plain": [
              "    x1   x2   x3\n",
              "0  NaN  NaN  3.0\n",
              "1  9.0  1.0  0.0\n",
              "2  6.0  NaN  NaN\n",
              "3  8.0  6.0  6.0\n",
              "4  3.0  8.0  6.0"
            ]
          },
          "metadata": {
            "tags": []
          },
          "execution_count": 54
        }
      ]
    },
    {
      "cell_type": "code",
      "metadata": {
        "id": "OYFxtfNQKRkq",
        "colab": {
          "base_uri": "https://localhost:8080/",
          "height": 206
        },
        "outputId": "d48eab46-da48-45e0-f2d5-88204cf4f41e"
      },
      "source": [
        "df.isna()"
      ],
      "execution_count": null,
      "outputs": [
        {
          "output_type": "execute_result",
          "data": {
            "text/html": [
              "<div>\n",
              "<style scoped>\n",
              "    .dataframe tbody tr th:only-of-type {\n",
              "        vertical-align: middle;\n",
              "    }\n",
              "\n",
              "    .dataframe tbody tr th {\n",
              "        vertical-align: top;\n",
              "    }\n",
              "\n",
              "    .dataframe thead th {\n",
              "        text-align: right;\n",
              "    }\n",
              "</style>\n",
              "<table border=\"1\" class=\"dataframe\">\n",
              "  <thead>\n",
              "    <tr style=\"text-align: right;\">\n",
              "      <th></th>\n",
              "      <th>x1</th>\n",
              "      <th>x2</th>\n",
              "      <th>x3</th>\n",
              "    </tr>\n",
              "  </thead>\n",
              "  <tbody>\n",
              "    <tr>\n",
              "      <th>0</th>\n",
              "      <td>True</td>\n",
              "      <td>True</td>\n",
              "      <td>False</td>\n",
              "    </tr>\n",
              "    <tr>\n",
              "      <th>1</th>\n",
              "      <td>False</td>\n",
              "      <td>False</td>\n",
              "      <td>False</td>\n",
              "    </tr>\n",
              "    <tr>\n",
              "      <th>2</th>\n",
              "      <td>False</td>\n",
              "      <td>True</td>\n",
              "      <td>True</td>\n",
              "    </tr>\n",
              "    <tr>\n",
              "      <th>3</th>\n",
              "      <td>False</td>\n",
              "      <td>False</td>\n",
              "      <td>False</td>\n",
              "    </tr>\n",
              "    <tr>\n",
              "      <th>4</th>\n",
              "      <td>False</td>\n",
              "      <td>False</td>\n",
              "      <td>False</td>\n",
              "    </tr>\n",
              "  </tbody>\n",
              "</table>\n",
              "</div>"
            ],
            "text/plain": [
              "      x1     x2     x3\n",
              "0   True   True  False\n",
              "1  False  False  False\n",
              "2  False   True   True\n",
              "3  False  False  False\n",
              "4  False  False  False"
            ]
          },
          "metadata": {
            "tags": []
          },
          "execution_count": 55
        }
      ]
    },
    {
      "cell_type": "code",
      "metadata": {
        "id": "FMmdpRcUKTsT",
        "colab": {
          "base_uri": "https://localhost:8080/"
        },
        "outputId": "f3ba10df-cd49-4844-e174-ef44275ab1d4"
      },
      "source": [
        "df.isna().sum()"
      ],
      "execution_count": null,
      "outputs": [
        {
          "output_type": "execute_result",
          "data": {
            "text/plain": [
              "x1    1\n",
              "x2    2\n",
              "x3    1\n",
              "dtype: int64"
            ]
          },
          "metadata": {
            "tags": []
          },
          "execution_count": 56
        }
      ]
    },
    {
      "cell_type": "markdown",
      "metadata": {
        "id": "DE4eBYciLiHc"
      },
      "source": [
        "## Заполнение пустых значений"
      ]
    },
    {
      "cell_type": "markdown",
      "metadata": {
        "id": "159PGj1jLkeX"
      },
      "source": [
        "Техники заполнения пустых значений имеют разнообразное представление, но одним из простых методов является заполнение константой. Для этого ряд данных имеет метод `Series.fillna()`, в который можно передать значение и вместо NaN элементов будет поставлена константа, указанная в аргументах."
      ]
    },
    {
      "cell_type": "code",
      "metadata": {
        "id": "rVrv2pvGL7FT",
        "colab": {
          "base_uri": "https://localhost:8080/",
          "height": 206
        },
        "outputId": "c33663f0-1de3-40bb-8d2f-1a56438f885a"
      },
      "source": [
        "df"
      ],
      "execution_count": null,
      "outputs": [
        {
          "output_type": "execute_result",
          "data": {
            "text/html": [
              "<div>\n",
              "<style scoped>\n",
              "    .dataframe tbody tr th:only-of-type {\n",
              "        vertical-align: middle;\n",
              "    }\n",
              "\n",
              "    .dataframe tbody tr th {\n",
              "        vertical-align: top;\n",
              "    }\n",
              "\n",
              "    .dataframe thead th {\n",
              "        text-align: right;\n",
              "    }\n",
              "</style>\n",
              "<table border=\"1\" class=\"dataframe\">\n",
              "  <thead>\n",
              "    <tr style=\"text-align: right;\">\n",
              "      <th></th>\n",
              "      <th>x1</th>\n",
              "      <th>x2</th>\n",
              "      <th>x3</th>\n",
              "    </tr>\n",
              "  </thead>\n",
              "  <tbody>\n",
              "    <tr>\n",
              "      <th>0</th>\n",
              "      <td>NaN</td>\n",
              "      <td>NaN</td>\n",
              "      <td>3.0</td>\n",
              "    </tr>\n",
              "    <tr>\n",
              "      <th>1</th>\n",
              "      <td>9.0</td>\n",
              "      <td>1.0</td>\n",
              "      <td>0.0</td>\n",
              "    </tr>\n",
              "    <tr>\n",
              "      <th>2</th>\n",
              "      <td>6.0</td>\n",
              "      <td>NaN</td>\n",
              "      <td>NaN</td>\n",
              "    </tr>\n",
              "    <tr>\n",
              "      <th>3</th>\n",
              "      <td>8.0</td>\n",
              "      <td>6.0</td>\n",
              "      <td>6.0</td>\n",
              "    </tr>\n",
              "    <tr>\n",
              "      <th>4</th>\n",
              "      <td>3.0</td>\n",
              "      <td>8.0</td>\n",
              "      <td>6.0</td>\n",
              "    </tr>\n",
              "  </tbody>\n",
              "</table>\n",
              "</div>"
            ],
            "text/plain": [
              "    x1   x2   x3\n",
              "0  NaN  NaN  3.0\n",
              "1  9.0  1.0  0.0\n",
              "2  6.0  NaN  NaN\n",
              "3  8.0  6.0  6.0\n",
              "4  3.0  8.0  6.0"
            ]
          },
          "metadata": {
            "tags": []
          },
          "execution_count": 57
        }
      ]
    },
    {
      "cell_type": "code",
      "metadata": {
        "id": "CNEGPZRnL9Ji",
        "colab": {
          "base_uri": "https://localhost:8080/",
          "height": 206
        },
        "outputId": "593a237b-ed41-49d0-dbdb-edbbecec9d5a"
      },
      "source": [
        "df['x2'].fillna(3, inplace=True)\n",
        "df"
      ],
      "execution_count": null,
      "outputs": [
        {
          "output_type": "execute_result",
          "data": {
            "text/html": [
              "<div>\n",
              "<style scoped>\n",
              "    .dataframe tbody tr th:only-of-type {\n",
              "        vertical-align: middle;\n",
              "    }\n",
              "\n",
              "    .dataframe tbody tr th {\n",
              "        vertical-align: top;\n",
              "    }\n",
              "\n",
              "    .dataframe thead th {\n",
              "        text-align: right;\n",
              "    }\n",
              "</style>\n",
              "<table border=\"1\" class=\"dataframe\">\n",
              "  <thead>\n",
              "    <tr style=\"text-align: right;\">\n",
              "      <th></th>\n",
              "      <th>x1</th>\n",
              "      <th>x2</th>\n",
              "      <th>x3</th>\n",
              "    </tr>\n",
              "  </thead>\n",
              "  <tbody>\n",
              "    <tr>\n",
              "      <th>0</th>\n",
              "      <td>NaN</td>\n",
              "      <td>3.0</td>\n",
              "      <td>3.0</td>\n",
              "    </tr>\n",
              "    <tr>\n",
              "      <th>1</th>\n",
              "      <td>9.0</td>\n",
              "      <td>1.0</td>\n",
              "      <td>0.0</td>\n",
              "    </tr>\n",
              "    <tr>\n",
              "      <th>2</th>\n",
              "      <td>6.0</td>\n",
              "      <td>3.0</td>\n",
              "      <td>NaN</td>\n",
              "    </tr>\n",
              "    <tr>\n",
              "      <th>3</th>\n",
              "      <td>8.0</td>\n",
              "      <td>6.0</td>\n",
              "      <td>6.0</td>\n",
              "    </tr>\n",
              "    <tr>\n",
              "      <th>4</th>\n",
              "      <td>3.0</td>\n",
              "      <td>8.0</td>\n",
              "      <td>6.0</td>\n",
              "    </tr>\n",
              "  </tbody>\n",
              "</table>\n",
              "</div>"
            ],
            "text/plain": [
              "    x1   x2   x3\n",
              "0  NaN  3.0  3.0\n",
              "1  9.0  1.0  0.0\n",
              "2  6.0  3.0  NaN\n",
              "3  8.0  6.0  6.0\n",
              "4  3.0  8.0  6.0"
            ]
          },
          "metadata": {
            "tags": []
          },
          "execution_count": 58
        }
      ]
    },
    {
      "cell_type": "markdown",
      "metadata": {
        "id": "qMLVYwcAsjv8"
      },
      "source": [
        "## Информация об уникальных значениях\n",
        "\n"
      ]
    },
    {
      "cell_type": "markdown",
      "metadata": {
        "id": "CA1B55wAson8"
      },
      "source": [
        "При работе с категориальными данными полезна информация об уникальных значения признака, поэтому важно понимать, как проверить их количество:"
      ]
    },
    {
      "cell_type": "code",
      "metadata": {
        "id": "ipzBgmO-soWq",
        "colab": {
          "base_uri": "https://localhost:8080/",
          "height": 363
        },
        "outputId": "fbd67e71-a558-4c4c-84ba-8b77c3abb8f4"
      },
      "source": [
        "df = pd.DataFrame({\n",
        "    'col1': ['high', 'high', 'low', 'med', 'low', 'low', 'med', 'low', 'low', 'high'],\n",
        "    'col2': [0, 1, 1, 2, 3, 1, 1, 2, 2, 2]\n",
        "})\n",
        "df"
      ],
      "execution_count": null,
      "outputs": [
        {
          "output_type": "execute_result",
          "data": {
            "text/html": [
              "<div>\n",
              "<style scoped>\n",
              "    .dataframe tbody tr th:only-of-type {\n",
              "        vertical-align: middle;\n",
              "    }\n",
              "\n",
              "    .dataframe tbody tr th {\n",
              "        vertical-align: top;\n",
              "    }\n",
              "\n",
              "    .dataframe thead th {\n",
              "        text-align: right;\n",
              "    }\n",
              "</style>\n",
              "<table border=\"1\" class=\"dataframe\">\n",
              "  <thead>\n",
              "    <tr style=\"text-align: right;\">\n",
              "      <th></th>\n",
              "      <th>col1</th>\n",
              "      <th>col2</th>\n",
              "    </tr>\n",
              "  </thead>\n",
              "  <tbody>\n",
              "    <tr>\n",
              "      <th>0</th>\n",
              "      <td>high</td>\n",
              "      <td>0</td>\n",
              "    </tr>\n",
              "    <tr>\n",
              "      <th>1</th>\n",
              "      <td>high</td>\n",
              "      <td>1</td>\n",
              "    </tr>\n",
              "    <tr>\n",
              "      <th>2</th>\n",
              "      <td>low</td>\n",
              "      <td>1</td>\n",
              "    </tr>\n",
              "    <tr>\n",
              "      <th>3</th>\n",
              "      <td>med</td>\n",
              "      <td>2</td>\n",
              "    </tr>\n",
              "    <tr>\n",
              "      <th>4</th>\n",
              "      <td>low</td>\n",
              "      <td>3</td>\n",
              "    </tr>\n",
              "    <tr>\n",
              "      <th>5</th>\n",
              "      <td>low</td>\n",
              "      <td>1</td>\n",
              "    </tr>\n",
              "    <tr>\n",
              "      <th>6</th>\n",
              "      <td>med</td>\n",
              "      <td>1</td>\n",
              "    </tr>\n",
              "    <tr>\n",
              "      <th>7</th>\n",
              "      <td>low</td>\n",
              "      <td>2</td>\n",
              "    </tr>\n",
              "    <tr>\n",
              "      <th>8</th>\n",
              "      <td>low</td>\n",
              "      <td>2</td>\n",
              "    </tr>\n",
              "    <tr>\n",
              "      <th>9</th>\n",
              "      <td>high</td>\n",
              "      <td>2</td>\n",
              "    </tr>\n",
              "  </tbody>\n",
              "</table>\n",
              "</div>"
            ],
            "text/plain": [
              "   col1  col2\n",
              "0  high     0\n",
              "1  high     1\n",
              "2   low     1\n",
              "3   med     2\n",
              "4   low     3\n",
              "5   low     1\n",
              "6   med     1\n",
              "7   low     2\n",
              "8   low     2\n",
              "9  high     2"
            ]
          },
          "metadata": {
            "tags": []
          },
          "execution_count": 59
        }
      ]
    },
    {
      "cell_type": "code",
      "metadata": {
        "id": "GQZBjAektbHR",
        "colab": {
          "base_uri": "https://localhost:8080/"
        },
        "outputId": "a442f84b-9e93-4931-d6d2-9e4436b71763"
      },
      "source": [
        "# Метод DataFrame.nunique() позволяет вывести \n",
        "#   количество уникальных значений в каждой колонке\n",
        "# Результат - Series с индексами - названиями колонок\n",
        "df.nunique()"
      ],
      "execution_count": null,
      "outputs": [
        {
          "output_type": "execute_result",
          "data": {
            "text/plain": [
              "col1    3\n",
              "col2    4\n",
              "dtype: int64"
            ]
          },
          "metadata": {
            "tags": []
          },
          "execution_count": 60
        }
      ]
    },
    {
      "cell_type": "code",
      "metadata": {
        "id": "w2Ffo-nHtvaq",
        "colab": {
          "base_uri": "https://localhost:8080/"
        },
        "outputId": "45a0d5d9-6457-462a-aae6-7a7d5df6a799"
      },
      "source": [
        "# Метод Series.value_counts() показывает уникальные значения в ряду\n",
        "#   и указывает их количество\n",
        "df['col1'].value_counts()"
      ],
      "execution_count": null,
      "outputs": [
        {
          "output_type": "execute_result",
          "data": {
            "text/plain": [
              "low     5\n",
              "high    3\n",
              "med     2\n",
              "Name: col1, dtype: int64"
            ]
          },
          "metadata": {
            "tags": []
          },
          "execution_count": 61
        }
      ]
    },
    {
      "cell_type": "code",
      "metadata": {
        "id": "5IQjN3OCt7Hs",
        "colab": {
          "base_uri": "https://localhost:8080/"
        },
        "outputId": "b1a6ea7c-610a-4a1f-d710-0db7ab7a90fb"
      },
      "source": [
        "# Результат - Series с индексами - уникальными значениями\n",
        "df['col2'].value_counts()"
      ],
      "execution_count": null,
      "outputs": [
        {
          "output_type": "execute_result",
          "data": {
            "text/plain": [
              "2    4\n",
              "1    4\n",
              "3    1\n",
              "0    1\n",
              "Name: col2, dtype: int64"
            ]
          },
          "metadata": {
            "tags": []
          },
          "execution_count": 62
        }
      ]
    },
    {
      "cell_type": "markdown",
      "metadata": {
        "id": "7u9_i7LXTuHm"
      },
      "source": [
        "## Фильтрация"
      ]
    },
    {
      "cell_type": "markdown",
      "metadata": {
        "id": "uosoHO-Sokh8"
      },
      "source": [
        "Метод `DataFrame.filter()` позволяет отфильтровать и выбрать только те колонки/записи, котрые соответсвуют условию, заданному в аргументах:"
      ]
    },
    {
      "cell_type": "code",
      "metadata": {
        "id": "rzgkdyi0opus",
        "colab": {
          "base_uri": "https://localhost:8080/",
          "height": 112
        },
        "outputId": "74bac877-ace0-46aa-c36d-4efc170eef66"
      },
      "source": [
        "df = pd.DataFrame(np.array(([1, 2, 3], [4, 5, 6])),\n",
        "                  index=['mouse', 'rabbit'],\n",
        "                  columns=['col_one', 'col_two', 'col_three'])\n",
        "df"
      ],
      "execution_count": null,
      "outputs": [
        {
          "output_type": "execute_result",
          "data": {
            "text/html": [
              "<div>\n",
              "<style scoped>\n",
              "    .dataframe tbody tr th:only-of-type {\n",
              "        vertical-align: middle;\n",
              "    }\n",
              "\n",
              "    .dataframe tbody tr th {\n",
              "        vertical-align: top;\n",
              "    }\n",
              "\n",
              "    .dataframe thead th {\n",
              "        text-align: right;\n",
              "    }\n",
              "</style>\n",
              "<table border=\"1\" class=\"dataframe\">\n",
              "  <thead>\n",
              "    <tr style=\"text-align: right;\">\n",
              "      <th></th>\n",
              "      <th>col_one</th>\n",
              "      <th>col_two</th>\n",
              "      <th>col_three</th>\n",
              "    </tr>\n",
              "  </thead>\n",
              "  <tbody>\n",
              "    <tr>\n",
              "      <th>mouse</th>\n",
              "      <td>1</td>\n",
              "      <td>2</td>\n",
              "      <td>3</td>\n",
              "    </tr>\n",
              "    <tr>\n",
              "      <th>rabbit</th>\n",
              "      <td>4</td>\n",
              "      <td>5</td>\n",
              "      <td>6</td>\n",
              "    </tr>\n",
              "  </tbody>\n",
              "</table>\n",
              "</div>"
            ],
            "text/plain": [
              "        col_one  col_two  col_three\n",
              "mouse         1        2          3\n",
              "rabbit        4        5          6"
            ]
          },
          "metadata": {
            "tags": []
          },
          "execution_count": 63
        }
      ]
    },
    {
      "cell_type": "code",
      "metadata": {
        "id": "vYYUgNBRottW",
        "colab": {
          "base_uri": "https://localhost:8080/",
          "height": 112
        },
        "outputId": "5653762f-e58f-4b3d-b71c-b99e3b6c6025"
      },
      "source": [
        "# Отфильтровать по именам колонок\n",
        "# Аналогично df[['col_one', 'col_three']]\n",
        "df.filter(items=['col_one', 'col_three'], axis='columns')"
      ],
      "execution_count": null,
      "outputs": [
        {
          "output_type": "execute_result",
          "data": {
            "text/html": [
              "<div>\n",
              "<style scoped>\n",
              "    .dataframe tbody tr th:only-of-type {\n",
              "        vertical-align: middle;\n",
              "    }\n",
              "\n",
              "    .dataframe tbody tr th {\n",
              "        vertical-align: top;\n",
              "    }\n",
              "\n",
              "    .dataframe thead th {\n",
              "        text-align: right;\n",
              "    }\n",
              "</style>\n",
              "<table border=\"1\" class=\"dataframe\">\n",
              "  <thead>\n",
              "    <tr style=\"text-align: right;\">\n",
              "      <th></th>\n",
              "      <th>col_one</th>\n",
              "      <th>col_three</th>\n",
              "    </tr>\n",
              "  </thead>\n",
              "  <tbody>\n",
              "    <tr>\n",
              "      <th>mouse</th>\n",
              "      <td>1</td>\n",
              "      <td>3</td>\n",
              "    </tr>\n",
              "    <tr>\n",
              "      <th>rabbit</th>\n",
              "      <td>4</td>\n",
              "      <td>6</td>\n",
              "    </tr>\n",
              "  </tbody>\n",
              "</table>\n",
              "</div>"
            ],
            "text/plain": [
              "        col_one  col_three\n",
              "mouse         1          3\n",
              "rabbit        4          6"
            ]
          },
          "metadata": {
            "tags": []
          },
          "execution_count": 64
        }
      ]
    },
    {
      "cell_type": "code",
      "metadata": {
        "id": "a6ofBx49pYSq",
        "colab": {
          "base_uri": "https://localhost:8080/",
          "height": 112
        },
        "outputId": "d247410b-c9f3-4f4d-df0e-3b28bd95fa10"
      },
      "source": [
        "# Отфильтровать по регулярному выражению\n",
        "# Оставить только те колонки, которые оканчиваются на букву \"o\"\n",
        "df.filter(regex='o$', axis='columns')"
      ],
      "execution_count": null,
      "outputs": [
        {
          "output_type": "execute_result",
          "data": {
            "text/html": [
              "<div>\n",
              "<style scoped>\n",
              "    .dataframe tbody tr th:only-of-type {\n",
              "        vertical-align: middle;\n",
              "    }\n",
              "\n",
              "    .dataframe tbody tr th {\n",
              "        vertical-align: top;\n",
              "    }\n",
              "\n",
              "    .dataframe thead th {\n",
              "        text-align: right;\n",
              "    }\n",
              "</style>\n",
              "<table border=\"1\" class=\"dataframe\">\n",
              "  <thead>\n",
              "    <tr style=\"text-align: right;\">\n",
              "      <th></th>\n",
              "      <th>col_two</th>\n",
              "    </tr>\n",
              "  </thead>\n",
              "  <tbody>\n",
              "    <tr>\n",
              "      <th>mouse</th>\n",
              "      <td>2</td>\n",
              "    </tr>\n",
              "    <tr>\n",
              "      <th>rabbit</th>\n",
              "      <td>5</td>\n",
              "    </tr>\n",
              "  </tbody>\n",
              "</table>\n",
              "</div>"
            ],
            "text/plain": [
              "        col_two\n",
              "mouse         2\n",
              "rabbit        5"
            ]
          },
          "metadata": {
            "tags": []
          },
          "execution_count": 65
        }
      ]
    },
    {
      "cell_type": "markdown",
      "metadata": {
        "id": "YqiHEBFbptwT"
      },
      "source": [
        "### Задание\n",
        "\n",
        "Отфильруйте записи по строке, содержащейся в имени индекса (аргумент `like`):"
      ]
    },
    {
      "cell_type": "code",
      "metadata": {
        "id": "bpguGOH1p6Ju",
        "colab": {
          "base_uri": "https://localhost:8080/",
          "height": 143
        },
        "outputId": "14e95ae5-8d72-4604-a652-b7dcca2c002d"
      },
      "source": [
        "df = pd.DataFrame(np.array(([1, 2, 3], [4, 5, 6], [7, 8, 9])),\n",
        "                  index=['dog in house', 'cat in house', 'pig in farm'],\n",
        "                  columns=['x1', 'x2', 'x3'])\n",
        "df"
      ],
      "execution_count": null,
      "outputs": [
        {
          "output_type": "execute_result",
          "data": {
            "text/html": [
              "<div>\n",
              "<style scoped>\n",
              "    .dataframe tbody tr th:only-of-type {\n",
              "        vertical-align: middle;\n",
              "    }\n",
              "\n",
              "    .dataframe tbody tr th {\n",
              "        vertical-align: top;\n",
              "    }\n",
              "\n",
              "    .dataframe thead th {\n",
              "        text-align: right;\n",
              "    }\n",
              "</style>\n",
              "<table border=\"1\" class=\"dataframe\">\n",
              "  <thead>\n",
              "    <tr style=\"text-align: right;\">\n",
              "      <th></th>\n",
              "      <th>x1</th>\n",
              "      <th>x2</th>\n",
              "      <th>x3</th>\n",
              "    </tr>\n",
              "  </thead>\n",
              "  <tbody>\n",
              "    <tr>\n",
              "      <th>dog in house</th>\n",
              "      <td>1</td>\n",
              "      <td>2</td>\n",
              "      <td>3</td>\n",
              "    </tr>\n",
              "    <tr>\n",
              "      <th>cat in house</th>\n",
              "      <td>4</td>\n",
              "      <td>5</td>\n",
              "      <td>6</td>\n",
              "    </tr>\n",
              "    <tr>\n",
              "      <th>pig in farm</th>\n",
              "      <td>7</td>\n",
              "      <td>8</td>\n",
              "      <td>9</td>\n",
              "    </tr>\n",
              "  </tbody>\n",
              "</table>\n",
              "</div>"
            ],
            "text/plain": [
              "              x1  x2  x3\n",
              "dog in house   1   2   3\n",
              "cat in house   4   5   6\n",
              "pig in farm    7   8   9"
            ]
          },
          "metadata": {
            "tags": []
          },
          "execution_count": 66
        }
      ]
    },
    {
      "cell_type": "code",
      "metadata": {
        "id": "-yGYrEPCqJMl",
        "colab": {
          "base_uri": "https://localhost:8080/",
          "height": 112
        },
        "outputId": "cca43090-11eb-41ae-ee22-d63f4b95dc99"
      },
      "source": [
        "# TODO - отфильтруйте по записям, должны остаться записи, \n",
        "#           индекс которых содержит слово \"house\"\n",
        "df.filter(like='house',axis=0)"
      ],
      "execution_count": null,
      "outputs": [
        {
          "output_type": "execute_result",
          "data": {
            "text/html": [
              "<div>\n",
              "<style scoped>\n",
              "    .dataframe tbody tr th:only-of-type {\n",
              "        vertical-align: middle;\n",
              "    }\n",
              "\n",
              "    .dataframe tbody tr th {\n",
              "        vertical-align: top;\n",
              "    }\n",
              "\n",
              "    .dataframe thead th {\n",
              "        text-align: right;\n",
              "    }\n",
              "</style>\n",
              "<table border=\"1\" class=\"dataframe\">\n",
              "  <thead>\n",
              "    <tr style=\"text-align: right;\">\n",
              "      <th></th>\n",
              "      <th>x1</th>\n",
              "      <th>x2</th>\n",
              "      <th>x3</th>\n",
              "    </tr>\n",
              "  </thead>\n",
              "  <tbody>\n",
              "    <tr>\n",
              "      <th>dog in house</th>\n",
              "      <td>1</td>\n",
              "      <td>2</td>\n",
              "      <td>3</td>\n",
              "    </tr>\n",
              "    <tr>\n",
              "      <th>cat in house</th>\n",
              "      <td>4</td>\n",
              "      <td>5</td>\n",
              "      <td>6</td>\n",
              "    </tr>\n",
              "  </tbody>\n",
              "</table>\n",
              "</div>"
            ],
            "text/plain": [
              "              x1  x2  x3\n",
              "dog in house   1   2   3\n",
              "cat in house   4   5   6"
            ]
          },
          "metadata": {
            "tags": []
          },
          "execution_count": 70
        }
      ]
    },
    {
      "cell_type": "markdown",
      "metadata": {
        "id": "b-YLfI7_T--K"
      },
      "source": [
        "## Сортировка"
      ]
    },
    {
      "cell_type": "markdown",
      "metadata": {
        "id": "cRGU2oQcqiAD"
      },
      "source": [
        "Всегда полезно знать, как отсортировать данные, для этого мы воспользуемся методом `DataFrame.sort_values()`:"
      ]
    },
    {
      "cell_type": "code",
      "metadata": {
        "id": "-7UkJ8_nq6vQ",
        "colab": {
          "base_uri": "https://localhost:8080/",
          "height": 238
        },
        "outputId": "48f1781b-f59b-4cbf-d400-697053d2f5ba"
      },
      "source": [
        "df = pd.DataFrame({\n",
        "    'col1': ['A', 'A', 'B', np.nan, 'D', 'C'],\n",
        "    'col2': [2, 1, 9, 8, 7, 4],\n",
        "    'col3': [0, 1, 9, 4, 2, 3],\n",
        "    'col4': ['a', 'B', 'c', 'D', 'e', 'F']\n",
        "}, index=['A', 'B', 'C', 'D', 'E', 'F'])\n",
        "df"
      ],
      "execution_count": null,
      "outputs": [
        {
          "output_type": "execute_result",
          "data": {
            "text/html": [
              "<div>\n",
              "<style scoped>\n",
              "    .dataframe tbody tr th:only-of-type {\n",
              "        vertical-align: middle;\n",
              "    }\n",
              "\n",
              "    .dataframe tbody tr th {\n",
              "        vertical-align: top;\n",
              "    }\n",
              "\n",
              "    .dataframe thead th {\n",
              "        text-align: right;\n",
              "    }\n",
              "</style>\n",
              "<table border=\"1\" class=\"dataframe\">\n",
              "  <thead>\n",
              "    <tr style=\"text-align: right;\">\n",
              "      <th></th>\n",
              "      <th>col1</th>\n",
              "      <th>col2</th>\n",
              "      <th>col3</th>\n",
              "      <th>col4</th>\n",
              "    </tr>\n",
              "  </thead>\n",
              "  <tbody>\n",
              "    <tr>\n",
              "      <th>A</th>\n",
              "      <td>A</td>\n",
              "      <td>2</td>\n",
              "      <td>0</td>\n",
              "      <td>a</td>\n",
              "    </tr>\n",
              "    <tr>\n",
              "      <th>B</th>\n",
              "      <td>A</td>\n",
              "      <td>1</td>\n",
              "      <td>1</td>\n",
              "      <td>B</td>\n",
              "    </tr>\n",
              "    <tr>\n",
              "      <th>C</th>\n",
              "      <td>B</td>\n",
              "      <td>9</td>\n",
              "      <td>9</td>\n",
              "      <td>c</td>\n",
              "    </tr>\n",
              "    <tr>\n",
              "      <th>D</th>\n",
              "      <td>NaN</td>\n",
              "      <td>8</td>\n",
              "      <td>4</td>\n",
              "      <td>D</td>\n",
              "    </tr>\n",
              "    <tr>\n",
              "      <th>E</th>\n",
              "      <td>D</td>\n",
              "      <td>7</td>\n",
              "      <td>2</td>\n",
              "      <td>e</td>\n",
              "    </tr>\n",
              "    <tr>\n",
              "      <th>F</th>\n",
              "      <td>C</td>\n",
              "      <td>4</td>\n",
              "      <td>3</td>\n",
              "      <td>F</td>\n",
              "    </tr>\n",
              "  </tbody>\n",
              "</table>\n",
              "</div>"
            ],
            "text/plain": [
              "  col1  col2  col3 col4\n",
              "A    A     2     0    a\n",
              "B    A     1     1    B\n",
              "C    B     9     9    c\n",
              "D  NaN     8     4    D\n",
              "E    D     7     2    e\n",
              "F    C     4     3    F"
            ]
          },
          "metadata": {
            "tags": []
          },
          "execution_count": 71
        }
      ]
    },
    {
      "cell_type": "code",
      "metadata": {
        "id": "RDgqmbx0rEUl",
        "colab": {
          "base_uri": "https://localhost:8080/",
          "height": 238
        },
        "outputId": "ff1932f0-dddb-40e2-db55-2f655af5a4bb"
      },
      "source": [
        "# Отсортируем записи колонки col2\n",
        "# Именно поэтому в axis ставится rows, так как\n",
        "#   операция производится в колонке по каждому ряду\n",
        "df.sort_values(by='col2', axis='rows')"
      ],
      "execution_count": null,
      "outputs": [
        {
          "output_type": "execute_result",
          "data": {
            "text/html": [
              "<div>\n",
              "<style scoped>\n",
              "    .dataframe tbody tr th:only-of-type {\n",
              "        vertical-align: middle;\n",
              "    }\n",
              "\n",
              "    .dataframe tbody tr th {\n",
              "        vertical-align: top;\n",
              "    }\n",
              "\n",
              "    .dataframe thead th {\n",
              "        text-align: right;\n",
              "    }\n",
              "</style>\n",
              "<table border=\"1\" class=\"dataframe\">\n",
              "  <thead>\n",
              "    <tr style=\"text-align: right;\">\n",
              "      <th></th>\n",
              "      <th>col1</th>\n",
              "      <th>col2</th>\n",
              "      <th>col3</th>\n",
              "      <th>col4</th>\n",
              "    </tr>\n",
              "  </thead>\n",
              "  <tbody>\n",
              "    <tr>\n",
              "      <th>B</th>\n",
              "      <td>A</td>\n",
              "      <td>1</td>\n",
              "      <td>1</td>\n",
              "      <td>B</td>\n",
              "    </tr>\n",
              "    <tr>\n",
              "      <th>A</th>\n",
              "      <td>A</td>\n",
              "      <td>2</td>\n",
              "      <td>0</td>\n",
              "      <td>a</td>\n",
              "    </tr>\n",
              "    <tr>\n",
              "      <th>F</th>\n",
              "      <td>C</td>\n",
              "      <td>4</td>\n",
              "      <td>3</td>\n",
              "      <td>F</td>\n",
              "    </tr>\n",
              "    <tr>\n",
              "      <th>E</th>\n",
              "      <td>D</td>\n",
              "      <td>7</td>\n",
              "      <td>2</td>\n",
              "      <td>e</td>\n",
              "    </tr>\n",
              "    <tr>\n",
              "      <th>D</th>\n",
              "      <td>NaN</td>\n",
              "      <td>8</td>\n",
              "      <td>4</td>\n",
              "      <td>D</td>\n",
              "    </tr>\n",
              "    <tr>\n",
              "      <th>C</th>\n",
              "      <td>B</td>\n",
              "      <td>9</td>\n",
              "      <td>9</td>\n",
              "      <td>c</td>\n",
              "    </tr>\n",
              "  </tbody>\n",
              "</table>\n",
              "</div>"
            ],
            "text/plain": [
              "  col1  col2  col3 col4\n",
              "B    A     1     1    B\n",
              "A    A     2     0    a\n",
              "F    C     4     3    F\n",
              "E    D     7     2    e\n",
              "D  NaN     8     4    D\n",
              "C    B     9     9    c"
            ]
          },
          "metadata": {
            "tags": []
          },
          "execution_count": 72
        }
      ]
    },
    {
      "cell_type": "markdown",
      "metadata": {
        "id": "yLlPKSRArVGN"
      },
      "source": [
        "### Задание\n",
        "\n",
        "Отсортируйте данные:"
      ]
    },
    {
      "cell_type": "code",
      "metadata": {
        "id": "5t5K1QlBr00d",
        "colab": {
          "base_uri": "https://localhost:8080/",
          "height": 206
        },
        "outputId": "2073240e-f8e3-426e-eddd-f6e0682970f0"
      },
      "source": [
        "df = pd.DataFrame(\n",
        "    np.random.randint(0, 20, size=(5, 5)), \n",
        "    columns=['col1', 'col2', 'col3', 'col4', 'col5']\n",
        ")\n",
        "df"
      ],
      "execution_count": null,
      "outputs": [
        {
          "output_type": "execute_result",
          "data": {
            "text/html": [
              "<div>\n",
              "<style scoped>\n",
              "    .dataframe tbody tr th:only-of-type {\n",
              "        vertical-align: middle;\n",
              "    }\n",
              "\n",
              "    .dataframe tbody tr th {\n",
              "        vertical-align: top;\n",
              "    }\n",
              "\n",
              "    .dataframe thead th {\n",
              "        text-align: right;\n",
              "    }\n",
              "</style>\n",
              "<table border=\"1\" class=\"dataframe\">\n",
              "  <thead>\n",
              "    <tr style=\"text-align: right;\">\n",
              "      <th></th>\n",
              "      <th>col1</th>\n",
              "      <th>col2</th>\n",
              "      <th>col3</th>\n",
              "      <th>col4</th>\n",
              "      <th>col5</th>\n",
              "    </tr>\n",
              "  </thead>\n",
              "  <tbody>\n",
              "    <tr>\n",
              "      <th>0</th>\n",
              "      <td>13</td>\n",
              "      <td>3</td>\n",
              "      <td>16</td>\n",
              "      <td>0</td>\n",
              "      <td>5</td>\n",
              "    </tr>\n",
              "    <tr>\n",
              "      <th>1</th>\n",
              "      <td>16</td>\n",
              "      <td>5</td>\n",
              "      <td>4</td>\n",
              "      <td>12</td>\n",
              "      <td>16</td>\n",
              "    </tr>\n",
              "    <tr>\n",
              "      <th>2</th>\n",
              "      <td>12</td>\n",
              "      <td>9</td>\n",
              "      <td>14</td>\n",
              "      <td>17</td>\n",
              "      <td>5</td>\n",
              "    </tr>\n",
              "    <tr>\n",
              "      <th>3</th>\n",
              "      <td>9</td>\n",
              "      <td>18</td>\n",
              "      <td>10</td>\n",
              "      <td>8</td>\n",
              "      <td>5</td>\n",
              "    </tr>\n",
              "    <tr>\n",
              "      <th>4</th>\n",
              "      <td>7</td>\n",
              "      <td>12</td>\n",
              "      <td>16</td>\n",
              "      <td>15</td>\n",
              "      <td>9</td>\n",
              "    </tr>\n",
              "  </tbody>\n",
              "</table>\n",
              "</div>"
            ],
            "text/plain": [
              "   col1  col2  col3  col4  col5\n",
              "0    13     3    16     0     5\n",
              "1    16     5     4    12    16\n",
              "2    12     9    14    17     5\n",
              "3     9    18    10     8     5\n",
              "4     7    12    16    15     9"
            ]
          },
          "metadata": {
            "tags": []
          },
          "execution_count": 92
        }
      ]
    },
    {
      "cell_type": "code",
      "metadata": {
        "id": "SEHuw4hJsoUP",
        "colab": {
          "base_uri": "https://localhost:8080/",
          "height": 206
        },
        "outputId": "30e48803-ea2b-405b-a593-b3836cad1f4a"
      },
      "source": [
        "# TODO - отсортируйте данные индекса 3 по убыванию\n",
        "a1=df.T\n",
        "a2=a1.sort_values(by=[3], ascending=0)\n",
        "a2.T"
      ],
      "execution_count": null,
      "outputs": [
        {
          "output_type": "execute_result",
          "data": {
            "text/html": [
              "<div>\n",
              "<style scoped>\n",
              "    .dataframe tbody tr th:only-of-type {\n",
              "        vertical-align: middle;\n",
              "    }\n",
              "\n",
              "    .dataframe tbody tr th {\n",
              "        vertical-align: top;\n",
              "    }\n",
              "\n",
              "    .dataframe thead th {\n",
              "        text-align: right;\n",
              "    }\n",
              "</style>\n",
              "<table border=\"1\" class=\"dataframe\">\n",
              "  <thead>\n",
              "    <tr style=\"text-align: right;\">\n",
              "      <th></th>\n",
              "      <th>col2</th>\n",
              "      <th>col3</th>\n",
              "      <th>col1</th>\n",
              "      <th>col4</th>\n",
              "      <th>col5</th>\n",
              "    </tr>\n",
              "  </thead>\n",
              "  <tbody>\n",
              "    <tr>\n",
              "      <th>0</th>\n",
              "      <td>3</td>\n",
              "      <td>16</td>\n",
              "      <td>13</td>\n",
              "      <td>0</td>\n",
              "      <td>5</td>\n",
              "    </tr>\n",
              "    <tr>\n",
              "      <th>1</th>\n",
              "      <td>5</td>\n",
              "      <td>4</td>\n",
              "      <td>16</td>\n",
              "      <td>12</td>\n",
              "      <td>16</td>\n",
              "    </tr>\n",
              "    <tr>\n",
              "      <th>2</th>\n",
              "      <td>9</td>\n",
              "      <td>14</td>\n",
              "      <td>12</td>\n",
              "      <td>17</td>\n",
              "      <td>5</td>\n",
              "    </tr>\n",
              "    <tr>\n",
              "      <th>3</th>\n",
              "      <td>18</td>\n",
              "      <td>10</td>\n",
              "      <td>9</td>\n",
              "      <td>8</td>\n",
              "      <td>5</td>\n",
              "    </tr>\n",
              "    <tr>\n",
              "      <th>4</th>\n",
              "      <td>12</td>\n",
              "      <td>16</td>\n",
              "      <td>7</td>\n",
              "      <td>15</td>\n",
              "      <td>9</td>\n",
              "    </tr>\n",
              "  </tbody>\n",
              "</table>\n",
              "</div>"
            ],
            "text/plain": [
              "   col2  col3  col1  col4  col5\n",
              "0     3    16    13     0     5\n",
              "1     5     4    16    12    16\n",
              "2     9    14    12    17     5\n",
              "3    18    10     9     8     5\n",
              "4    12    16     7    15     9"
            ]
          },
          "metadata": {
            "tags": []
          },
          "execution_count": 112
        }
      ]
    },
    {
      "cell_type": "markdown",
      "metadata": {
        "id": "1NiNk_Z4swrf"
      },
      "source": [
        "## Разделение данных на категории"
      ]
    },
    {
      "cell_type": "markdown",
      "metadata": {
        "id": "GqVFtAOws2vY"
      },
      "source": [
        "В ходе работы с данными часто бывает необходимо диапазон числовой переменной разбить на несколько групп (категорий). Например, заменить числовой диапазон температур воды $[-10; 60]$ на три категории $[низкая, средняя, высокая]$. Для таких целей используется функция `pd.cut()`:"
      ]
    },
    {
      "cell_type": "code",
      "metadata": {
        "id": "RMGX8awRtsQb"
      },
      "source": [
        "df = pd.DataFrame({\n",
        "    'temp': [59, 22, -10, 38, 20, 40, 38, 47, 20, 15, 13, 44, 57, 32, 38]\n",
        "})\n",
        "df.head()"
      ],
      "execution_count": null,
      "outputs": []
    },
    {
      "cell_type": "code",
      "metadata": {
        "id": "8s2DpnH8uPPI"
      },
      "source": [
        "# Можно задать свои границы диапазона и названия категорий\n",
        "# Если планируется три категории, то границ должно быть на одну больше - \n",
        "#   так задаются диапазоны для категорий\n",
        "df['temp_cat'] = pd.cut(\n",
        "    x=df['temp'],\n",
        "    bins=[-10, 10, 25, 60],\n",
        "    labels=['low', 'medium', 'high'],\n",
        "    # Флаг, чтобы самое левое значение границы входило в первый диапазон\n",
        "    include_lowest=True\n",
        ")\n",
        "df.head()"
      ],
      "execution_count": null,
      "outputs": []
    },
    {
      "cell_type": "code",
      "metadata": {
        "id": "xq8zAyhSvIh-"
      },
      "source": [
        "# Результат разделения имеет категориальный тип\n",
        "df['temp_cat'].dtype"
      ],
      "execution_count": null,
      "outputs": []
    },
    {
      "cell_type": "code",
      "metadata": {
        "id": "er1CIaTvvTAY"
      },
      "source": [
        "# Можно не задавать имена категориям, тогда он сам их назовет\n",
        "result_after_cut = pd.cut(\n",
        "    x=df['temp'],\n",
        "    bins=[-10, 10, 25, 60],\n",
        "    include_lowest=True\n",
        ")\n",
        "# Взглянем на имена\n",
        "result_after_cut.unique()"
      ],
      "execution_count": null,
      "outputs": []
    },
    {
      "cell_type": "code",
      "metadata": {
        "id": "t_3YYiaWwKZB",
        "colab": {
          "base_uri": "https://localhost:8080/"
        },
        "outputId": "1a222a12-158b-4a29-ff9a-6d4f60fd95ca"
      },
      "source": [
        "# Можно не задавать границы, лишь количество категорий - \n",
        "#   разделение будет на категории с одинаковой шириной диапазонов\n",
        "result_after_cut = pd.cut(\n",
        "    x=df['temp'],\n",
        "    bins=3\n",
        ")\n",
        "result_after_cut.unique()"
      ],
      "execution_count": null,
      "outputs": [
        {
          "output_type": "execute_result",
          "data": {
            "text/plain": [
              "[(36.0, 59.0], (13.0, 36.0], (-10.069, 13.0]]\n",
              "Categories (3, interval[float64]): [(-10.069, 13.0] < (13.0, 36.0] < (36.0, 59.0]]"
            ]
          },
          "metadata": {
            "tags": []
          },
          "execution_count": 117
        }
      ]
    },
    {
      "cell_type": "markdown",
      "metadata": {
        "id": "iXKi1PEJxin2"
      },
      "source": [
        "### Задание\n",
        "\n",
        "Разделите показатель качества в диапазоне $[0, 100]$ на три группы: плохое $[0-20]$, среднее $(20-45]$, хорошее $(45-85]$, отличное $(85-100]$. Выясните, что происходит со значениями, которые не попадают в диапазоны категорий:"
      ]
    },
    {
      "cell_type": "code",
      "metadata": {
        "id": "Z1zFynfFyiZk",
        "colab": {
          "base_uri": "https://localhost:8080/",
          "height": 206
        },
        "outputId": "cf468c14-4f88-446d-fa55-aade9d213920"
      },
      "source": [
        "df = pd.DataFrame({\n",
        "    'quality': [ 7, 67, 21, 38,  2, -2, 79, 22,  5, 31, 77, 72, 23, 64, 99]\n",
        "})\n",
        "df.head()"
      ],
      "execution_count": null,
      "outputs": [
        {
          "output_type": "execute_result",
          "data": {
            "text/html": [
              "<div>\n",
              "<style scoped>\n",
              "    .dataframe tbody tr th:only-of-type {\n",
              "        vertical-align: middle;\n",
              "    }\n",
              "\n",
              "    .dataframe tbody tr th {\n",
              "        vertical-align: top;\n",
              "    }\n",
              "\n",
              "    .dataframe thead th {\n",
              "        text-align: right;\n",
              "    }\n",
              "</style>\n",
              "<table border=\"1\" class=\"dataframe\">\n",
              "  <thead>\n",
              "    <tr style=\"text-align: right;\">\n",
              "      <th></th>\n",
              "      <th>quality</th>\n",
              "    </tr>\n",
              "  </thead>\n",
              "  <tbody>\n",
              "    <tr>\n",
              "      <th>0</th>\n",
              "      <td>7</td>\n",
              "    </tr>\n",
              "    <tr>\n",
              "      <th>1</th>\n",
              "      <td>67</td>\n",
              "    </tr>\n",
              "    <tr>\n",
              "      <th>2</th>\n",
              "      <td>21</td>\n",
              "    </tr>\n",
              "    <tr>\n",
              "      <th>3</th>\n",
              "      <td>38</td>\n",
              "    </tr>\n",
              "    <tr>\n",
              "      <th>4</th>\n",
              "      <td>2</td>\n",
              "    </tr>\n",
              "  </tbody>\n",
              "</table>\n",
              "</div>"
            ],
            "text/plain": [
              "   quality\n",
              "0        7\n",
              "1       67\n",
              "2       21\n",
              "3       38\n",
              "4        2"
            ]
          },
          "metadata": {
            "tags": []
          },
          "execution_count": 128
        }
      ]
    },
    {
      "cell_type": "code",
      "metadata": {
        "id": "AYlnGVTGyxWh",
        "colab": {
          "base_uri": "https://localhost:8080/"
        },
        "outputId": "db870a43-e363-4c21-d1ed-cc1b84e2acd8"
      },
      "source": [
        "# TODO - разделите данные на категории\n",
        "df['Q'] = pd.cut(\n",
        "    x=df['quality'],\n",
        "    bins=[0,20,45,85,100],\n",
        "    labels=['плохое', 'среднее', ' хорошее','отличное'],\n",
        "    include_lowest=True\n",
        ")\n",
        "df\n",
        "# TODO - определите, какие записи не имеют категорий и почему\n",
        "df['Q'].unique()"
      ],
      "execution_count": null,
      "outputs": [
        {
          "output_type": "execute_result",
          "data": {
            "text/plain": [
              "['плохое', ' хорошее', 'среднее', NaN, 'отличное']\n",
              "Categories (4, object): ['плохое' < 'среднее' < ' хорошее' < 'отличное']"
            ]
          },
          "metadata": {
            "tags": []
          },
          "execution_count": 133
        }
      ]
    },
    {
      "cell_type": "markdown",
      "metadata": {
        "id": "Bmguv4P80S4s"
      },
      "source": [
        "## Агрегация данных"
      ]
    },
    {
      "cell_type": "markdown",
      "metadata": {
        "id": "pGSptZbq0Vn7"
      },
      "source": [
        "Агрегация данных - объединение группы данных для получения информации. Примерами операций аргегации являются: сумма, среднее, максимум, минимум.\n",
        "\n",
        "В pandas агрегация может быть выполнена путем метода `DataFrame.aggregate()`:"
      ]
    },
    {
      "cell_type": "code",
      "metadata": {
        "id": "Op1RTE8P1UCT",
        "colab": {
          "base_uri": "https://localhost:8080/",
          "height": 175
        },
        "outputId": "3bd8c8a9-37c8-4f21-caba-41a111d41d88"
      },
      "source": [
        "df = pd.DataFrame([[1, 2, 3],\n",
        "                   [4, 5, 6],\n",
        "                   [7, 8, 9],\n",
        "                   [np.nan, np.nan, np.nan]],\n",
        "                  columns=['A', 'B', 'C'])\n",
        "df"
      ],
      "execution_count": null,
      "outputs": [
        {
          "output_type": "execute_result",
          "data": {
            "text/html": [
              "<div>\n",
              "<style scoped>\n",
              "    .dataframe tbody tr th:only-of-type {\n",
              "        vertical-align: middle;\n",
              "    }\n",
              "\n",
              "    .dataframe tbody tr th {\n",
              "        vertical-align: top;\n",
              "    }\n",
              "\n",
              "    .dataframe thead th {\n",
              "        text-align: right;\n",
              "    }\n",
              "</style>\n",
              "<table border=\"1\" class=\"dataframe\">\n",
              "  <thead>\n",
              "    <tr style=\"text-align: right;\">\n",
              "      <th></th>\n",
              "      <th>A</th>\n",
              "      <th>B</th>\n",
              "      <th>C</th>\n",
              "    </tr>\n",
              "  </thead>\n",
              "  <tbody>\n",
              "    <tr>\n",
              "      <th>0</th>\n",
              "      <td>1.0</td>\n",
              "      <td>2.0</td>\n",
              "      <td>3.0</td>\n",
              "    </tr>\n",
              "    <tr>\n",
              "      <th>1</th>\n",
              "      <td>4.0</td>\n",
              "      <td>5.0</td>\n",
              "      <td>6.0</td>\n",
              "    </tr>\n",
              "    <tr>\n",
              "      <th>2</th>\n",
              "      <td>7.0</td>\n",
              "      <td>8.0</td>\n",
              "      <td>9.0</td>\n",
              "    </tr>\n",
              "    <tr>\n",
              "      <th>3</th>\n",
              "      <td>NaN</td>\n",
              "      <td>NaN</td>\n",
              "      <td>NaN</td>\n",
              "    </tr>\n",
              "  </tbody>\n",
              "</table>\n",
              "</div>"
            ],
            "text/plain": [
              "     A    B    C\n",
              "0  1.0  2.0  3.0\n",
              "1  4.0  5.0  6.0\n",
              "2  7.0  8.0  9.0\n",
              "3  NaN  NaN  NaN"
            ]
          },
          "metadata": {
            "tags": []
          },
          "execution_count": 134
        }
      ]
    },
    {
      "cell_type": "code",
      "metadata": {
        "id": "7WW-Y5fG1ozf",
        "colab": {
          "base_uri": "https://localhost:8080/",
          "height": 112
        },
        "outputId": "cad402de-74ea-41e8-83a7-1658a173dbf0"
      },
      "source": [
        "# Получим значения минимумов и средних по всем колонкам\n",
        "# Принцип аналогичен операциям в numpy - \n",
        "#   для агрегации по колонка операция должна пройти по рядам,\n",
        "#   соответсвенно, axis='rows'\n",
        "df.aggregate(['min', 'mean'], axis='rows')"
      ],
      "execution_count": null,
      "outputs": [
        {
          "output_type": "execute_result",
          "data": {
            "text/html": [
              "<div>\n",
              "<style scoped>\n",
              "    .dataframe tbody tr th:only-of-type {\n",
              "        vertical-align: middle;\n",
              "    }\n",
              "\n",
              "    .dataframe tbody tr th {\n",
              "        vertical-align: top;\n",
              "    }\n",
              "\n",
              "    .dataframe thead th {\n",
              "        text-align: right;\n",
              "    }\n",
              "</style>\n",
              "<table border=\"1\" class=\"dataframe\">\n",
              "  <thead>\n",
              "    <tr style=\"text-align: right;\">\n",
              "      <th></th>\n",
              "      <th>A</th>\n",
              "      <th>B</th>\n",
              "      <th>C</th>\n",
              "    </tr>\n",
              "  </thead>\n",
              "  <tbody>\n",
              "    <tr>\n",
              "      <th>min</th>\n",
              "      <td>1.0</td>\n",
              "      <td>2.0</td>\n",
              "      <td>3.0</td>\n",
              "    </tr>\n",
              "    <tr>\n",
              "      <th>mean</th>\n",
              "      <td>4.0</td>\n",
              "      <td>5.0</td>\n",
              "      <td>6.0</td>\n",
              "    </tr>\n",
              "  </tbody>\n",
              "</table>\n",
              "</div>"
            ],
            "text/plain": [
              "        A    B    C\n",
              "min   1.0  2.0  3.0\n",
              "mean  4.0  5.0  6.0"
            ]
          },
          "metadata": {
            "tags": []
          },
          "execution_count": 135
        }
      ]
    },
    {
      "cell_type": "code",
      "metadata": {
        "id": "4xER9_e_2BdW",
        "colab": {
          "base_uri": "https://localhost:8080/",
          "height": 175
        },
        "outputId": "4495c6c1-a654-4653-9cb7-1fb194c9d7c4"
      },
      "source": [
        "# Зададим правила агрегации для каждой колонки\n",
        "# Операции можно задавать строками или функциями numpy\n",
        "df.aggregate({\n",
        "    'A': ['sum', 'min'],\n",
        "    'B': ['max', 'min'],\n",
        "    'C': [np.sum, np.mean],\n",
        "})"
      ],
      "execution_count": null,
      "outputs": [
        {
          "output_type": "execute_result",
          "data": {
            "text/html": [
              "<div>\n",
              "<style scoped>\n",
              "    .dataframe tbody tr th:only-of-type {\n",
              "        vertical-align: middle;\n",
              "    }\n",
              "\n",
              "    .dataframe tbody tr th {\n",
              "        vertical-align: top;\n",
              "    }\n",
              "\n",
              "    .dataframe thead th {\n",
              "        text-align: right;\n",
              "    }\n",
              "</style>\n",
              "<table border=\"1\" class=\"dataframe\">\n",
              "  <thead>\n",
              "    <tr style=\"text-align: right;\">\n",
              "      <th></th>\n",
              "      <th>A</th>\n",
              "      <th>B</th>\n",
              "      <th>C</th>\n",
              "    </tr>\n",
              "  </thead>\n",
              "  <tbody>\n",
              "    <tr>\n",
              "      <th>max</th>\n",
              "      <td>NaN</td>\n",
              "      <td>8.0</td>\n",
              "      <td>NaN</td>\n",
              "    </tr>\n",
              "    <tr>\n",
              "      <th>mean</th>\n",
              "      <td>NaN</td>\n",
              "      <td>NaN</td>\n",
              "      <td>6.0</td>\n",
              "    </tr>\n",
              "    <tr>\n",
              "      <th>min</th>\n",
              "      <td>1.0</td>\n",
              "      <td>2.0</td>\n",
              "      <td>NaN</td>\n",
              "    </tr>\n",
              "    <tr>\n",
              "      <th>sum</th>\n",
              "      <td>12.0</td>\n",
              "      <td>NaN</td>\n",
              "      <td>18.0</td>\n",
              "    </tr>\n",
              "  </tbody>\n",
              "</table>\n",
              "</div>"
            ],
            "text/plain": [
              "         A    B     C\n",
              "max    NaN  8.0   NaN\n",
              "mean   NaN  NaN   6.0\n",
              "min    1.0  2.0   NaN\n",
              "sum   12.0  NaN  18.0"
            ]
          },
          "metadata": {
            "tags": []
          },
          "execution_count": 136
        }
      ]
    },
    {
      "cell_type": "markdown",
      "metadata": {
        "id": "yGZz-fgz2iR0"
      },
      "source": [
        "### Задание\n",
        "\n",
        "Произведите агрегацию средним по рядам"
      ]
    },
    {
      "cell_type": "code",
      "metadata": {
        "id": "19vF30JF2pu_",
        "colab": {
          "base_uri": "https://localhost:8080/",
          "height": 143
        },
        "outputId": "1ecd471b-a6ba-4c61-b362-cbee5b4da03d"
      },
      "source": [
        "df = pd.DataFrame(\n",
        "    ([1, 2, 3], [4, 5, 6], [7, 8, 9]), \n",
        "    columns=['x1', 'x2', 'x3'])\n",
        "df"
      ],
      "execution_count": null,
      "outputs": [
        {
          "output_type": "execute_result",
          "data": {
            "text/html": [
              "<div>\n",
              "<style scoped>\n",
              "    .dataframe tbody tr th:only-of-type {\n",
              "        vertical-align: middle;\n",
              "    }\n",
              "\n",
              "    .dataframe tbody tr th {\n",
              "        vertical-align: top;\n",
              "    }\n",
              "\n",
              "    .dataframe thead th {\n",
              "        text-align: right;\n",
              "    }\n",
              "</style>\n",
              "<table border=\"1\" class=\"dataframe\">\n",
              "  <thead>\n",
              "    <tr style=\"text-align: right;\">\n",
              "      <th></th>\n",
              "      <th>x1</th>\n",
              "      <th>x2</th>\n",
              "      <th>x3</th>\n",
              "    </tr>\n",
              "  </thead>\n",
              "  <tbody>\n",
              "    <tr>\n",
              "      <th>0</th>\n",
              "      <td>1</td>\n",
              "      <td>2</td>\n",
              "      <td>3</td>\n",
              "    </tr>\n",
              "    <tr>\n",
              "      <th>1</th>\n",
              "      <td>4</td>\n",
              "      <td>5</td>\n",
              "      <td>6</td>\n",
              "    </tr>\n",
              "    <tr>\n",
              "      <th>2</th>\n",
              "      <td>7</td>\n",
              "      <td>8</td>\n",
              "      <td>9</td>\n",
              "    </tr>\n",
              "  </tbody>\n",
              "</table>\n",
              "</div>"
            ],
            "text/plain": [
              "   x1  x2  x3\n",
              "0   1   2   3\n",
              "1   4   5   6\n",
              "2   7   8   9"
            ]
          },
          "metadata": {
            "tags": []
          },
          "execution_count": 137
        }
      ]
    },
    {
      "cell_type": "code",
      "metadata": {
        "id": "NCi-jyrA20b5",
        "colab": {
          "base_uri": "https://localhost:8080/",
          "height": 143
        },
        "outputId": "4d891d7b-c5f4-4673-9476-576e97007aca"
      },
      "source": [
        "# TODO - произведите агрегацию по рядам (найти среднее)\n",
        "df.aggregate(['mean'], axis=1)"
      ],
      "execution_count": null,
      "outputs": [
        {
          "output_type": "execute_result",
          "data": {
            "text/html": [
              "<div>\n",
              "<style scoped>\n",
              "    .dataframe tbody tr th:only-of-type {\n",
              "        vertical-align: middle;\n",
              "    }\n",
              "\n",
              "    .dataframe tbody tr th {\n",
              "        vertical-align: top;\n",
              "    }\n",
              "\n",
              "    .dataframe thead th {\n",
              "        text-align: right;\n",
              "    }\n",
              "</style>\n",
              "<table border=\"1\" class=\"dataframe\">\n",
              "  <thead>\n",
              "    <tr style=\"text-align: right;\">\n",
              "      <th></th>\n",
              "      <th>mean</th>\n",
              "    </tr>\n",
              "  </thead>\n",
              "  <tbody>\n",
              "    <tr>\n",
              "      <th>0</th>\n",
              "      <td>2.0</td>\n",
              "    </tr>\n",
              "    <tr>\n",
              "      <th>1</th>\n",
              "      <td>5.0</td>\n",
              "    </tr>\n",
              "    <tr>\n",
              "      <th>2</th>\n",
              "      <td>8.0</td>\n",
              "    </tr>\n",
              "  </tbody>\n",
              "</table>\n",
              "</div>"
            ],
            "text/plain": [
              "   mean\n",
              "0   2.0\n",
              "1   5.0\n",
              "2   8.0"
            ]
          },
          "metadata": {
            "tags": []
          },
          "execution_count": 139
        }
      ]
    },
    {
      "cell_type": "markdown",
      "metadata": {
        "id": "C12HB8hxuHi7"
      },
      "source": [
        "## Группировки"
      ]
    },
    {
      "cell_type": "markdown",
      "metadata": {
        "id": "jSyxFTtFue8h"
      },
      "source": [
        "Игры закончились - начались серьезные вещи. Группировки это один из сильнейших инструментов, которые позволяют вытаскивать из данных полезную информацию!\n",
        "\n",
        "Для понимания разберем пример: допустим, у нас есть база данных студентов с 1 по 4 курсы. Одна из колонок будет иметь в качестве значения номер курса и так как количество допустимых значений ограничено - то правильно считать эту колонку категориальной. Другая колонка - оценка за общий университетский тест (все курсы его проходили). Третьей колонкой будет время выполнения:"
      ]
    },
    {
      "cell_type": "code",
      "metadata": {
        "id": "gj4gFhFpxmuq",
        "colab": {
          "base_uri": "https://localhost:8080/",
          "height": 332
        },
        "outputId": "52caef58-fda6-4715-9bd3-4b98e6c42b1c"
      },
      "source": [
        "data = [\n",
        "    [1, 4.7, 60],\n",
        "    [3, 4.5, 45],\n",
        "    [4, 4.8, 40],\n",
        "    [1, 4.9, 58],\n",
        "    [2, 4.1, 50],\n",
        "    [2, 4.2, 49],\n",
        "    [2, 4.4, 49],\n",
        "    [3, 4.9, 46],\n",
        "    [4, 4.3, 33],\n",
        "]\n",
        "\n",
        "stud_df = pd.DataFrame(data, columns=['Grade', 'Test_Mark', 'Time'])\n",
        "stud_df"
      ],
      "execution_count": null,
      "outputs": [
        {
          "output_type": "execute_result",
          "data": {
            "text/html": [
              "<div>\n",
              "<style scoped>\n",
              "    .dataframe tbody tr th:only-of-type {\n",
              "        vertical-align: middle;\n",
              "    }\n",
              "\n",
              "    .dataframe tbody tr th {\n",
              "        vertical-align: top;\n",
              "    }\n",
              "\n",
              "    .dataframe thead th {\n",
              "        text-align: right;\n",
              "    }\n",
              "</style>\n",
              "<table border=\"1\" class=\"dataframe\">\n",
              "  <thead>\n",
              "    <tr style=\"text-align: right;\">\n",
              "      <th></th>\n",
              "      <th>Grade</th>\n",
              "      <th>Test_Mark</th>\n",
              "      <th>Time</th>\n",
              "    </tr>\n",
              "  </thead>\n",
              "  <tbody>\n",
              "    <tr>\n",
              "      <th>0</th>\n",
              "      <td>1</td>\n",
              "      <td>4.7</td>\n",
              "      <td>60</td>\n",
              "    </tr>\n",
              "    <tr>\n",
              "      <th>1</th>\n",
              "      <td>3</td>\n",
              "      <td>4.5</td>\n",
              "      <td>45</td>\n",
              "    </tr>\n",
              "    <tr>\n",
              "      <th>2</th>\n",
              "      <td>4</td>\n",
              "      <td>4.8</td>\n",
              "      <td>40</td>\n",
              "    </tr>\n",
              "    <tr>\n",
              "      <th>3</th>\n",
              "      <td>1</td>\n",
              "      <td>4.9</td>\n",
              "      <td>58</td>\n",
              "    </tr>\n",
              "    <tr>\n",
              "      <th>4</th>\n",
              "      <td>2</td>\n",
              "      <td>4.1</td>\n",
              "      <td>50</td>\n",
              "    </tr>\n",
              "    <tr>\n",
              "      <th>5</th>\n",
              "      <td>2</td>\n",
              "      <td>4.2</td>\n",
              "      <td>49</td>\n",
              "    </tr>\n",
              "    <tr>\n",
              "      <th>6</th>\n",
              "      <td>2</td>\n",
              "      <td>4.4</td>\n",
              "      <td>49</td>\n",
              "    </tr>\n",
              "    <tr>\n",
              "      <th>7</th>\n",
              "      <td>3</td>\n",
              "      <td>4.9</td>\n",
              "      <td>46</td>\n",
              "    </tr>\n",
              "    <tr>\n",
              "      <th>8</th>\n",
              "      <td>4</td>\n",
              "      <td>4.3</td>\n",
              "      <td>33</td>\n",
              "    </tr>\n",
              "  </tbody>\n",
              "</table>\n",
              "</div>"
            ],
            "text/plain": [
              "   Grade  Test_Mark  Time\n",
              "0      1        4.7    60\n",
              "1      3        4.5    45\n",
              "2      4        4.8    40\n",
              "3      1        4.9    58\n",
              "4      2        4.1    50\n",
              "5      2        4.2    49\n",
              "6      2        4.4    49\n",
              "7      3        4.9    46\n",
              "8      4        4.3    33"
            ]
          },
          "metadata": {
            "tags": []
          },
          "execution_count": 140
        }
      ]
    },
    {
      "cell_type": "markdown",
      "metadata": {
        "id": "REtVnk-JyEbH"
      },
      "source": [
        "Теперь представим, что мы сложим каждый курс в свою корзинку путем группировки:\n"
      ]
    },
    {
      "cell_type": "code",
      "metadata": {
        "id": "Cv2ttcWmyO_8",
        "colab": {
          "base_uri": "https://localhost:8080/"
        },
        "outputId": "5a4ca411-7190-4136-de4c-25ae0fc9954d"
      },
      "source": [
        "gr_stud_df = stud_df.groupby(by='Grade')\n",
        "\n",
        "# Тип результата - pd.DataFrameGroupBy\n",
        "print(type(gr_stud_df))\n",
        "\n",
        "# Таким образом увидим словарь:\n",
        "#   Ключи - названия групп\n",
        "#   Значения - индексы из данных для группы\n",
        "gr_stud_df.groups"
      ],
      "execution_count": null,
      "outputs": [
        {
          "output_type": "stream",
          "text": [
            "pandas.core.groupby.generic.DataFrameGroupBy\n"
          ],
          "name": "stdout"
        },
        {
          "output_type": "execute_result",
          "data": {
            "text/plain": [
              "{1: [0, 3], 2: [4, 5, 6], 3: [1, 7], 4: [2, 8]}"
            ]
          },
          "metadata": {
            "tags": []
          },
          "execution_count": 145
        }
      ]
    },
    {
      "cell_type": "markdown",
      "metadata": {
        "id": "qA5LXUaEys_8"
      },
      "source": [
        "После того, как мы сложили записи по группам, мы можем вычислить, например, среднее значение в каждой группе:"
      ]
    },
    {
      "cell_type": "code",
      "metadata": {
        "id": "akIG2VcFy1Mq",
        "colab": {
          "base_uri": "https://localhost:8080/",
          "height": 206
        },
        "outputId": "ca52cf53-004c-4ae3-9bc0-5bb6b0e6cbb4"
      },
      "source": [
        "gr_stud_df.agg('mean')"
      ],
      "execution_count": null,
      "outputs": [
        {
          "output_type": "execute_result",
          "data": {
            "text/html": [
              "<div>\n",
              "<style scoped>\n",
              "    .dataframe tbody tr th:only-of-type {\n",
              "        vertical-align: middle;\n",
              "    }\n",
              "\n",
              "    .dataframe tbody tr th {\n",
              "        vertical-align: top;\n",
              "    }\n",
              "\n",
              "    .dataframe thead th {\n",
              "        text-align: right;\n",
              "    }\n",
              "</style>\n",
              "<table border=\"1\" class=\"dataframe\">\n",
              "  <thead>\n",
              "    <tr style=\"text-align: right;\">\n",
              "      <th></th>\n",
              "      <th>Test_Mark</th>\n",
              "      <th>Time</th>\n",
              "    </tr>\n",
              "    <tr>\n",
              "      <th>Grade</th>\n",
              "      <th></th>\n",
              "      <th></th>\n",
              "    </tr>\n",
              "  </thead>\n",
              "  <tbody>\n",
              "    <tr>\n",
              "      <th>1</th>\n",
              "      <td>4.800000</td>\n",
              "      <td>59.000000</td>\n",
              "    </tr>\n",
              "    <tr>\n",
              "      <th>2</th>\n",
              "      <td>4.233333</td>\n",
              "      <td>49.333333</td>\n",
              "    </tr>\n",
              "    <tr>\n",
              "      <th>3</th>\n",
              "      <td>4.700000</td>\n",
              "      <td>45.500000</td>\n",
              "    </tr>\n",
              "    <tr>\n",
              "      <th>4</th>\n",
              "      <td>4.550000</td>\n",
              "      <td>36.500000</td>\n",
              "    </tr>\n",
              "  </tbody>\n",
              "</table>\n",
              "</div>"
            ],
            "text/plain": [
              "       Test_Mark       Time\n",
              "Grade                      \n",
              "1       4.800000  59.000000\n",
              "2       4.233333  49.333333\n",
              "3       4.700000  45.500000\n",
              "4       4.550000  36.500000"
            ]
          },
          "metadata": {
            "tags": []
          },
          "execution_count": 146
        }
      ]
    },
    {
      "cell_type": "markdown",
      "metadata": {
        "id": "243rNrpUzHvL"
      },
      "source": [
        "В результате, мы смогли вычислить среднюю оценку за тест по каждому курсу! И для этого нам потребовалось всего два метода! Ручным вариантом нам бы пришлось создавать контейнеры, складывать в них значения и потом вычислять средние значения..."
      ]
    },
    {
      "cell_type": "markdown",
      "metadata": {
        "id": "_4axNP1MzP7u"
      },
      "source": [
        "Резюмируя, группировка - это размещение данных по группам уникальных значений признака, по которому группируется. После группировки можно произвести агрегацию данных в каждой группе."
      ]
    },
    {
      "cell_type": "code",
      "metadata": {
        "id": "1RjQadBi3XYL",
        "colab": {
          "base_uri": "https://localhost:8080/",
          "height": 238
        },
        "outputId": "a5436be3-9dc1-4477-bf73-d59ebd30be3c"
      },
      "source": [
        "# Более сложный вариант - найдем средние и минимальные время и оценку \n",
        "\n",
        "gr_stud_df.agg(['mean', 'min'])"
      ],
      "execution_count": null,
      "outputs": [
        {
          "output_type": "execute_result",
          "data": {
            "text/html": [
              "<div>\n",
              "<style scoped>\n",
              "    .dataframe tbody tr th:only-of-type {\n",
              "        vertical-align: middle;\n",
              "    }\n",
              "\n",
              "    .dataframe tbody tr th {\n",
              "        vertical-align: top;\n",
              "    }\n",
              "\n",
              "    .dataframe thead tr th {\n",
              "        text-align: left;\n",
              "    }\n",
              "\n",
              "    .dataframe thead tr:last-of-type th {\n",
              "        text-align: right;\n",
              "    }\n",
              "</style>\n",
              "<table border=\"1\" class=\"dataframe\">\n",
              "  <thead>\n",
              "    <tr>\n",
              "      <th></th>\n",
              "      <th colspan=\"2\" halign=\"left\">Test_Mark</th>\n",
              "      <th colspan=\"2\" halign=\"left\">Time</th>\n",
              "    </tr>\n",
              "    <tr>\n",
              "      <th></th>\n",
              "      <th>mean</th>\n",
              "      <th>min</th>\n",
              "      <th>mean</th>\n",
              "      <th>min</th>\n",
              "    </tr>\n",
              "    <tr>\n",
              "      <th>Grade</th>\n",
              "      <th></th>\n",
              "      <th></th>\n",
              "      <th></th>\n",
              "      <th></th>\n",
              "    </tr>\n",
              "  </thead>\n",
              "  <tbody>\n",
              "    <tr>\n",
              "      <th>1</th>\n",
              "      <td>4.800000</td>\n",
              "      <td>4.7</td>\n",
              "      <td>59.000000</td>\n",
              "      <td>58</td>\n",
              "    </tr>\n",
              "    <tr>\n",
              "      <th>2</th>\n",
              "      <td>4.233333</td>\n",
              "      <td>4.1</td>\n",
              "      <td>49.333333</td>\n",
              "      <td>49</td>\n",
              "    </tr>\n",
              "    <tr>\n",
              "      <th>3</th>\n",
              "      <td>4.700000</td>\n",
              "      <td>4.5</td>\n",
              "      <td>45.500000</td>\n",
              "      <td>45</td>\n",
              "    </tr>\n",
              "    <tr>\n",
              "      <th>4</th>\n",
              "      <td>4.550000</td>\n",
              "      <td>4.3</td>\n",
              "      <td>36.500000</td>\n",
              "      <td>33</td>\n",
              "    </tr>\n",
              "  </tbody>\n",
              "</table>\n",
              "</div>"
            ],
            "text/plain": [
              "      Test_Mark            Time    \n",
              "           mean  min       mean min\n",
              "Grade                              \n",
              "1      4.800000  4.7  59.000000  58\n",
              "2      4.233333  4.1  49.333333  49\n",
              "3      4.700000  4.5  45.500000  45\n",
              "4      4.550000  4.3  36.500000  33"
            ]
          },
          "metadata": {
            "tags": []
          },
          "execution_count": 147
        }
      ]
    },
    {
      "cell_type": "code",
      "metadata": {
        "id": "9SEk__CQ4wtP",
        "colab": {
          "base_uri": "https://localhost:8080/",
          "height": 256
        },
        "outputId": "45bbf5ef-d5d0-482e-8d5e-bcd02a822d29"
      },
      "source": [
        "# Или зададим правила для каждого признака по отдельности\n",
        "\n",
        "res = gr_stud_df.agg({\n",
        "    'Test_Mark': ['mean', 'min'],\n",
        "    'Time': ['min']\n",
        "})\n",
        "\n",
        "print(type(res))\n",
        "res"
      ],
      "execution_count": null,
      "outputs": [
        {
          "output_type": "stream",
          "text": [
            "<class 'pandas.core.frame.DataFrame'>\n"
          ],
          "name": "stdout"
        },
        {
          "output_type": "execute_result",
          "data": {
            "text/html": [
              "<div>\n",
              "<style scoped>\n",
              "    .dataframe tbody tr th:only-of-type {\n",
              "        vertical-align: middle;\n",
              "    }\n",
              "\n",
              "    .dataframe tbody tr th {\n",
              "        vertical-align: top;\n",
              "    }\n",
              "\n",
              "    .dataframe thead tr th {\n",
              "        text-align: left;\n",
              "    }\n",
              "\n",
              "    .dataframe thead tr:last-of-type th {\n",
              "        text-align: right;\n",
              "    }\n",
              "</style>\n",
              "<table border=\"1\" class=\"dataframe\">\n",
              "  <thead>\n",
              "    <tr>\n",
              "      <th></th>\n",
              "      <th colspan=\"2\" halign=\"left\">Test_Mark</th>\n",
              "      <th>Time</th>\n",
              "    </tr>\n",
              "    <tr>\n",
              "      <th></th>\n",
              "      <th>mean</th>\n",
              "      <th>min</th>\n",
              "      <th>min</th>\n",
              "    </tr>\n",
              "    <tr>\n",
              "      <th>Grade</th>\n",
              "      <th></th>\n",
              "      <th></th>\n",
              "      <th></th>\n",
              "    </tr>\n",
              "  </thead>\n",
              "  <tbody>\n",
              "    <tr>\n",
              "      <th>1</th>\n",
              "      <td>4.800000</td>\n",
              "      <td>4.7</td>\n",
              "      <td>58</td>\n",
              "    </tr>\n",
              "    <tr>\n",
              "      <th>2</th>\n",
              "      <td>4.233333</td>\n",
              "      <td>4.1</td>\n",
              "      <td>49</td>\n",
              "    </tr>\n",
              "    <tr>\n",
              "      <th>3</th>\n",
              "      <td>4.700000</td>\n",
              "      <td>4.5</td>\n",
              "      <td>45</td>\n",
              "    </tr>\n",
              "    <tr>\n",
              "      <th>4</th>\n",
              "      <td>4.550000</td>\n",
              "      <td>4.3</td>\n",
              "      <td>33</td>\n",
              "    </tr>\n",
              "  </tbody>\n",
              "</table>\n",
              "</div>"
            ],
            "text/plain": [
              "      Test_Mark      Time\n",
              "           mean  min  min\n",
              "Grade                    \n",
              "1      4.800000  4.7   58\n",
              "2      4.233333  4.1   49\n",
              "3      4.700000  4.5   45\n",
              "4      4.550000  4.3   33"
            ]
          },
          "metadata": {
            "tags": []
          },
          "execution_count": 148
        }
      ]
    },
    {
      "cell_type": "code",
      "metadata": {
        "id": "T78u8tYt6Kn6",
        "colab": {
          "base_uri": "https://localhost:8080/"
        },
        "outputId": "5675df54-ebaa-429b-8480-713c37af93d8"
      },
      "source": [
        "# Для обращения к данным просто используем несколько индексов, \n",
        "#   так как это DataFrame\n",
        "res['Test_Mark']['mean']"
      ],
      "execution_count": null,
      "outputs": [
        {
          "output_type": "execute_result",
          "data": {
            "text/plain": [
              "Grade\n",
              "1    4.800000\n",
              "2    4.233333\n",
              "3    4.700000\n",
              "4    4.550000\n",
              "Name: mean, dtype: float64"
            ]
          },
          "metadata": {
            "tags": []
          },
          "execution_count": 149
        }
      ]
    },
    {
      "cell_type": "markdown",
      "metadata": {
        "id": "D0WysErg5FyX"
      },
      "source": [
        "### Задание\n",
        "\n",
        "Сгруппируйте данные по признаку x2 и найдите медиану и максимальное значения по признакам x1, x3:"
      ]
    },
    {
      "cell_type": "code",
      "metadata": {
        "id": "inrIEOBN7tIJ",
        "colab": {
          "base_uri": "https://localhost:8080/",
          "height": 206
        },
        "outputId": "0b2b4711-d458-480c-efcc-e53199e18875"
      },
      "source": [
        "df = pd.DataFrame({\n",
        "    'x1': np.random.randint(10, 100, size=(200, )),\n",
        "    'x2': np.random.choice(['low', 'high', 'medium'], size=(200, )),\n",
        "    'x3': np.random.randint(-20, 30, size=(200, )),\n",
        "})\n",
        "df.head()"
      ],
      "execution_count": null,
      "outputs": [
        {
          "output_type": "execute_result",
          "data": {
            "text/html": [
              "<div>\n",
              "<style scoped>\n",
              "    .dataframe tbody tr th:only-of-type {\n",
              "        vertical-align: middle;\n",
              "    }\n",
              "\n",
              "    .dataframe tbody tr th {\n",
              "        vertical-align: top;\n",
              "    }\n",
              "\n",
              "    .dataframe thead th {\n",
              "        text-align: right;\n",
              "    }\n",
              "</style>\n",
              "<table border=\"1\" class=\"dataframe\">\n",
              "  <thead>\n",
              "    <tr style=\"text-align: right;\">\n",
              "      <th></th>\n",
              "      <th>x1</th>\n",
              "      <th>x2</th>\n",
              "      <th>x3</th>\n",
              "    </tr>\n",
              "  </thead>\n",
              "  <tbody>\n",
              "    <tr>\n",
              "      <th>0</th>\n",
              "      <td>35</td>\n",
              "      <td>medium</td>\n",
              "      <td>-16</td>\n",
              "    </tr>\n",
              "    <tr>\n",
              "      <th>1</th>\n",
              "      <td>72</td>\n",
              "      <td>low</td>\n",
              "      <td>-11</td>\n",
              "    </tr>\n",
              "    <tr>\n",
              "      <th>2</th>\n",
              "      <td>86</td>\n",
              "      <td>low</td>\n",
              "      <td>24</td>\n",
              "    </tr>\n",
              "    <tr>\n",
              "      <th>3</th>\n",
              "      <td>12</td>\n",
              "      <td>low</td>\n",
              "      <td>3</td>\n",
              "    </tr>\n",
              "    <tr>\n",
              "      <th>4</th>\n",
              "      <td>39</td>\n",
              "      <td>low</td>\n",
              "      <td>-10</td>\n",
              "    </tr>\n",
              "  </tbody>\n",
              "</table>\n",
              "</div>"
            ],
            "text/plain": [
              "   x1      x2  x3\n",
              "0  35  medium -16\n",
              "1  72     low -11\n",
              "2  86     low  24\n",
              "3  12     low   3\n",
              "4  39     low -10"
            ]
          },
          "metadata": {
            "tags": []
          },
          "execution_count": 150
        }
      ]
    },
    {
      "cell_type": "code",
      "metadata": {
        "id": "s9YIb62P8NZR",
        "colab": {
          "base_uri": "https://localhost:8080/",
          "height": 206
        },
        "outputId": "42405fee-72e3-422d-e67c-251b35064816"
      },
      "source": [
        "# TODO - произведите групировку данных\n",
        "a1=df.groupby(by='x2')\n",
        "a1.groups\n",
        "\n",
        "#           и получите средние и максимальные значения по каждой группе\n",
        "a1.agg(['mean', 'max'])"
      ],
      "execution_count": null,
      "outputs": [
        {
          "output_type": "execute_result",
          "data": {
            "text/html": [
              "<div>\n",
              "<style scoped>\n",
              "    .dataframe tbody tr th:only-of-type {\n",
              "        vertical-align: middle;\n",
              "    }\n",
              "\n",
              "    .dataframe tbody tr th {\n",
              "        vertical-align: top;\n",
              "    }\n",
              "\n",
              "    .dataframe thead tr th {\n",
              "        text-align: left;\n",
              "    }\n",
              "\n",
              "    .dataframe thead tr:last-of-type th {\n",
              "        text-align: right;\n",
              "    }\n",
              "</style>\n",
              "<table border=\"1\" class=\"dataframe\">\n",
              "  <thead>\n",
              "    <tr>\n",
              "      <th></th>\n",
              "      <th colspan=\"2\" halign=\"left\">x1</th>\n",
              "      <th colspan=\"2\" halign=\"left\">x3</th>\n",
              "    </tr>\n",
              "    <tr>\n",
              "      <th></th>\n",
              "      <th>mean</th>\n",
              "      <th>max</th>\n",
              "      <th>mean</th>\n",
              "      <th>max</th>\n",
              "    </tr>\n",
              "    <tr>\n",
              "      <th>x2</th>\n",
              "      <th></th>\n",
              "      <th></th>\n",
              "      <th></th>\n",
              "      <th></th>\n",
              "    </tr>\n",
              "  </thead>\n",
              "  <tbody>\n",
              "    <tr>\n",
              "      <th>high</th>\n",
              "      <td>55.436620</td>\n",
              "      <td>99</td>\n",
              "      <td>8.366197</td>\n",
              "      <td>29</td>\n",
              "    </tr>\n",
              "    <tr>\n",
              "      <th>low</th>\n",
              "      <td>56.230769</td>\n",
              "      <td>99</td>\n",
              "      <td>3.984615</td>\n",
              "      <td>28</td>\n",
              "    </tr>\n",
              "    <tr>\n",
              "      <th>medium</th>\n",
              "      <td>52.859375</td>\n",
              "      <td>98</td>\n",
              "      <td>6.531250</td>\n",
              "      <td>29</td>\n",
              "    </tr>\n",
              "  </tbody>\n",
              "</table>\n",
              "</div>"
            ],
            "text/plain": [
              "               x1            x3    \n",
              "             mean max      mean max\n",
              "x2                                 \n",
              "high    55.436620  99  8.366197  29\n",
              "low     56.230769  99  3.984615  28\n",
              "medium  52.859375  98  6.531250  29"
            ]
          },
          "metadata": {
            "tags": []
          },
          "execution_count": 156
        }
      ]
    },
    {
      "cell_type": "markdown",
      "metadata": {
        "id": "QoA5WcSp_1am"
      },
      "source": [
        "# Сохранение / загрузка данных (работа с CSV)"
      ]
    },
    {
      "cell_type": "markdown",
      "metadata": {
        "id": "FRzJjPfe_55Q"
      },
      "source": [
        "Одним из важных инструментов в работе с таблицами является возможность сохранить результаты работы в файл или загрузить данные из файла. Пользоваться мы будем форматом CSV, который является текстовым форматом для хранения таблицы. Формат представляет собой текстовые строки, каждая колонка разделяется разделителем (запятая, точка запятой и др.), поэтому его просто понять и обрабатывать, так как не требуется никакого специального протокола для понимания.\n",
        "\n",
        "Для сохранения данных имеется метод `DataFrame.to_csv()`:"
      ]
    },
    {
      "cell_type": "code",
      "metadata": {
        "id": "DmYMxecrAq10",
        "colab": {
          "base_uri": "https://localhost:8080/",
          "height": 143
        },
        "outputId": "edb9d46e-cbe6-4c85-ad2c-1ec6516cd56c"
      },
      "source": [
        "import string\n",
        "\n",
        "df = pd.DataFrame(\n",
        "    data=np.random.randint(0, 10, size=(15, 3)), \n",
        "    columns=['x1', 'x2', 'x3'],\n",
        "    index=list(string.ascii_uppercase)[:15]\n",
        ")\n",
        "df.head(3)"
      ],
      "execution_count": null,
      "outputs": [
        {
          "output_type": "execute_result",
          "data": {
            "text/html": [
              "<div>\n",
              "<style scoped>\n",
              "    .dataframe tbody tr th:only-of-type {\n",
              "        vertical-align: middle;\n",
              "    }\n",
              "\n",
              "    .dataframe tbody tr th {\n",
              "        vertical-align: top;\n",
              "    }\n",
              "\n",
              "    .dataframe thead th {\n",
              "        text-align: right;\n",
              "    }\n",
              "</style>\n",
              "<table border=\"1\" class=\"dataframe\">\n",
              "  <thead>\n",
              "    <tr style=\"text-align: right;\">\n",
              "      <th></th>\n",
              "      <th>x1</th>\n",
              "      <th>x2</th>\n",
              "      <th>x3</th>\n",
              "    </tr>\n",
              "  </thead>\n",
              "  <tbody>\n",
              "    <tr>\n",
              "      <th>A</th>\n",
              "      <td>0</td>\n",
              "      <td>9</td>\n",
              "      <td>7</td>\n",
              "    </tr>\n",
              "    <tr>\n",
              "      <th>B</th>\n",
              "      <td>8</td>\n",
              "      <td>3</td>\n",
              "      <td>2</td>\n",
              "    </tr>\n",
              "    <tr>\n",
              "      <th>C</th>\n",
              "      <td>3</td>\n",
              "      <td>8</td>\n",
              "      <td>6</td>\n",
              "    </tr>\n",
              "  </tbody>\n",
              "</table>\n",
              "</div>"
            ],
            "text/plain": [
              "   x1  x2  x3\n",
              "A   0   9   7\n",
              "B   8   3   2\n",
              "C   3   8   6"
            ]
          },
          "metadata": {
            "tags": []
          },
          "execution_count": 17
        }
      ]
    },
    {
      "cell_type": "code",
      "metadata": {
        "id": "KMNVroGbA7Vw"
      },
      "source": [
        "# Для сохранения задается путь до файла\n",
        "df.to_csv('my_first_file.csv')\n"
      ],
      "execution_count": null,
      "outputs": []
    },
    {
      "cell_type": "markdown",
      "metadata": {
        "id": "s8k6zkCrBgJf"
      },
      "source": [
        "Чтобы убедиться в работе метода найдите файл рядом с ноутбуком и откройте его через редактор.\n",
        "\n",
        "> При работе в Google Colab слева есть вкладка, которая показывает файлы на сервере.\n",
        "\n",
        "При открытии можно увидеть четыре колонки:\n",
        "- Колонка индекса;\n",
        "- Три колонки из наших данных.\n",
        "\n",
        "Теперь, когда мы имеем файл CSV в системе - можем испытать функцию загрузки `pd.read_csv()`:"
      ]
    },
    {
      "cell_type": "code",
      "metadata": {
        "id": "Hu1Cn2dAAtZE",
        "colab": {
          "base_uri": "https://localhost:8080/",
          "height": 143
        },
        "outputId": "1937ec17-0f14-4543-b0c7-39acfd76562d"
      },
      "source": [
        "df = pd.read_csv('my_first_file.csv')\n",
        "df.head(3)"
      ],
      "execution_count": null,
      "outputs": [
        {
          "output_type": "execute_result",
          "data": {
            "text/html": [
              "<div>\n",
              "<style scoped>\n",
              "    .dataframe tbody tr th:only-of-type {\n",
              "        vertical-align: middle;\n",
              "    }\n",
              "\n",
              "    .dataframe tbody tr th {\n",
              "        vertical-align: top;\n",
              "    }\n",
              "\n",
              "    .dataframe thead th {\n",
              "        text-align: right;\n",
              "    }\n",
              "</style>\n",
              "<table border=\"1\" class=\"dataframe\">\n",
              "  <thead>\n",
              "    <tr style=\"text-align: right;\">\n",
              "      <th></th>\n",
              "      <th>Unnamed: 0</th>\n",
              "      <th>x1</th>\n",
              "      <th>x2</th>\n",
              "      <th>x3</th>\n",
              "    </tr>\n",
              "  </thead>\n",
              "  <tbody>\n",
              "    <tr>\n",
              "      <th>0</th>\n",
              "      <td>A</td>\n",
              "      <td>0</td>\n",
              "      <td>9</td>\n",
              "      <td>7</td>\n",
              "    </tr>\n",
              "    <tr>\n",
              "      <th>1</th>\n",
              "      <td>B</td>\n",
              "      <td>8</td>\n",
              "      <td>3</td>\n",
              "      <td>2</td>\n",
              "    </tr>\n",
              "    <tr>\n",
              "      <th>2</th>\n",
              "      <td>C</td>\n",
              "      <td>3</td>\n",
              "      <td>8</td>\n",
              "      <td>6</td>\n",
              "    </tr>\n",
              "  </tbody>\n",
              "</table>\n",
              "</div>"
            ],
            "text/plain": [
              "  Unnamed: 0  x1  x2  x3\n",
              "0          A   0   9   7\n",
              "1          B   8   3   2\n",
              "2          C   3   8   6"
            ]
          },
          "metadata": {
            "tags": []
          },
          "execution_count": 20
        }
      ]
    },
    {
      "cell_type": "markdown",
      "metadata": {
        "id": "826nsjTTDELg"
      },
      "source": [
        "Видна одна явная проблема - у нас появилась колонка, которая должна быть индексом, но она стала новой колонкой, а индексы создались новые. Для решения проблемы при загрузке необходимо явно задать, какая колонка считается индексом:"
      ]
    },
    {
      "cell_type": "code",
      "metadata": {
        "id": "4ro4a8XQD7NU",
        "colab": {
          "base_uri": "https://localhost:8080/",
          "height": 143
        },
        "outputId": "c4870944-d08c-43d2-de73-8399ebd9c357"
      },
      "source": [
        "df = pd.read_csv('my_first_file.csv', index_col=0)\n",
        "df.head(3)"
      ],
      "execution_count": null,
      "outputs": [
        {
          "output_type": "execute_result",
          "data": {
            "text/html": [
              "<div>\n",
              "<style scoped>\n",
              "    .dataframe tbody tr th:only-of-type {\n",
              "        vertical-align: middle;\n",
              "    }\n",
              "\n",
              "    .dataframe tbody tr th {\n",
              "        vertical-align: top;\n",
              "    }\n",
              "\n",
              "    .dataframe thead th {\n",
              "        text-align: right;\n",
              "    }\n",
              "</style>\n",
              "<table border=\"1\" class=\"dataframe\">\n",
              "  <thead>\n",
              "    <tr style=\"text-align: right;\">\n",
              "      <th></th>\n",
              "      <th>x1</th>\n",
              "      <th>x2</th>\n",
              "      <th>x3</th>\n",
              "    </tr>\n",
              "  </thead>\n",
              "  <tbody>\n",
              "    <tr>\n",
              "      <th>A</th>\n",
              "      <td>0</td>\n",
              "      <td>9</td>\n",
              "      <td>7</td>\n",
              "    </tr>\n",
              "    <tr>\n",
              "      <th>B</th>\n",
              "      <td>8</td>\n",
              "      <td>3</td>\n",
              "      <td>2</td>\n",
              "    </tr>\n",
              "    <tr>\n",
              "      <th>C</th>\n",
              "      <td>3</td>\n",
              "      <td>8</td>\n",
              "      <td>6</td>\n",
              "    </tr>\n",
              "  </tbody>\n",
              "</table>\n",
              "</div>"
            ],
            "text/plain": [
              "   x1  x2  x3\n",
              "A   0   9   7\n",
              "B   8   3   2\n",
              "C   3   8   6"
            ]
          },
          "metadata": {
            "tags": []
          },
          "execution_count": 21
        }
      ]
    },
    {
      "cell_type": "markdown",
      "metadata": {
        "id": "VvNbDFPlD-kK"
      },
      "source": [
        "Теперь все отлично и данные загрузились так, как они должны быть."
      ]
    },
    {
      "cell_type": "markdown",
      "metadata": {
        "id": "iji4lnn2DRrF"
      },
      "source": [
        "## Задание\n",
        "\n",
        "Разберитесь в аргументах `DataFrame.to_csv()` и сохраните данные в файл так, чтобы в файл индекс не сохранялся."
      ]
    },
    {
      "cell_type": "code",
      "metadata": {
        "id": "QmxqqhksDdZz"
      },
      "source": [
        "df = pd.DataFrame(\n",
        "    data=np.random.randint(0, 10, size=(15, 3)), \n",
        "    columns=['x1', 'x2', 'x3'],\n",
        "    index=list(string.ascii_uppercase)[:15]\n",
        ")\n",
        "df.head(3)\n",
        "\n",
        "# TODO - сохранить в файл no_index.csv без индексов\n",
        "df.to_csv('my_first_file.csv',index=0)"
      ],
      "execution_count": null,
      "outputs": []
    },
    {
      "cell_type": "markdown",
      "metadata": {
        "id": "irt2kdlT1Y5g"
      },
      "source": [
        "# Задачки\n"
      ]
    },
    {
      "cell_type": "markdown",
      "metadata": {
        "id": "ia4T__g3U7JG"
      },
      "source": [
        "Создайте фрейм с тремя колонками:\n",
        "- Колонка с именами (тип - объекты);\n",
        "- Колонка с стажем работы (тип - вещественный);\n",
        "- Колонка с возрастом (тип - целочисленный);\n",
        "- Колонка с названием любимого цвета (тип - категориальный);\n",
        "\n",
        "Имена колонок и значения любые, не менее трех записей (строк) в фрейме."
      ]
    },
    {
      "cell_type": "code",
      "metadata": {
        "id": "gjI5Zey31Ntq",
        "colab": {
          "base_uri": "https://localhost:8080/"
        },
        "outputId": "bb758101-6056-43ba-dd77-b21448a66ff7"
      },
      "source": [
        "# TODO - создайте фрейм и настройте правильные типы колонок\n",
        "data = {\n",
        "    'name': ['mark','james','david'],\n",
        "    'years': [1.0,2,3],\n",
        "    'age': [15,27,54],\n",
        "    'color':pd.Categorical(['red','blue','black'])\n",
        "}\n",
        "df = pd.DataFrame(data, index=list('ABC'))\n",
        "df.head()\n",
        "df.info() "
      ],
      "execution_count": null,
      "outputs": [
        {
          "output_type": "stream",
          "text": [
            "<class 'pandas.core.frame.DataFrame'>\n",
            "Index: 3 entries, A to C\n",
            "Data columns (total 4 columns):\n",
            " #   Column  Non-Null Count  Dtype   \n",
            "---  ------  --------------  -----   \n",
            " 0   name    3 non-null      object  \n",
            " 1   years   3 non-null      float64 \n",
            " 2   age     3 non-null      int64   \n",
            " 3   color   3 non-null      category\n",
            "dtypes: category(1), float64(1), int64(1), object(1)\n",
            "memory usage: 203.0+ bytes\n"
          ],
          "name": "stdout"
        }
      ]
    },
    {
      "cell_type": "markdown",
      "metadata": {
        "id": "Mq_Iapt6Wuzq"
      },
      "source": [
        "Выберите числа в ряду `ds1`, которых нет в ряду `ds2`:\n",
        "\n",
        "> Почитайте и примение метод `Series.isin()`"
      ]
    },
    {
      "cell_type": "code",
      "metadata": {
        "id": "EndB77j2XxBd",
        "colab": {
          "base_uri": "https://localhost:8080/"
        },
        "outputId": "3becc0e8-0f03-4448-a41a-56b498dfc24e"
      },
      "source": [
        "ds1 = pd.Series([1, 2, 3, 4, 5])\n",
        "ds2 = pd.Series([4, 5, 6, 7, 8, 1, 9])\n",
        "a1=ds1.isin(ds2)\n",
        "ds1[~a1]\n",
        "\n",
        "# TODO - выберите значения в ds1, которых нет в ds2: \n",
        "# [2, 3]"
      ],
      "execution_count": null,
      "outputs": [
        {
          "output_type": "execute_result",
          "data": {
            "text/plain": [
              "1    2\n",
              "2    3\n",
              "dtype: int64"
            ]
          },
          "metadata": {
            "tags": []
          },
          "execution_count": 9
        }
      ]
    },
    {
      "cell_type": "markdown",
      "metadata": {
        "id": "zpEVG3hjZGfS"
      },
      "source": [
        "Оставьте в ряду два наиболее частых значения, остальные замените значением 'Другое':\n",
        "\n",
        "<details>\n",
        "<summary>Подсказка 1</summary>\n",
        "\n",
        "Для определения наиболее частых значений воспользуйтесь методом `Series.value_counts()`\n",
        "</details>\n",
        "\n",
        "<details>\n",
        "<summary>Подсказка 2</summary>\n",
        "\n",
        "Чтобы получить наиболее частые значения можно воспользоваться результатом `Series.value_counts()` - атрибутом `Series.index`\n",
        "</details>\n",
        "\n",
        "<details>\n",
        "<summary>Подсказка 3</summary>\n",
        "\n",
        "Получив наиболее частые значения, можно индексировать другие через маску метода `Series.isin()`\n",
        "</details>\n"
      ]
    },
    {
      "cell_type": "code",
      "metadata": {
        "id": "6hexIuIsYw-D",
        "colab": {
          "base_uri": "https://localhost:8080/"
        },
        "outputId": "c6567037-cc89-4ee2-a043-ebeda294ab87"
      },
      "source": [
        "ds = pd.Series([2, 2, 2, 4, 4, 4, 3, 1, 1, 1, 1, 4])\n",
        "ds\n",
        "# TODO - определите два наиболее частых значения в ряду (1, 4),\n",
        "a1=ds.value_counts()\n",
        "a2=pd.Series(a1.index)\n",
        "m=ds.isin(a2[[0, 1]])\n",
        "ds[~m]='Другое'\n",
        "ds.to_numpy()\n",
        "#           остальные замените значением 'Другое'\n",
        "# ['Другое', 'Другое', 'Другое', 4, 4, 4, 'Другое', 1, 1, 1, 1, 4]"
      ],
      "execution_count": null,
      "outputs": [
        {
          "output_type": "execute_result",
          "data": {
            "text/plain": [
              "array(['Другое', 'Другое', 'Другое', 4, 4, 4, 'Другое', 1, 1, 1, 1, 4],\n",
              "      dtype=object)"
            ]
          },
          "metadata": {
            "tags": []
          },
          "execution_count": 40
        }
      ]
    },
    {
      "cell_type": "markdown",
      "metadata": {
        "id": "oz2HQvOcb5SN"
      },
      "source": [
        "Сделайте каждую первую букву в словах ряда заглавной:"
      ]
    },
    {
      "cell_type": "code",
      "metadata": {
        "id": "BN5CToI2ZhRK",
        "colab": {
          "base_uri": "https://localhost:8080/"
        },
        "outputId": "13d454b5-ef4a-4a5a-895d-0ae9638bbf0f"
      },
      "source": [
        "ds = pd.Series(['how', 'to', 'use', 'pandas?'])\n",
        "ds.str.title()\n",
        "# TODO - сделайте каждую первую букву заглавной с помощью Series.apply()"
      ],
      "execution_count": null,
      "outputs": [
        {
          "output_type": "execute_result",
          "data": {
            "text/plain": [
              "0        How\n",
              "1         To\n",
              "2        Use\n",
              "3    Pandas?\n",
              "dtype: object"
            ]
          },
          "metadata": {
            "tags": []
          },
          "execution_count": 43
        }
      ]
    },
    {
      "cell_type": "markdown",
      "metadata": {
        "id": "DMVceUcqd9RF"
      },
      "source": [
        "Выберите записи с максимальным значением по колонке `x1`:"
      ]
    },
    {
      "cell_type": "code",
      "metadata": {
        "id": "W5CrazwJcF1O",
        "colab": {
          "base_uri": "https://localhost:8080/",
          "height": 238
        },
        "outputId": "1f7a1d05-8b32-4244-f019-fc85fc74e60e"
      },
      "source": [
        "df = pd.DataFrame(\n",
        "    np.random.randint(0, 4, size=(15, 3)), \n",
        "    columns=['x1', 'x2', 'x3']\n",
        ")\n",
        "a1=df.max()\n",
        "a2=df['x1']==a1['x1']\n",
        "df[a2]\n",
        "# TODO - выберите те записи, которые имеют x1 равный \n",
        "#           максимальному значению в колонке x1"
      ],
      "execution_count": null,
      "outputs": [
        {
          "output_type": "execute_result",
          "data": {
            "text/html": [
              "<div>\n",
              "<style scoped>\n",
              "    .dataframe tbody tr th:only-of-type {\n",
              "        vertical-align: middle;\n",
              "    }\n",
              "\n",
              "    .dataframe tbody tr th {\n",
              "        vertical-align: top;\n",
              "    }\n",
              "\n",
              "    .dataframe thead th {\n",
              "        text-align: right;\n",
              "    }\n",
              "</style>\n",
              "<table border=\"1\" class=\"dataframe\">\n",
              "  <thead>\n",
              "    <tr style=\"text-align: right;\">\n",
              "      <th></th>\n",
              "      <th>x1</th>\n",
              "      <th>x2</th>\n",
              "      <th>x3</th>\n",
              "    </tr>\n",
              "  </thead>\n",
              "  <tbody>\n",
              "    <tr>\n",
              "      <th>1</th>\n",
              "      <td>3</td>\n",
              "      <td>1</td>\n",
              "      <td>0</td>\n",
              "    </tr>\n",
              "    <tr>\n",
              "      <th>2</th>\n",
              "      <td>3</td>\n",
              "      <td>1</td>\n",
              "      <td>3</td>\n",
              "    </tr>\n",
              "    <tr>\n",
              "      <th>3</th>\n",
              "      <td>3</td>\n",
              "      <td>0</td>\n",
              "      <td>3</td>\n",
              "    </tr>\n",
              "    <tr>\n",
              "      <th>4</th>\n",
              "      <td>3</td>\n",
              "      <td>0</td>\n",
              "      <td>1</td>\n",
              "    </tr>\n",
              "    <tr>\n",
              "      <th>9</th>\n",
              "      <td>3</td>\n",
              "      <td>1</td>\n",
              "      <td>0</td>\n",
              "    </tr>\n",
              "    <tr>\n",
              "      <th>12</th>\n",
              "      <td>3</td>\n",
              "      <td>3</td>\n",
              "      <td>3</td>\n",
              "    </tr>\n",
              "  </tbody>\n",
              "</table>\n",
              "</div>"
            ],
            "text/plain": [
              "    x1  x2  x3\n",
              "1    3   1   0\n",
              "2    3   1   3\n",
              "3    3   0   3\n",
              "4    3   0   1\n",
              "9    3   1   0\n",
              "12   3   3   3"
            ]
          },
          "metadata": {
            "tags": []
          },
          "execution_count": 60
        }
      ]
    },
    {
      "cell_type": "markdown",
      "metadata": {
        "id": "Ct6PN4nCeqOA"
      },
      "source": [
        "Выведите количество пропусков в каждой колонке данных:"
      ]
    },
    {
      "cell_type": "code",
      "metadata": {
        "id": "Nqmv3g3EeODD",
        "colab": {
          "base_uri": "https://localhost:8080/"
        },
        "outputId": "f42f7b6f-0b93-4876-a390-48e0c363ca25"
      },
      "source": [
        "df = pd.read_csv('https://raw.githubusercontent.com/Kail4eK/ml_edu/master/datasets/Cars93_miss.csv')\n",
        "df.isna().sum()\n",
        "# TODO - отобразите количество пропусков в данных по каждой колонке"
      ],
      "execution_count": null,
      "outputs": [
        {
          "output_type": "execute_result",
          "data": {
            "text/plain": [
              "Manufacturer           4\n",
              "Model                  1\n",
              "Type                   3\n",
              "Min.Price              7\n",
              "Price                  2\n",
              "Max.Price              5\n",
              "MPG.city               9\n",
              "MPG.highway            2\n",
              "AirBags                6\n",
              "DriveTrain             7\n",
              "Cylinders              5\n",
              "EngineSize             2\n",
              "Horsepower             7\n",
              "RPM                    3\n",
              "Rev.per.mile           6\n",
              "Man.trans.avail        5\n",
              "Fuel.tank.capacity     8\n",
              "Passengers             2\n",
              "Length                 4\n",
              "Wheelbase              1\n",
              "Width                  6\n",
              "Turn.circle            5\n",
              "Rear.seat.room         4\n",
              "Luggage.room          19\n",
              "Weight                 7\n",
              "Origin                 5\n",
              "Make                   3\n",
              "dtype: int64"
            ]
          },
          "metadata": {
            "tags": []
          },
          "execution_count": 63
        }
      ]
    },
    {
      "cell_type": "markdown",
      "metadata": {
        "id": "suuzAbGzhlX1"
      },
      "source": [
        "Замените пропущенные значения в колонке `Min.Price` средним значениям по этой колонке:"
      ]
    },
    {
      "cell_type": "code",
      "metadata": {
        "id": "JVSvCfgThTh3",
        "colab": {
          "base_uri": "https://localhost:8080/"
        },
        "outputId": "880c788a-3471-4c19-b240-17e311cde42d"
      },
      "source": [
        "df = pd.read_csv('https://raw.githubusercontent.com/Kail4eK/ml_edu/master/datasets/Cars93_miss.csv')\n",
        "\n",
        "# TODO - заполните NaN в колонке Min.Price средним значением по этой колонке\n",
        "# NOTE - после заполнения убедитесь, что в этой колонке нет пропущенных\n",
        "a1=df.mean(axis=0,skipna=1)['Min.Price']\n",
        "df['Min.Price'].fillna(a1, inplace=True)\n",
        "df['Min.Price'].isna().value_counts()"
      ],
      "execution_count": null,
      "outputs": [
        {
          "output_type": "execute_result",
          "data": {
            "text/plain": [
              "False    93\n",
              "Name: Min.Price, dtype: int64"
            ]
          },
          "metadata": {
            "tags": []
          },
          "execution_count": 84
        }
      ]
    },
    {
      "cell_type": "markdown",
      "metadata": {
        "id": "FMmDLiwxg3W1"
      },
      "source": [
        "Отсортируйте и выведите фрейм с колонками в алфавитном порядке:"
      ]
    },
    {
      "cell_type": "code",
      "metadata": {
        "id": "0rcW6H5qf70T",
        "colab": {
          "base_uri": "https://localhost:8080/",
          "height": 206
        },
        "outputId": "a9c617d9-376b-47e9-f3b7-06f3014d8aea"
      },
      "source": [
        "df = pd.DataFrame(np.random.randint(0, 10, size=(5, 6)), columns=list('fbecda'))\n",
        "df.sort_index(axis=1,ascending=False)\n",
        "# TODO - получите фрейм с отсортированными по именам колонкам (f e d c b a)\n",
        "# NOTE - сортировка должна быть автоматической"
      ],
      "execution_count": null,
      "outputs": [
        {
          "output_type": "execute_result",
          "data": {
            "text/html": [
              "<div>\n",
              "<style scoped>\n",
              "    .dataframe tbody tr th:only-of-type {\n",
              "        vertical-align: middle;\n",
              "    }\n",
              "\n",
              "    .dataframe tbody tr th {\n",
              "        vertical-align: top;\n",
              "    }\n",
              "\n",
              "    .dataframe thead th {\n",
              "        text-align: right;\n",
              "    }\n",
              "</style>\n",
              "<table border=\"1\" class=\"dataframe\">\n",
              "  <thead>\n",
              "    <tr style=\"text-align: right;\">\n",
              "      <th></th>\n",
              "      <th>f</th>\n",
              "      <th>e</th>\n",
              "      <th>d</th>\n",
              "      <th>c</th>\n",
              "      <th>b</th>\n",
              "      <th>a</th>\n",
              "    </tr>\n",
              "  </thead>\n",
              "  <tbody>\n",
              "    <tr>\n",
              "      <th>0</th>\n",
              "      <td>3</td>\n",
              "      <td>4</td>\n",
              "      <td>3</td>\n",
              "      <td>7</td>\n",
              "      <td>6</td>\n",
              "      <td>2</td>\n",
              "    </tr>\n",
              "    <tr>\n",
              "      <th>1</th>\n",
              "      <td>1</td>\n",
              "      <td>0</td>\n",
              "      <td>2</td>\n",
              "      <td>0</td>\n",
              "      <td>9</td>\n",
              "      <td>5</td>\n",
              "    </tr>\n",
              "    <tr>\n",
              "      <th>2</th>\n",
              "      <td>6</td>\n",
              "      <td>3</td>\n",
              "      <td>4</td>\n",
              "      <td>3</td>\n",
              "      <td>5</td>\n",
              "      <td>3</td>\n",
              "    </tr>\n",
              "    <tr>\n",
              "      <th>3</th>\n",
              "      <td>2</td>\n",
              "      <td>8</td>\n",
              "      <td>7</td>\n",
              "      <td>8</td>\n",
              "      <td>5</td>\n",
              "      <td>2</td>\n",
              "    </tr>\n",
              "    <tr>\n",
              "      <th>4</th>\n",
              "      <td>4</td>\n",
              "      <td>2</td>\n",
              "      <td>4</td>\n",
              "      <td>2</td>\n",
              "      <td>5</td>\n",
              "      <td>3</td>\n",
              "    </tr>\n",
              "  </tbody>\n",
              "</table>\n",
              "</div>"
            ],
            "text/plain": [
              "   f  e  d  c  b  a\n",
              "0  3  4  3  7  6  2\n",
              "1  1  0  2  0  9  5\n",
              "2  6  3  4  3  5  3\n",
              "3  2  8  7  8  5  2\n",
              "4  4  2  4  2  5  3"
            ]
          },
          "metadata": {
            "tags": []
          },
          "execution_count": 88
        }
      ]
    },
    {
      "cell_type": "markdown",
      "metadata": {
        "id": "sRobyGHAjlRm"
      },
      "source": [
        "Отобразите каждую 20ю запись во фрейме и только колонки `Manufacturer`, `Model`, `Type`:"
      ]
    },
    {
      "cell_type": "code",
      "metadata": {
        "id": "kNNS2B5ai9GU",
        "colab": {
          "base_uri": "https://localhost:8080/",
          "height": 206
        },
        "outputId": "e4744377-cfd0-4791-fc97-8a89e07d198e"
      },
      "source": [
        "df = pd.read_csv('https://raw.githubusercontent.com/Kail4eK/ml_edu/master/datasets/Cars93_miss.csv')\n",
        "\n",
        "# TODO - отобразите запись с периодичностью во фрейме и определенные колонки\n",
        "df.loc[lambda x: x.index % 20 == 0,['Manufacturer','Model', 'Type']]\n"
      ],
      "execution_count": null,
      "outputs": [
        {
          "output_type": "execute_result",
          "data": {
            "text/html": [
              "<div>\n",
              "<style scoped>\n",
              "    .dataframe tbody tr th:only-of-type {\n",
              "        vertical-align: middle;\n",
              "    }\n",
              "\n",
              "    .dataframe tbody tr th {\n",
              "        vertical-align: top;\n",
              "    }\n",
              "\n",
              "    .dataframe thead th {\n",
              "        text-align: right;\n",
              "    }\n",
              "</style>\n",
              "<table border=\"1\" class=\"dataframe\">\n",
              "  <thead>\n",
              "    <tr style=\"text-align: right;\">\n",
              "      <th></th>\n",
              "      <th>Manufacturer</th>\n",
              "      <th>Model</th>\n",
              "      <th>Type</th>\n",
              "    </tr>\n",
              "  </thead>\n",
              "  <tbody>\n",
              "    <tr>\n",
              "      <th>0</th>\n",
              "      <td>Acura</td>\n",
              "      <td>Integra</td>\n",
              "      <td>Small</td>\n",
              "    </tr>\n",
              "    <tr>\n",
              "      <th>20</th>\n",
              "      <td>Chrysler</td>\n",
              "      <td>LeBaron</td>\n",
              "      <td>Compact</td>\n",
              "    </tr>\n",
              "    <tr>\n",
              "      <th>40</th>\n",
              "      <td>Honda</td>\n",
              "      <td>Prelude</td>\n",
              "      <td>Sporty</td>\n",
              "    </tr>\n",
              "    <tr>\n",
              "      <th>60</th>\n",
              "      <td>Mercury</td>\n",
              "      <td>Cougar</td>\n",
              "      <td>Midsize</td>\n",
              "    </tr>\n",
              "    <tr>\n",
              "      <th>80</th>\n",
              "      <td>Subaru</td>\n",
              "      <td>Loyale</td>\n",
              "      <td>Small</td>\n",
              "    </tr>\n",
              "  </tbody>\n",
              "</table>\n",
              "</div>"
            ],
            "text/plain": [
              "   Manufacturer    Model     Type\n",
              "0         Acura  Integra    Small\n",
              "20     Chrysler  LeBaron  Compact\n",
              "40        Honda  Prelude   Sporty\n",
              "60      Mercury   Cougar  Midsize\n",
              "80       Subaru   Loyale    Small"
            ]
          },
          "metadata": {
            "tags": []
          },
          "execution_count": 141
        }
      ]
    },
    {
      "cell_type": "markdown",
      "metadata": {
        "id": "im7s33LdkZPq"
      },
      "source": [
        "Получите ряд, который содержит длины строк:"
      ]
    },
    {
      "cell_type": "code",
      "metadata": {
        "id": "WKREEgzYj9Dv",
        "colab": {
          "base_uri": "https://localhost:8080/"
        },
        "outputId": "468cfe67-f09e-48f8-e245-9653e84138e9"
      },
      "source": [
        "ds = pd.Series(['how', 'to', 'use', 'pandas?'])\n",
        "\n",
        "ds.str.len()\n",
        "# TODO - создайте ряд, содержащий длины строк:\n",
        "# 0    3\n",
        "# 1    2\n",
        "# 2    3\n",
        "# 3    7\n",
        "# dtype: int64"
      ],
      "execution_count": null,
      "outputs": [
        {
          "output_type": "execute_result",
          "data": {
            "text/plain": [
              "0    3\n",
              "1    2\n",
              "2    3\n",
              "3    7\n",
              "dtype: int64"
            ]
          },
          "metadata": {
            "tags": []
          },
          "execution_count": 168
        }
      ]
    },
    {
      "cell_type": "code",
      "metadata": {
        "id": "C7LrZvzjmjdE"
      },
      "source": [
        ""
      ],
      "execution_count": null,
      "outputs": []
    }
  ]
}